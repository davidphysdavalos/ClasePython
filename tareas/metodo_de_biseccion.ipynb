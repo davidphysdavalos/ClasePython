{
 "metadata": {
  "name": ""
 },
 "nbformat": 3,
 "nbformat_minor": 0,
 "worksheets": [
  {
   "cells": [
    {
     "cell_type": "code",
     "collapsed": false,
     "input": [
      "import numpy as np"
     ],
     "language": "python",
     "metadata": {},
     "outputs": [],
     "prompt_number": 1
    },
    {
     "cell_type": "code",
     "collapsed": false,
     "input": [
      "def Biseccion(f,xmin,xmax):\n",
      "    \n",
      "    \n",
      "    \n",
      "    if f(xmax)==0:\n",
      "        \n",
      "        return xmax\n",
      "    if f(xmin)==0:\n",
      "        \n",
      "        return xmin\n",
      "    \n",
      "    \n",
      "    m=1\n",
      "    \n",
      "    root=xmin\n",
      "    \n",
      "    while m == 1:\n",
      "        c=0.5*(xmax+xmin)\n",
      "        \n",
      "        if np.sign(f(xmin)) != np.sign(f(xmax)):\n",
      "            \n",
      "            \n",
      "            if root == c:\n",
      "                \n",
      "                m=0\n",
      "                \n",
      "                return c\n",
      "            \n",
      "            root=c\n",
      "            \n",
      "        else:\n",
      "            \n",
      "            print('Error: el intervalo no tiene raices de la funcion')\n",
      "            \n",
      "            break\n",
      "            \n",
      "        if np.sign(f(xmin))!= np.sign(f(c)):\n",
      "            \n",
      "            xmax=c\n",
      "            \n",
      "        else:\n",
      "            \n",
      "            xmin=c"
     ],
     "language": "python",
     "metadata": {},
     "outputs": [],
     "prompt_number": 28
    },
    {
     "cell_type": "code",
     "collapsed": false,
     "input": [
      "def f(x):\n",
      "    \n",
      "    return x**2"
     ],
     "language": "python",
     "metadata": {},
     "outputs": [],
     "prompt_number": 29
    },
    {
     "cell_type": "code",
     "collapsed": false,
     "input": [
      "Biseccion(np.tan, -3, 0)"
     ],
     "language": "python",
     "metadata": {},
     "outputs": [
      {
       "metadata": {},
       "output_type": "pyout",
       "prompt_number": 32,
       "text": [
        "0"
       ]
      }
     ],
     "prompt_number": 32
    },
    {
     "cell_type": "code",
     "collapsed": false,
     "input": [
      "np.tan(_)"
     ],
     "language": "python",
     "metadata": {},
     "outputs": [
      {
       "metadata": {},
       "output_type": "pyout",
       "prompt_number": 33,
       "text": [
        "0.0"
       ]
      }
     ],
     "prompt_number": 33
    }
   ],
   "metadata": {}
  }
 ]
}
