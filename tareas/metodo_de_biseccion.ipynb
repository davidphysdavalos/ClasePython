{
 "metadata": {
  "name": ""
 },
 "nbformat": 3,
 "nbformat_minor": 0,
 "worksheets": [
  {
   "cells": [
    {
     "cell_type": "code",
     "collapsed": false,
     "input": [
      "import numpy as np"
     ],
     "language": "python",
     "metadata": {},
     "outputs": [],
     "prompt_number": 1
    },
    {
     "cell_type": "code",
     "collapsed": false,
     "input": [
      "def Biseccion(f,xmin,xmax):\n",
      "    m=1\n",
      "    root=xmin\n",
      "    while m==1:\n",
      "        c=0.5*(xmax+xmin)\n",
      "        \n",
      "        if np.sign(f(xmin))!=np.sign(f(xmax)):\n",
      "            \n",
      "            \n",
      "            if root==c:\n",
      "                \n",
      "                m=0\n",
      "                \n",
      "                return c\n",
      "            \n",
      "            root=c\n",
      "            \n",
      "        else:\n",
      "            \n",
      "            print('Error: el intervalo no tiene raices de la funcion')\n",
      "            \n",
      "            break\n",
      "            \n",
      "        if np.sign(f(xmin))!= np.sign(f(c)):\n",
      "            \n",
      "            xmax=c\n",
      "            \n",
      "        else:\n",
      "            \n",
      "            xmin=c"
     ],
     "language": "python",
     "metadata": {},
     "outputs": [],
     "prompt_number": 48
    },
    {
     "cell_type": "code",
     "collapsed": false,
     "input": [
      "def f(x):\n",
      "    \n",
      "    return x**2+2"
     ],
     "language": "python",
     "metadata": {},
     "outputs": [],
     "prompt_number": 45
    },
    {
     "cell_type": "code",
     "collapsed": false,
     "input": [
      "root1=Biseccion(f,-3,0)\n",
      "#print repr(f(root1))"
     ],
     "language": "python",
     "metadata": {},
     "outputs": [
      {
       "output_type": "stream",
       "stream": "stdout",
       "text": [
        "Error: el intervalo no tiene raices de la funcion\n"
       ]
      }
     ],
     "prompt_number": 49
    },
    {
     "cell_type": "code",
     "collapsed": false,
     "input": [
      "_**2"
     ],
     "language": "python",
     "metadata": {},
     "outputs": [
      {
       "metadata": {},
       "output_type": "pyout",
       "prompt_number": 23,
       "text": [
        "1.9999999999999996"
       ]
      }
     ],
     "prompt_number": 23
    },
    {
     "cell_type": "code",
     "collapsed": false,
     "input": [],
     "language": "python",
     "metadata": {},
     "outputs": []
    }
   ],
   "metadata": {}
  }
 ]
}
