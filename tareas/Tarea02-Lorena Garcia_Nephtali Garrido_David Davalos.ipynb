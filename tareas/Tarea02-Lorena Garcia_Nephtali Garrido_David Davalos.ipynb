{
 "metadata": {
  "name": "Tarea02-Lorena Garcia_Nephtali Garrido_David Davalos"
 },
 "nbformat": 3,
 "nbformat_minor": 0,
 "worksheets": [
  {
   "cells": [
    {
     "cell_type": "heading",
     "level": 1,
     "metadata": {},
     "source": [
      "Tarea 2: Usando librer\u00edas de python"
     ]
    },
    {
     "cell_type": "markdown",
     "metadata": {},
     "source": [
      "**REGLAS:** (casi id\u00e9nticas a la semana anterior)\n",
      "\n",
      "- Usa Python para llevar a cabo las tareas\n",
      "\n",
      "- S\u00ed se permite el trabajo colaborativo, y de hecho se fomenta, pero se exige el uso de las neuronas de todos los que colaboren. Se vale entregar una sola tarea por grupo de 2 o (si es necesario) 3 personas.\n",
      "\n",
      "- La tarea se entrega como un *notebook* de IPython, y debe incluir notas, comentario y **TODO** lo est\u00e9ticamente necesario, que lo haga entendible para una tercer persona no involucrada en el curso. \n",
      "\n",
      "- Se recomienda usar una versi\u00f3n nueva de este mismo notebook, reemplazando \"[Respuestas aqu\u00ed]\" por tu discusi\u00f3n, c\u00f3digo, y resultados (en los tipos de celda que convengan, y con el n\u00famero de ellos que haga falta).\n",
      "\n",
      "- Cambia el nombre del notebook para reflejar el nombre que escojan para su grupo de trabajo, e.g. \"Tarea-01-profes\"\n",
      "\n",
      "- S\u00fabela a tu cuenta de github y haznos saber la direcci\u00f3n."
     ]
    },
    {
     "cell_type": "heading",
     "level": 2,
     "metadata": {},
     "source": [
      "Paquetes usados en el notebook"
     ]
    },
    {
     "cell_type": "code",
     "collapsed": false,
     "input": [
      "import matplotlib.pyplot as plt\n",
      "import numpy as np\n",
      "import sympy as sym\n",
      "from sympy.mpmath import *\n",
      "from sympy import Rational as Q\n",
      "from scipy import integrate"
     ],
     "language": "python",
     "metadata": {},
     "outputs": [
      {
       "ename": "ImportError",
       "evalue": "No module named sympy",
       "output_type": "pyerr",
       "traceback": [
        "\u001b[1;31m---------------------------------------------------------------------------\u001b[0m\n\u001b[1;31mImportError\u001b[0m                               Traceback (most recent call last)",
        "\u001b[1;32m<ipython-input-1-68f816491293>\u001b[0m in \u001b[0;36m<module>\u001b[1;34m()\u001b[0m\n\u001b[0;32m      1\u001b[0m \u001b[1;32mimport\u001b[0m \u001b[0mmatplotlib\u001b[0m\u001b[1;33m.\u001b[0m\u001b[0mpyplot\u001b[0m \u001b[1;32mas\u001b[0m \u001b[0mplt\u001b[0m\u001b[1;33m\u001b[0m\u001b[0m\n\u001b[0;32m      2\u001b[0m \u001b[1;32mimport\u001b[0m \u001b[0mnumpy\u001b[0m \u001b[1;32mas\u001b[0m \u001b[0mnp\u001b[0m\u001b[1;33m\u001b[0m\u001b[0m\n\u001b[1;32m----> 3\u001b[1;33m \u001b[1;32mimport\u001b[0m \u001b[0msympy\u001b[0m \u001b[1;32mas\u001b[0m \u001b[0msym\u001b[0m\u001b[1;33m\u001b[0m\u001b[0m\n\u001b[0m\u001b[0;32m      4\u001b[0m \u001b[1;32mfrom\u001b[0m \u001b[0msympy\u001b[0m\u001b[1;33m.\u001b[0m\u001b[0mmpmath\u001b[0m \u001b[1;32mimport\u001b[0m \u001b[1;33m*\u001b[0m\u001b[1;33m\u001b[0m\u001b[0m\n\u001b[0;32m      5\u001b[0m \u001b[1;32mfrom\u001b[0m \u001b[0msympy\u001b[0m \u001b[1;32mimport\u001b[0m \u001b[0mRational\u001b[0m \u001b[1;32mas\u001b[0m \u001b[0mQ\u001b[0m\u001b[1;33m\u001b[0m\u001b[0m\n",
        "\u001b[1;31mImportError\u001b[0m: No module named sympy"
       ]
      }
     ],
     "prompt_number": 1
    },
    {
     "cell_type": "markdown",
     "metadata": {},
     "source": [
      "**1.** \n",
      "\n",
      "a. Eval\u00faa la funci\u00f3n racional\n",
      "$$\n",
      "R(x,y)= \\textstyle \\frac{33375}{100} y^6 + x^2 (11 x^2 y^2 - y^6 - 121 y^4 - 2) + \\frac{55}{10}y^8 + \\frac{x}{2 y}\n",
      "$$\n",
      "en los valores (enteros) $x=77617$ y $y=33096$. \n",
      "\n",
      "b. Verifica tu respuesta usando precisi\u00f3n extendida (librer\u00eda `mpmath` de `sympy`), digamos, con 30, 60, y 80 d\u00edgitos.\n",
      "\n",
      "c. Dado que se trata de una funci\u00f3n racional, uno esperar\u00eda que $R(77617,33096)$ sea un valor racional. \u00bfQu\u00e9 valor num\u00e9rico obtienes si utilizas la librer\u00eda `Rational` de `sympy`?\n"
     ]
    },
    {
     "cell_type": "heading",
     "level": 3,
     "metadata": {},
     "source": [
      "Inciso a"
     ]
    },
    {
     "cell_type": "markdown",
     "metadata": {},
     "source": [
      "En esta parte se define la funcion a evaluar:"
     ]
    },
    {
     "cell_type": "code",
     "collapsed": false,
     "input": [
      "def R(x,y):\n",
      "    return (33375.0/100)*(y**6)+(x**2)*(11.0*(x**2)*(y**2)-(y**6)-121.0*(y**4)-2)+(55.0/10)*(y**8)+x/(2*y)"
     ],
     "language": "python",
     "metadata": {},
     "outputs": [],
     "prompt_number": 12
    },
    {
     "cell_type": "code",
     "collapsed": false,
     "input": [
      "#Evaluacion de la funcion\n",
      "\n",
      "R(77617,33096)"
     ],
     "language": "python",
     "metadata": {},
     "outputs": [
      {
       "output_type": "pyout",
       "prompt_number": 13,
       "text": [
        "-1.1805916207174113e+21"
       ]
      }
     ],
     "prompt_number": 13
    },
    {
     "cell_type": "heading",
     "level": 3,
     "metadata": {},
     "source": [
      "Inciso b"
     ]
    },
    {
     "cell_type": "markdown",
     "metadata": {},
     "source": [
      "Verificacion del resultado con la libreria mpmath: en comparacion con el resultado racional, se observa que cuando uno le pide 30 cifras no nos hemos acercado al resultado correcto, de hecho, hasta 36 cifras nos acercamos, ademas evidentemente el resultado del inciso a esta mal."
     ]
    },
    {
     "cell_type": "code",
     "collapsed": false,
     "input": [
      "#Resultado con 30 cifras\n",
      "mp.dps=30\n",
      "print R(mpf(77617.0),mpf(33096.0))"
     ],
     "language": "python",
     "metadata": {},
     "outputs": [
      {
       "output_type": "stream",
       "stream": "stdout",
       "text": [
        "1.17260394005317863185883490452\n"
       ]
      }
     ],
     "prompt_number": 15
    },
    {
     "cell_type": "code",
     "collapsed": false,
     "input": [
      "#Resultado con 36 cifras\n",
      "mp.dps=36\n",
      "print R(mpf(77617.0),mpf(33096.0))"
     ],
     "language": "python",
     "metadata": {},
     "outputs": [
      {
       "output_type": "stream",
       "stream": "stdout",
       "text": [
        "-0.827396059946821368141165095479816292\n"
       ]
      }
     ],
     "prompt_number": 16
    },
    {
     "cell_type": "code",
     "collapsed": false,
     "input": [
      "#Resultado con 60 cifras\n",
      "mp.dps=60\n",
      "print R(mpf(77617.0),mpf(33096.0))"
     ],
     "language": "python",
     "metadata": {},
     "outputs": [
      {
       "output_type": "stream",
       "stream": "stdout",
       "text": [
        "-0.827396059946821368141165095479816291999033115784384819917815\n"
       ]
      }
     ],
     "prompt_number": 17
    },
    {
     "cell_type": "code",
     "collapsed": false,
     "input": [
      "#Resultado con 80 cifras\n",
      "mp.dps=80\n",
      "print R(mpf(77617.0),mpf(33096.0))"
     ],
     "language": "python",
     "metadata": {},
     "outputs": [
      {
       "output_type": "stream",
       "stream": "stdout",
       "text": [
        "-0.82739605994682136814116509547981629199903311578438481991781484167270969301426154\n"
       ]
      }
     ],
     "prompt_number": 18
    },
    {
     "cell_type": "heading",
     "level": 2,
     "metadata": {},
     "source": [
      "Inciso c"
     ]
    },
    {
     "cell_type": "code",
     "collapsed": false,
     "input": [
      "#Definicion de la funcion usando la libreria Rational (importada como Q)\n",
      "\n",
      "def RQ(x,y):\n",
      "    return Q(33375,100)*y**6+x**2*(Q(11)*x**2*y**2-y**6-Q(121)*y**4-Q(2))+Q(55,10)*y**8+Q(x,2*y)"
     ],
     "language": "python",
     "metadata": {},
     "outputs": [],
     "prompt_number": 19
    },
    {
     "cell_type": "code",
     "collapsed": false,
     "input": [
      "#Evaluacion de la funcion expresando el valor en forma racional\n",
      "\n",
      "RQ(77617,33096)"
     ],
     "language": "python",
     "metadata": {},
     "outputs": [
      {
       "output_type": "pyout",
       "prompt_number": 20,
       "text": [
        "-54767/66192"
       ]
      }
     ],
     "prompt_number": 20
    },
    {
     "cell_type": "code",
     "collapsed": false,
     "input": [
      "#resultado en decimales\n",
      "\n",
      "mpf(_)"
     ],
     "language": "python",
     "metadata": {},
     "outputs": [
      {
       "output_type": "pyout",
       "prompt_number": 21,
       "text": [
        "mpf('-0.82739605994682136814116509547981629199903311578438481991781484167270969301426154208')"
       ]
      }
     ],
     "prompt_number": 21
    },
    {
     "cell_type": "markdown",
     "metadata": {},
     "source": [
      "**2.** \n",
      "\n",
      "Eval\u00faa num\u00e9ricamente (usando herramientas de Python) la integral\n",
      "$$\n",
      "I_1 = \\int_0^1 \\frac{1}{\\sqrt{\\pi}} \\exp \\left( -x^2 \\right) \\, dx\n",
      "$$"
     ]
    },
    {
     "cell_type": "markdown",
     "metadata": {},
     "source": [
      "**Se utiliza el paquete integrate de scipy. Este paquete incluye varias utilidades para integrar. En este caso se trata de una integraci\u00f3n general en una variable, por lo que la funci\u00f3n que necesitamos es integrate.quad(). V\u00e9ase la documentaci\u00f3n de SciPy: http://docs.scipy.org/doc/scipy/reference/tutorial/integrate.html **"
     ]
    },
    {
     "cell_type": "code",
     "collapsed": false,
     "input": [
      "#Evaluacion de la integral\n",
      "\n",
      "print integrate.quad(lambda x: np.exp(-(x**2)) / (np.sqrt(np.pi)), 0, 1)"
     ],
     "language": "python",
     "metadata": {},
     "outputs": [
      {
       "output_type": "stream",
       "stream": "stdout",
       "text": [
        "(0.42135039647485745, 4.677929116013252e-15)\n"
       ]
      }
     ],
     "prompt_number": 36
    },
    {
     "cell_type": "markdown",
     "metadata": {},
     "source": [
      "**3.** \n",
      "\n",
      "a. Dibuja la funci\u00f3n \n",
      "$$\n",
      "f(x) = x^{-1} \\cos \\left( x^{-1} \\log{x} \\right)\n",
      "$$\n",
      "en el intervalo [0,1].\n",
      "\n",
      "b. Calcula ahora el *valor num\u00e9rico* de\n",
      "$$\n",
      "\\lim_{\\epsilon\\to 0} \\int_\\epsilon^1 f(x) \\, dx\n",
      "$$\n",
      "\n",
      "c. \u00bfC\u00f3mo podr\u00edas verificar si el valor num\u00e9rico que obtuviste es correcto en 10 decimales?"
     ]
    },
    {
     "cell_type": "code",
     "collapsed": false,
     "input": [
      "# No se escoge el cero debido a la singularidad de la funcion\n",
      "x=np.linspace(0.000001,1,100000)\n",
      "y=np.cos(np.log(x)/x)/x"
     ],
     "language": "python",
     "metadata": {},
     "outputs": [],
     "prompt_number": 8
    },
    {
     "cell_type": "markdown",
     "metadata": {},
     "source": [
      "Ademas debido a que la funci\u00f3n var\u00eda enormemente cerca de cero (No converge a ning\u00fan valor debido a las oscilaciones del coseno), para observar mejor los detalles se especifica el valor del eje vertical:"
     ]
    },
    {
     "cell_type": "code",
     "collapsed": false,
     "input": [
      "plt.figure()\n",
      "# Se escogen los valores del eje vertial:\n",
      "plt.axis([0,1,-15,15])\n",
      "plt.plot(x,y)\n",
      "plt.ylabel('$ x^{-1}\\cos ( x^{-1} \\log x ) $',fontsize=20)\n",
      "plt.xlabel('$x$',fontsize=20)\n",
      "plt.show()"
     ],
     "language": "python",
     "metadata": {},
     "outputs": [
      {
       "output_type": "display_data",
       "png": "[encoded data removed]"
      }
     ],
     "prompt_number": 22
    },
    {
     "cell_type": "heading",
     "level": 3,
     "metadata": {},
     "source": [
      "Inciso b:"
     ]
    },
    {
     "cell_type": "heading",
     "level": 4,
     "metadata": {},
     "source": [
      "Integrando la funcion usando el paquete integrate de scipy:"
     ]
    },
    {
     "cell_type": "markdown",
     "metadata": {},
     "source": [
      "Usando el comando quad obtenemos un resultado con un error muy grande entre las dos ultimas interaciones sucesivas"
     ]
    },
    {
     "cell_type": "code",
     "collapsed": false,
     "input": [
      "print integrate.quad(lambda x: np.cos(np.log(x)/x)/x,0,1)"
     ],
     "language": "python",
     "metadata": {},
     "outputs": [
      {
       "output_type": "stream",
       "stream": "stdout",
       "text": [
        "(1.2716741383488024, 1.9276166879370784)\n"
       ]
      }
     ],
     "prompt_number": 35
    },
    {
     "cell_type": "markdown",
     "metadata": {},
     "source": [
      "Ahora sin tomar la singularidad:"
     ]
    },
    {
     "cell_type": "code",
     "collapsed": false,
     "input": [
      "print integrate.quad(lambda x: np.cos(np.log(x)/x)/x,0.000000000001,1)"
     ],
     "language": "python",
     "metadata": {},
     "outputs": [
      {
       "output_type": "stream",
       "stream": "stdout",
       "text": [
        "(1.3234960560502997, 2.9718572268600583)\n"
       ]
      }
     ],
     "prompt_number": 34
    },
    {
     "cell_type": "markdown",
     "metadata": {},
     "source": [
      "Si tomamos en el metodo anterior diferentes valores del $\\epsilon$ obtenemos valores muy diferentes de la integral, asi como valores diferentes en las dos ultimas iteraciones, esto es debido a las grandes oscilaciones del integrando."
     ]
    },
    {
     "cell_type": "heading",
     "level": 4,
     "metadata": {},
     "source": [
      "Comando quadrature"
     ]
    },
    {
     "cell_type": "markdown",
     "metadata": {},
     "source": [
      "Este comando permite una cuadratura adaptativa"
     ]
    },
    {
     "cell_type": "code",
     "collapsed": false,
     "input": [
      "print integrate.quadrature(lambda x: np.cos(np.log(x)/x)/x,0,1)"
     ],
     "language": "python",
     "metadata": {},
     "outputs": [
      {
       "output_type": "stream",
       "stream": "stdout",
       "text": [
        "(3.1543401162964666, 1.2840839813343954)\n"
       ]
      },
      {
       "output_type": "stream",
       "stream": "stderr",
       "text": [
        "/home/david/anaconda/lib/python2.7/site-packages/scipy/integrate/quadrature.py:170: AccuracyWarning: maxiter (50) exceeded. Latest difference = 1.284084e+00\n",
        "  AccuracyWarning)\n"
       ]
      }
     ],
     "prompt_number": 33
    },
    {
     "cell_type": "markdown",
     "metadata": {},
     "source": [
      "Sin embargo la diferencia entre las dos ultimos resultados sucesivos de la integral sigue siendo grande (1.2840839813343954), aumentando ahora el numero maximo de iteraciones:"
     ]
    },
    {
     "cell_type": "code",
     "collapsed": false,
     "input": [
      "print integrate.quadrature(lambda x: np.cos(np.log(x)/x)/x,0,1,maxiter=300)"
     ],
     "language": "python",
     "metadata": {},
     "outputs": [
      {
       "output_type": "stream",
       "stream": "stdout",
       "text": [
        "(-2.6631819086062727, 1.0773750173673677)\n"
       ]
      }
     ],
     "prompt_number": 32
    },
    {
     "cell_type": "markdown",
     "metadata": {},
     "source": [
      "El valor del error sigue siendo muy grande"
     ]
    },
    {
     "cell_type": "heading",
     "level": 4,
     "metadata": {},
     "source": [
      "Rutina Romberg"
     ]
    },
    {
     "cell_type": "markdown",
     "metadata": {},
     "source": [
      "La rutina Romberg no permite tomar la singularidad"
     ]
    },
    {
     "cell_type": "code",
     "collapsed": false,
     "input": [
      "print integrate.romberg(lambda x: np.cos(np.log(x)/x)/x,0.01,1)"
     ],
     "language": "python",
     "metadata": {},
     "outputs": [
      {
       "output_type": "stream",
       "stream": "stdout",
       "text": [
        "0.565619352662\n"
       ]
      }
     ],
     "prompt_number": 31
    },
    {
     "cell_type": "markdown",
     "metadata": {},
     "source": [
      "A continuacion se usa la rutina *romberg* especificando la tolerancia y el orden de extrapolacion, obteniendo asi un resultado aun mas cercano al de wolfram: http://www.wolframalpha.com/input/?i=integrate%28cos%28log%28x%29%2Fx%29%2Fx%2Cx%2C0%2C1%29"
     ]
    },
    {
     "cell_type": "code",
     "collapsed": false,
     "input": [
      "print integrate.romberg(lambda x: np.cos(np.log(x)/x)/x,0.01,1,tol=1.0e-20,divmax=100)"
     ],
     "language": "python",
     "metadata": {},
     "outputs": [
      {
       "output_type": "stream",
       "stream": "stdout",
       "text": [
        "0.325086092093\n"
       ]
      }
     ],
     "prompt_number": 30
    },
    {
     "cell_type": "heading",
     "level": 3,
     "metadata": {},
     "source": [
      "Inciso c"
     ]
    },
    {
     "cell_type": "markdown",
     "metadata": {},
     "source": [
      "Para fin de comprobar si los resultados son proximos al valor correcto de la integral, usamos las rutinas de *mpmath*"
     ]
    },
    {
     "cell_type": "code",
     "collapsed": false,
     "input": [
      "#Tomando la singularidad... sigue dando un error grande..\n",
      "mp.dps=10\n",
      "result = quad(lambda x: mp.cos(mp.log(x)/x)/x, [0,1] ,error=True)\n",
      "print result"
     ],
     "language": "python",
     "metadata": {},
     "outputs": [
      {
       "output_type": "stream",
       "stream": "stdout",
       "text": [
        "(mpf('0.6579492143355'), mpf('1.0'))\n"
       ]
      }
     ],
     "prompt_number": 25
    },
    {
     "cell_type": "markdown",
     "metadata": {},
     "source": [
      "Usamos ahora algun metodo adecuado para las singularidad:"
     ]
    },
    {
     "cell_type": "code",
     "collapsed": false,
     "input": [
      "#A\u00f1adiendo la singularidad\n",
      "\n",
      "mp.dps=10\n",
      "print quad(lambda x: mp.cos(mp.log(x)/x)/x, [0,1] ,error=True, method='gauss-legendre')"
     ],
     "language": "python",
     "metadata": {},
     "outputs": [
      {
       "output_type": "stream",
       "stream": "stdout",
       "text": [
        "(mpf('-0.3315136645651'), mpf('1.0'))\n"
       ]
      }
     ],
     "prompt_number": 47
    },
    {
     "cell_type": "code",
     "collapsed": false,
     "input": [
      "#Quitando la singularidad y escogiendo un epsilon peque\u00f1o\n",
      "\n",
      "mp.dps=10\n",
      "print quad(lambda x: mp.cos(mp.log(x)/x)/x, [0.1e-30,1] ,error=True, method='gauss-legendre')"
     ],
     "language": "python",
     "metadata": {},
     "outputs": [
      {
       "output_type": "stream",
       "stream": "stdout",
       "text": [
        "(mpf('-0.3315136645651'), mpf('1.0'))\n"
       ]
      }
     ],
     "prompt_number": 48
    },
    {
     "cell_type": "markdown",
     "metadata": {},
     "source": [
      "En las pruebas anteriores nos acercamos al resultado de Wolfram pero por los negativos, sin embargo el metodo siempre arroja un error relativamente grande al resultado"
     ]
    },
    {
     "cell_type": "markdown",
     "metadata": {},
     "source": [
      "Dividiendo el intervalo de integracion de la funcion como lo sugiere la documentacion en el caso de tener singularidades obtenemos:"
     ]
    },
    {
     "cell_type": "code",
     "collapsed": false,
     "input": [
      "#A\u00f1adiendo la singularidad:\n",
      "mp.dps=10\n",
      "result = quad(lambda x: mp.cos(mp.log(x)/x)/x, [0,0.0001,0.00001,1] ,error=True, method='gauss-legendre')\n",
      "print result"
     ],
     "language": "python",
     "metadata": {},
     "outputs": [
      {
       "output_type": "stream",
       "stream": "stdout",
       "text": [
        "(mpf('5.314092860383'), mpf('1.0'))\n"
       ]
      }
     ],
     "prompt_number": 64
    },
    {
     "cell_type": "code",
     "collapsed": false,
     "input": [
      "#Quitando la singularidad y poniendo un epsilon peque\u00f1o\n",
      "\n",
      "mp.dps=10\n",
      "result = quad(lambda x: mp.cos(mp.log(x)/x)/x, [0.00000001,0.000001,0.00001,1] ,error=True, method='gauss-legendre')\n",
      "print result"
     ],
     "language": "python",
     "metadata": {},
     "outputs": [
      {
       "output_type": "stream",
       "stream": "stdout",
       "text": [
        "(mpf('2.517777400906'), mpf('1.0'))\n"
       ]
      }
     ],
     "prompt_number": 65
    },
    {
     "cell_type": "code",
     "collapsed": false,
     "input": [
      "#Tomando la singularidad y dividiendo el intervalo de integracion en 100 partes:\n",
      "mp.dps=10\n",
      "inter=np.linspace(0,1,100)\n",
      "print quad(lambda x: mp.cos(mp.log(x)/x)/x, inter ,error=True)"
     ],
     "language": "python",
     "metadata": {},
     "outputs": [
      {
       "output_type": "stream",
       "stream": "stdout",
       "text": [
        "(mpf('0.2848186740812'), mpf('1.0e-30'))\n"
       ]
      }
     ],
     "prompt_number": 66
    },
    {
     "cell_type": "code",
     "collapsed": false,
     "input": [
      "#Tomando la singularidad y dividiendo el intervalo de integracion en 1000 partes:\n",
      "mp.dps=10\n",
      "inter=np.linspace(0,1,1000)\n",
      "print quad(lambda x: mp.cos(mp.log(x)/x)/x, inter ,error=True)"
     ],
     "language": "python",
     "metadata": {},
     "outputs": [
      {
       "output_type": "stream",
       "stream": "stdout",
       "text": [
        "(mpf('-0.268902620428'), mpf('1.0e-31'))\n"
       ]
      }
     ],
     "prompt_number": 67
    },
    {
     "cell_type": "code",
     "collapsed": false,
     "input": [
      "mp.dps=10\n",
      "inter=np.linspace(0.06,1,100)\n",
      "print quad(lambda x: mp.cos(mp.log(x)/x)/x, inter ,error=True)"
     ],
     "language": "python",
     "metadata": {},
     "outputs": [
      {
       "output_type": "stream",
       "stream": "stdout",
       "text": [
        "(mpf('0.3273115534066'), mpf('1.0e-32'))\n"
       ]
      }
     ],
     "prompt_number": 80
    },
    {
     "cell_type": "markdown",
     "metadata": {},
     "source": [
      "El valor anterior ya es muy cercano al valor de Wolfram, y el error entre las ultimas dos iteraciones es peque\u00f1o"
     ]
    },
    {
     "cell_type": "code",
     "collapsed": false,
     "input": [
      "#Lo mismo de antes pero eligiendo el maxdegree y el metodo de integracion a Gauss-Legendre.... \n",
      "#el valor no cambia a 10 decimales\n",
      "\n",
      "mp.dps=10\n",
      "inter=np.linspace(0.06,1,100)\n",
      "print quad(lambda x: mp.cos(mp.log(x)/x)/x, inter ,error=True,maxdegree=100, method='gauss-legendre')"
     ],
     "language": "python",
     "metadata": {},
     "outputs": [
      {
       "output_type": "stream",
       "stream": "stdout",
       "text": [
        "(mpf('0.3273115534066'), mpf('1.0e-32'))\n"
       ]
      }
     ],
     "prompt_number": 81
    },
    {
     "cell_type": "code",
     "collapsed": false,
     "input": [
      "#Usando el metodo Tanh-Sinh tampoco cambia el resultado\n",
      "\n",
      "mp.dps=10\n",
      "inter=np.linspace(0.06,1,100)\n",
      "print quad(lambda x: mp.cos(mp.log(x)/x)/x, inter ,error=True,maxdegree=100,method='tanh-sinh')"
     ],
     "language": "python",
     "metadata": {},
     "outputs": [
      {
       "output_type": "stream",
       "stream": "stdout",
       "text": [
        "(mpf('0.3273115534066'), mpf('1.0e-30'))\n"
       ]
      }
     ],
     "prompt_number": 82
    },
    {
     "cell_type": "markdown",
     "metadata": {},
     "source": [
      "**4.**\n",
      "\n",
      "Completa las operaciones aritm\u00e9ticas (resta, multiplicaci\u00f3n y divisi\u00f3n) para la clase `Intervalo` que definimos en clase."
     ]
    }
   ],
   "metadata": {}
  }
 ]
}
