{
 "metadata": {
  "name": "testingIntervalo"
 },
 "nbformat": 3,
 "nbformat_minor": 0,
 "worksheets": [
  {
   "cells": [
    {
     "cell_type": "code",
     "collapsed": false,
     "input": [
      "ls"
     ],
     "language": "python",
     "metadata": {},
     "outputs": [
      {
       "output_type": "stream",
       "stream": "stdout",
       "text": [
        "Integrando.nb\r\n",
        "libpeerconnection.log\r\n",
        "Pruebas para la integracion.ipynb\r\n",
        "Tarea01-David-Lorena_def.ipynb\r\n",
        "Tarea02-Lorena Garcia_Nephtali Garrido_David Davalos.ipynb\r\n",
        "tarea02-nephtali.ipynb\r\n",
        "tarea02-nephtali.ipynb~\r\n",
        "testingIntervalo.ipynb\r\n"
       ]
      }
     ],
     "prompt_number": 1
    },
    {
     "cell_type": "code",
     "collapsed": false,
     "input": [
      "cd--"
     ],
     "language": "python",
     "metadata": {},
     "outputs": [
      {
       "output_type": "stream",
       "stream": "stdout",
       "text": [
        "/home/david/Escritorio/Maestria/FisicaComputacional/Fisica Computacional avanzada/tareas\n"
       ]
      }
     ],
     "prompt_number": 9
    },
    {
     "cell_type": "code",
     "collapsed": false,
     "input": [
      "ls"
     ],
     "language": "python",
     "metadata": {},
     "outputs": [
      {
       "output_type": "stream",
       "stream": "stdout",
       "text": [
        "Integrando.nb\r\n",
        "libpeerconnection.log\r\n",
        "Pruebas para la integracion.ipynb\r\n",
        "Tarea01-David-Lorena_def.ipynb\r\n",
        "Tarea02-Lorena Garcia_Nephtali Garrido_David Davalos.ipynb\r\n",
        "tarea02-nephtali.ipynb\r\n",
        "tarea02-nephtali.ipynb~\r\n",
        "testingIntervalo.ipynb\r\n"
       ]
      }
     ],
     "prompt_number": 10
    },
    {
     "cell_type": "code",
     "collapsed": false,
     "input": [
      "cd --"
     ],
     "language": "python",
     "metadata": {},
     "outputs": [
      {
       "output_type": "stream",
       "stream": "stdout",
       "text": [
        "/home/david/Escritorio/Maestria/FisicaComputacional/Fisica Computacional avanzada/tareas\n"
       ]
      }
     ],
     "prompt_number": 12
    },
    {
     "cell_type": "code",
     "collapsed": false,
     "input": [],
     "language": "python",
     "metadata": {},
     "outputs": []
    }
   ],
   "metadata": {}
  }
 ]
}