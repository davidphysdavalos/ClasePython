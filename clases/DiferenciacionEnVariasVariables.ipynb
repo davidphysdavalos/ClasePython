{
 "metadata": {
  "name": ""
 },
 "nbformat": 3,
 "nbformat_minor": 0,
 "worksheets": [
  {
   "cells": [
    {
     "cell_type": "code",
     "collapsed": false,
     "input": [
      "def f(x, y):\n",
      "    \n",
      "    return x*x+2*y*y*y"
     ],
     "language": "python",
     "metadata": {},
     "outputs": [],
     "prompt_number": 8
    },
    {
     "cell_type": "code",
     "collapsed": false,
     "input": [
      "a, b= 1,2"
     ],
     "language": "python",
     "metadata": {},
     "outputs": [],
     "prompt_number": 9
    },
    {
     "cell_type": "code",
     "collapsed": false,
     "input": [
      "def g(x):\n",
      "    \n",
      "    return f(x, b)"
     ],
     "language": "python",
     "metadata": {},
     "outputs": [],
     "prompt_number": 10
    },
    {
     "cell_type": "code",
     "collapsed": false,
     "input": [
      "g(a)-f(a,b)"
     ],
     "language": "python",
     "metadata": {},
     "outputs": [
      {
       "metadata": {},
       "output_type": "pyout",
       "prompt_number": 11,
       "text": [
        "0"
       ]
      }
     ],
     "prompt_number": 11
    },
    {
     "cell_type": "code",
     "collapsed": false,
     "input": [
      "#Derivar g\n",
      "\n",
      "from difauto import *"
     ],
     "language": "python",
     "metadata": {},
     "outputs": [],
     "prompt_number": 12
    },
    {
     "cell_type": "code",
     "collapsed": false,
     "input": [
      "x=DifAuto(a,1)"
     ],
     "language": "python",
     "metadata": {},
     "outputs": [],
     "prompt_number": 13
    },
    {
     "cell_type": "code",
     "collapsed": false,
     "input": [
      "g(x)"
     ],
     "language": "python",
     "metadata": {},
     "outputs": [
      {
       "html": [
        "[17, 2]"
       ],
       "latex": [
        "$[17, 2]$"
       ],
       "metadata": {},
       "output_type": "pyout",
       "prompt_number": 14,
       "text": [
        "DifAuto [17,2]"
       ]
      }
     ],
     "prompt_number": 14
    },
    {
     "cell_type": "code",
     "collapsed": false,
     "input": [
      "g= lambda x: f(x,b)"
     ],
     "language": "python",
     "metadata": {},
     "outputs": [],
     "prompt_number": 15
    },
    {
     "cell_type": "code",
     "collapsed": false,
     "input": [
      "g(x)"
     ],
     "language": "python",
     "metadata": {},
     "outputs": [
      {
       "html": [
        "[17, 2]"
       ],
       "latex": [
        "$[17, 2]$"
       ],
       "metadata": {},
       "output_type": "pyout",
       "prompt_number": 16,
       "text": [
        "DifAuto [17,2]"
       ]
      }
     ],
     "prompt_number": 16
    },
    {
     "cell_type": "code",
     "collapsed": false,
     "input": [
      "gg= lambda b: lambda x: f(x,b)"
     ],
     "language": "python",
     "metadata": {},
     "outputs": [],
     "prompt_number": 18
    },
    {
     "cell_type": "code",
     "collapsed": false,
     "input": [
      "gg(3)(10)"
     ],
     "language": "python",
     "metadata": {},
     "outputs": [
      {
       "metadata": {},
       "output_type": "pyout",
       "prompt_number": 23,
       "text": [
        "154"
       ]
      }
     ],
     "prompt_number": 23
    },
    {
     "cell_type": "code",
     "collapsed": false,
     "input": [
      "x"
     ],
     "language": "python",
     "metadata": {},
     "outputs": [
      {
       "html": [
        "[1, [1 0]]"
       ],
       "latex": [
        "$[1, [1 0]]$"
       ],
       "metadata": {},
       "output_type": "pyout",
       "prompt_number": 42,
       "text": [
        "DifAuto [1,[1 0]]"
       ]
      }
     ],
     "prompt_number": 42
    },
    {
     "cell_type": "code",
     "collapsed": false,
     "input": [
      "gg(2)(x)"
     ],
     "language": "python",
     "metadata": {},
     "outputs": [
      {
       "html": [
        "[17, 2]"
       ],
       "latex": [
        "$[17, 2]$"
       ],
       "metadata": {},
       "output_type": "pyout",
       "prompt_number": 21,
       "text": [
        "DifAuto [17,2]"
       ]
      }
     ],
     "prompt_number": 21
    },
    {
     "cell_type": "code",
     "collapsed": false,
     "input": [
      "f(DifAuto(1,1),DifAuto(3,0))"
     ],
     "language": "python",
     "metadata": {},
     "outputs": [
      {
       "html": [
        "[55, 2]"
       ],
       "latex": [
        "$[55, 2]$"
       ],
       "metadata": {},
       "output_type": "pyout",
       "prompt_number": 25,
       "text": [
        "DifAuto [55,2]"
       ]
      }
     ],
     "prompt_number": 25
    },
    {
     "cell_type": "code",
     "collapsed": false,
     "input": [
      "f(DifAuto(1,0),DifAuto(3,1))"
     ],
     "language": "python",
     "metadata": {},
     "outputs": [
      {
       "html": [
        "[55, 54]"
       ],
       "latex": [
        "$[55, 54]$"
       ],
       "metadata": {},
       "output_type": "pyout",
       "prompt_number": 26,
       "text": [
        "DifAuto [55,54]"
       ]
      }
     ],
     "prompt_number": 26
    },
    {
     "cell_type": "code",
     "collapsed": false,
     "input": [
      "def der_parcial(f, n, a):\n",
      "    "
     ],
     "language": "python",
     "metadata": {},
     "outputs": []
    },
    {
     "cell_type": "code",
     "collapsed": false,
     "input": [
      "import numpy as np"
     ],
     "language": "python",
     "metadata": {},
     "outputs": [],
     "prompt_number": 33
    },
    {
     "cell_type": "code",
     "collapsed": false,
     "input": [
      "DifAuto(1,np.array([1,0]))"
     ],
     "language": "python",
     "metadata": {},
     "outputs": [
      {
       "html": [
        "[1, [1 0]]"
       ],
       "latex": [
        "$[1, [1 0]]$"
       ],
       "metadata": {},
       "output_type": "pyout",
       "prompt_number": 34,
       "text": [
        "DifAuto [1,[1 0]]"
       ]
      }
     ],
     "prompt_number": 34
    },
    {
     "cell_type": "code",
     "collapsed": false,
     "input": [
      "x=DifAuto(1,np.array([1,0]))\n",
      "y=DifAuto(2,np.array([0,1]))"
     ],
     "language": "python",
     "metadata": {},
     "outputs": [],
     "prompt_number": 36
    },
    {
     "cell_type": "code",
     "collapsed": false,
     "input": [
      "f(x,y)"
     ],
     "language": "python",
     "metadata": {},
     "outputs": [
      {
       "html": [
        "[17, [ 2 24]]"
       ],
       "latex": [
        "$[17, [ 2 24]]$"
       ],
       "metadata": {},
       "output_type": "pyout",
       "prompt_number": 37,
       "text": [
        "DifAuto [17,[ 2 24]]"
       ]
      }
     ],
     "prompt_number": 37
    },
    {
     "cell_type": "code",
     "collapsed": false,
     "input": [
      "exp(x+y)"
     ],
     "language": "python",
     "metadata": {},
     "outputs": [
      {
       "html": [
        "[20.0855369232, [ 20.08553692  20.08553692]]"
       ],
       "latex": [
        "$[20.0855369232, [ 20.08553692  20.08553692]]$"
       ],
       "metadata": {},
       "output_type": "pyout",
       "prompt_number": 48,
       "text": [
        "DifAuto [20.0855369232,[ 20.08553692  20.08553692]]"
       ]
      }
     ],
     "prompt_number": 48
    },
    {
     "cell_type": "heading",
     "level": 2,
     "metadata": {},
     "source": [
      "Metodo de Krawczyk"
     ]
    },
    {
     "cell_type": "markdown",
     "metadata": {},
     "source": [
      "Evita dividir entre $F'([x])$: \n",
      "\n",
      "Queremos encontrar raiz $x^{*} \\in [x]$\n",
      "\n",
      "Tenemos $f(x)=f(x^{*}+f'(\\zeta)\\bullet (x-x^{*})$ para alguna $\\zeta \\in (x,x^*)$\n",
      "\n",
      "Queremos encontrar $x^*$\n",
      "\n",
      "Multiplicar por constante $C$: $C\\bullet f(x)=C\\bullet f(x^*)+C\\bullet f'(\\zeta)(x-x^*)$\n",
      "\n",
      "Sumar $(x-x^*)$: $x^*-x+Cf(x)=x^*-x+Cf'(\\zeta)(x-x^*)$\n",
      "\n",
      "$x^*x*Cf(x)-\\left[1-Cf'(\\zeta)\\right](x-x^x)$"
     ]
    },
    {
     "cell_type": "code",
     "collapsed": false,
     "input": [],
     "language": "python",
     "metadata": {},
     "outputs": []
    }
   ],
   "metadata": {}
  }
 ]
}
