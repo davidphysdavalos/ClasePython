{
 "metadata": {
  "name": ""
 },
 "nbformat": 3,
 "nbformat_minor": 0,
 "worksheets": [
  {
   "cells": [
    {
     "cell_type": "heading",
     "level": 1,
     "metadata": {},
     "source": [
      "Uso del metodo de Newton en el plano complejo"
     ]
    },
    {
     "cell_type": "heading",
     "level": 2,
     "metadata": {},
     "source": [
      "Colaboradores (alfabetico): David D\u00e1valos, Lorena Garc\u00eda, Nephtal\u00ed Garrido"
     ]
    },
    {
     "cell_type": "code",
     "collapsed": false,
     "input": [
      "#Paquetes\n",
      "import matplotlib.pyplot as plt\n",
      "import matplotlib.image as mpimg\n",
      "import sympy as sym\n",
      "import numpy as np\n",
      "from cintervalo import *\n",
      "from cpintervalo import *\n",
      "%matplotlib inline"
     ],
     "language": "python",
     "metadata": {},
     "outputs": [],
     "prompt_number": 2
    },
    {
     "cell_type": "heading",
     "level": 2,
     "metadata": {},
     "source": [
      "Objetivos originales:"
     ]
    },
    {
     "cell_type": "markdown",
     "metadata": {},
     "source": [
      "* Calcular los ceros No-triviales de la funcion $\\zeta(z)$ de Riemann con el metodo de Newton con intervalos"
     ]
    },
    {
     "cell_type": "heading",
     "level": 3,
     "metadata": {},
     "source": [
      "Creacion de clases de intervalos complejos"
     ]
    },
    {
     "cell_type": "heading",
     "level": 4,
     "metadata": {},
     "source": [
      "En coordenadas cartesianas"
     ]
    },
    {
     "cell_type": "markdown",
     "metadata": {},
     "source": [
      "$[z]=[[x],[y]]$, donde $[x]$ denota al intervalo de la parte real y $[y]$ el de la imaginaria.\n",
      "\n",
      "Limitaciones:\n",
      "\n",
      "* Funcion Potencia tiene un gran error numerico debido a la presencia del ArcoTangente"
     ]
    },
    {
     "cell_type": "code",
     "collapsed": false,
     "input": [
      "#Aceptable\n",
      "CIntervalo(Intervalo(0.0000001),1.0)**2.0"
     ],
     "language": "python",
     "metadata": {},
     "outputs": [
      {
       "output_type": "stream",
       "stream": "stdout",
       "text": [
        "Advertencia: El intervalo contiene el cero\n",
        "Advertencia: El intervalo contiene el cero\n"
       ]
      },
      {
       "html": [
        "[[-1.0,-1.0], [1.99999999734e-07,1.99999999734e-07]]"
       ],
       "latex": [
        "$[[-1.0,-1.0], [1.99999999734e-07,1.99999999734e-07]]$"
       ],
       "metadata": {},
       "output_type": "pyout",
       "prompt_number": 5,
       "text": [
        "CIntervalo [[-1.0,-1.0],[1.99999999734e-07,1.99999999734e-07]]"
       ]
      }
     ],
     "prompt_number": 5
    },
    {
     "cell_type": "code",
     "collapsed": false,
     "input": [
      "#Ridiculo\n",
      "CIntervalo(Intervalo(0.00000001),1.0)**2.0"
     ],
     "language": "python",
     "metadata": {},
     "outputs": [
      {
       "output_type": "stream",
       "stream": "stdout",
       "text": [
        "Advertencia: El intervalo contiene el cero\n",
        "Advertencia: El intervalo contiene el cero\n",
        "Advertencia: El intervalo contiene el cero\n"
       ]
      },
      {
       "output_type": "stream",
       "stream": "stderr",
       "text": [
        "intervalo.py:221: RuntimeWarning: divide by zero encountered in double_scalars\n",
        "  recip = Intervalo(-inf,1.0/otro.lo)\n"
       ]
      },
      {
       "html": [
        "[[-23.14069217,23.14069217], [-23.14069217,23.14069217]]"
       ],
       "latex": [
        "$[[-23.14069217,23.14069217], [-23.14069217,23.14069217]]$"
       ],
       "metadata": {},
       "output_type": "pyout",
       "prompt_number": 3,
       "text": [
        "CIntervalo [[-23.14069217,23.14069217],[-23.14069217,23.14069217]]"
       ]
      }
     ],
     "prompt_number": 3
    },
    {
     "cell_type": "markdown",
     "metadata": {},
     "source": [
      "* Reciproco"
     ]
    },
    {
     "cell_type": "code",
     "collapsed": false,
     "input": [
      "CIntervalo(0,1).reciprocal()"
     ],
     "language": "python",
     "metadata": {},
     "outputs": [
      {
       "output_type": "stream",
       "stream": "stdout",
       "text": [
        "Advertencia: El intervalo contiene el cero\n"
       ]
      },
      {
       "html": [
        "[[0.0,0.0], [-1.0,-1.0]]"
       ],
       "latex": [
        "$[[0.0,0.0], [-1.0,-1.0]]$"
       ],
       "metadata": {},
       "output_type": "pyout",
       "prompt_number": 6,
       "text": [
        "CIntervalo [[0.0,0.0],[-1.0,-1.0]]"
       ]
      }
     ],
     "prompt_number": 6
    },
    {
     "cell_type": "heading",
     "level": 5,
     "metadata": {},
     "source": [
      "Ejemplos del funcionamiento:"
     ]
    },
    {
     "cell_type": "heading",
     "level": 4,
     "metadata": {},
     "source": [
      "En coordenadas polares"
     ]
    },
    {
     "cell_type": "markdown",
     "metadata": {},
     "source": [
      "Motivaciones:\n",
      "\n",
      "* Funciona mucho mejor para la multiplicacion, division y potencia, al contrario de los intervalos cartesianos\n",
      "\n",
      "* \n",
      "\n",
      "El intervalo viene dado como $[z]=[[\\rho],[\\theta]]$\n",
      "\n",
      "* En esta representacion la multiplicacion y la division pueden ser computadas con un error numerico minimo, sin embargo la suma y la resta presentan errores numericos grandes:\n",
      "\n",
      "$$z=\\rho e^{i \\phi}=\\rho_1 e^{i \\theta_1}+\\rho_2 e^{i \\theta_2}$$\n",
      "\n",
      "$\\Longrightarrow \\rho=\\sqrt{\\left(\\rho_1 \\sin(\\theta_1)+\\rho_2 \\sin(\\theta_2)\\right)^2+\\left( \\rho_1 \\cos(\\theta_1)+\\rho_2 \\cos(\\theta_2) \\right)^2} $ y    $ \\phi=\\arctan \\left[ \\frac{\\rho_1 \\sin(\\theta_1)+\\rho_2 \\sin(\\theta_2)}{\\rho_1 \\cos(\\theta_1)+\\rho_2 \\cos(\\theta_2)}\\right]$\n",
      "\n",
      "* Debido al ArcoTangente la fase de la suma es muy sensible en la region donde el ArcoTangente cambia rapido, dando errores numericos grandes"
     ]
    },
    {
     "cell_type": "markdown",
     "metadata": {},
     "source": [
      "* Pros del uso de coordenadas polares"
     ]
    },
    {
     "cell_type": "heading",
     "level": 5,
     "metadata": {},
     "source": [
      "Ejemplos de funcionamiento"
     ]
    },
    {
     "cell_type": "markdown",
     "metadata": {},
     "source": [
      "* Multiplicacion y divison"
     ]
    },
    {
     "cell_type": "code",
     "collapsed": false,
     "input": [
      "CPIntervalo(Intervalo(4.0, 5.0),Intervalo(2.0,6.0))*CPIntervalo(Intervalo(1.3,4.0),Intervalo(1.0,5.0))"
     ],
     "language": "python",
     "metadata": {},
     "outputs": [
      {
       "html": [
        "[[5.2,20.0], [0,6.28318530718]]"
       ],
       "latex": [
        "$[[5.2,20.0], [0,6.28318530718]]$"
       ],
       "metadata": {},
       "output_type": "pyout",
       "prompt_number": 7,
       "text": [
        "CPIntervalo [[5.2,20.0],[0,6.28318530718]]"
       ]
      }
     ],
     "prompt_number": 7
    },
    {
     "cell_type": "code",
     "collapsed": false,
     "input": [
      "CPIntervalo(Intervalo(4.0, 5.0),Intervalo(2.0,6.0))/CPIntervalo(Intervalo(1.3,4.0),Intervalo(1.0,5.0))"
     ],
     "language": "python",
     "metadata": {},
     "outputs": [
      {
       "html": [
        "[[1.0,3.84615384615], [0,6.28318530718]]"
       ],
       "latex": [
        "$[[1.0,3.84615384615], [0,6.28318530718]]$"
       ],
       "metadata": {},
       "output_type": "pyout",
       "prompt_number": 8,
       "text": [
        "CPIntervalo [[1.0,3.84615384615],[0,6.28318530718]]"
       ]
      }
     ],
     "prompt_number": 8
    },
    {
     "cell_type": "code",
     "collapsed": false,
     "input": [
      "1.0/CPIntervalo(1.0, np.pi/2)"
     ],
     "language": "python",
     "metadata": {},
     "outputs": [
      {
       "html": [
        "[[1.0,1.0], [4.71238898038,4.71238898038]]"
       ],
       "latex": [
        "$[[1.0,1.0], [4.71238898038,4.71238898038]]$"
       ],
       "metadata": {},
       "output_type": "pyout",
       "prompt_number": 9,
       "text": [
        "CPIntervalo [[1.0,1.0],[4.71238898038,4.71238898038]]"
       ]
      }
     ],
     "prompt_number": 9
    },
    {
     "cell_type": "heading",
     "level": 3,
     "metadata": {},
     "source": [
      "Aplicaciones"
     ]
    },
    {
     "cell_type": "code",
     "collapsed": false,
     "input": [
      "def epsilon(tau, alpha):\n",
      "    \n",
      "    return 3+6/(1+(2*np.pi*10**(6.0)*tau)**alpha)"
     ],
     "language": "python",
     "metadata": {},
     "outputs": [],
     "prompt_number": 10
    },
    {
     "cell_type": "code",
     "collapsed": false,
     "input": [
      "time=exp(CIntervalo(Intervalo(-7.0,5.0)))\n",
      "alpha=CIntervalo(Intervalo(0.1,1.0))\n",
      "result=epsilon(time,alpha)\n",
      "result"
     ],
     "language": "python",
     "metadata": {},
     "outputs": [
      {
       "output_type": "stream",
       "stream": "stdout",
       "text": [
        "Advertencia: El intervalo contiene el cero\n",
        "Advertencia: El intervalo contiene el cero\n"
       ]
      },
      {
       "html": [
        "[[3.0,490961388.7], [-0.011677097777,-1.00374883903e-33]]"
       ],
       "latex": [
        "$[[3.0,490961388.7], [-0.011677097777,-1.00374883903e-33]]$"
       ],
       "metadata": {},
       "output_type": "pyout",
       "prompt_number": 11,
       "text": [
        "CIntervalo [[3.0,490961388.7],[-0.011677097777,-1.00374883903e-33]]"
       ]
      }
     ],
     "prompt_number": 11
    },
    {
     "cell_type": "code",
     "collapsed": false,
     "input": [
      "cart2polar(result)"
     ],
     "language": "python",
     "metadata": {},
     "outputs": [
      {
       "html": [
        "[[3.0,490961388.7], [6.27929294617,6.28318530718]]"
       ],
       "latex": [
        "$[[3.0,490961388.7], [6.27929294617,6.28318530718]]$"
       ],
       "metadata": {},
       "output_type": "pyout",
       "prompt_number": 12,
       "text": [
        "CPIntervalo [[3.0,490961388.7],[6.27929294617,6.28318530718]]"
       ]
      }
     ],
     "prompt_number": 12
    },
    {
     "cell_type": "code",
     "collapsed": false,
     "input": [
      "time=exp(cart2polar(CIntervalo(Intervalo(-7.0,5.0))))\n",
      "alpha=cart2polar(CIntervalo(Intervalo(0.1,1.0)))\n",
      "result=epsilon(time,alpha)\n",
      "result"
     ],
     "language": "python",
     "metadata": {},
     "outputs": [
      {
       "output_type": "stream",
       "stream": "stdout",
       "text": [
        "Advertencia: El intervalo contiene el cero\n",
        "Advertencia: El intervalo contiene el cero\n",
        "Advertencia: El intervalo contiene el cero\n",
        "Advertencia: El intervalo contiene el cero\n",
        "Advertencia: El intervalo contiene el cero\n",
        "Advertencia: El intervalo contiene el cero\n",
        "Advertencia: El intervalo contiene el cero\n",
        "Advertencia: El intervalo contiene el cero\n",
        "Advertencia: El intervalo contiene el cero\n",
        "Advertencia: El intervalo contiene el cero\n",
        "Advertencia: El intervalo contiene el cero\n"
       ]
      },
      {
       "html": [
        "[[0.0,&infin;], [0,6.28318530718]]"
       ],
       "latex": [
        "$[[0.0,inf], [0,6.28318530718]]$"
       ],
       "metadata": {},
       "output_type": "pyout",
       "prompt_number": 13,
       "text": [
        "CPIntervalo [[0.0,inf],[0,6.28318530718]]"
       ]
      }
     ],
     "prompt_number": 13
    },
    {
     "cell_type": "heading",
     "level": 3,
     "metadata": {},
     "source": [
      "Limitaciones en el uso de intervalos: Fractales de Newton"
     ]
    },
    {
     "cell_type": "markdown",
     "metadata": {},
     "source": []
    },
    {
     "cell_type": "code",
     "collapsed": false,
     "input": [
      "#Se define la funcion para la iteracion del metodo de Newton para la funcion x**2-1\n",
      "def f(x):\n",
      "    \n",
      "    return x-(x**4-1.0)/(4*x**3)\n",
      "\n",
      "def f1(x):\n",
      "    \n",
      "    return x-(x**3-1.0)/(3*x**2)\n",
      "\n",
      "def f2(x):\n",
      "    \n",
      "    return x-(x**5-1.0)/(5*x**4)\n",
      "\n",
      "def f3(x):\n",
      "    \n",
      "    return x-(x**2+1.0)/(2*x)\n",
      "\n",
      "def iterator(x, f):\n",
      "    \n",
      "    for k in range(100):\n",
      "        x=f(x)\n",
      "        \n",
      "    return x"
     ],
     "language": "python",
     "metadata": {},
     "outputs": [],
     "prompt_number": 16
    },
    {
     "cell_type": "code",
     "collapsed": false,
     "input": [
      "A=np.zeros((2000,2000), dtype=complex)\n",
      "\n",
      "for i in range(-1000,1000):\n",
      "    \n",
      "    for j in range(-1000,1000):\n",
      "        \n",
      "        A[i,j]=i/500.0+j/500.0*1j"
     ],
     "language": "python",
     "metadata": {},
     "outputs": [],
     "prompt_number": 11
    },
    {
     "cell_type": "heading",
     "level": 3,
     "metadata": {},
     "source": [
      "Fractal de Newton de $f(z)=z^4-1$"
     ]
    },
    {
     "cell_type": "code",
     "collapsed": false,
     "input": [
      "B=iterator(A,f)"
     ],
     "language": "python",
     "metadata": {},
     "outputs": [
      {
       "output_type": "stream",
       "stream": "stderr",
       "text": [
        "-c:4: RuntimeWarning: divide by zero encountered in divide\n",
        "-c:4: RuntimeWarning: invalid value encountered in divide\n"
       ]
      }
     ],
     "prompt_number": 6
    },
    {
     "cell_type": "markdown",
     "metadata": {},
     "source": [
      "* Los puntos rojos indican divergencias"
     ]
    },
    {
     "cell_type": "code",
     "collapsed": false,
     "input": [
      "for i in range(-1000,1000):\n",
      "    \n",
      "    for j in range(-1000,1000):\n",
      "        \n",
      "        \n",
      "        if B[i,j]==1.0 or B[i,j]==-1.0 or B[i,j]==1.0*1j or B[i,j]==-1.0*1j or B[i,j]==0:\n",
      "            \n",
      "            if B[i,j]==1.0*1j:\n",
      "                \n",
      "                B[i,j]=10.0\n",
      "                \n",
      "            if B[i,j]==-1.0*1j:\n",
      "                \n",
      "                B[i,j]=-10.0\n",
      "            \n",
      "        else:\n",
      "            \n",
      "            B[i,j]=20.0"
     ],
     "language": "python",
     "metadata": {},
     "outputs": [],
     "prompt_number": 7
    },
    {
     "cell_type": "code",
     "collapsed": false,
     "input": [
      "plt.figure()\n",
      "plt.contourf(B)\n",
      "plt.colorbar()\n",
      "plt.show()"
     ],
     "language": "python",
     "metadata": {},
     "outputs": [
      {
       "output_type": "stream",
       "stream": "stderr",
       "text": [
        "/home/david/anaconda/lib/python2.7/site-packages/numpy/ma/core.py:2639: ComplexWarning: Casting complex values to real discards the imaginary part\n",
        "  _data = np.array(data, dtype=dtype, copy=copy, subok=True, ndmin=ndmin)\n"
       ]
      },
      {
       "metadata": {},
       "output_type": "display_data",
       "png": "[encoded data removed]",
       "text": [
        "<matplotlib.figure.Figure at 0xaca788c>"
       ]
      }
     ],
     "prompt_number": 8
    },
    {
     "cell_type": "heading",
     "level": 3,
     "metadata": {},
     "source": [
      "Fractal de Newton de $f(z)=z^3-1$"
     ]
    },
    {
     "cell_type": "code",
     "collapsed": false,
     "input": [
      "B=iterator(A, f1)"
     ],
     "language": "python",
     "metadata": {},
     "outputs": [],
     "prompt_number": 17
    },
    {
     "cell_type": "code",
     "collapsed": false,
     "input": [
      "for i in range(-1000,1000):\n",
      "    \n",
      "    for j in range(-1000,1000):\n",
      "        \n",
      "        \n",
      "        if B[i,j]==(1.0+0.0j) or B[i,j]==-0.5+0.8660254j or B[i,j]==-0.5-0.8660254j or B[i,j]==0:\n",
      "            \n",
      "            if B[i,j]==-0.5+0.8660254j:\n",
      "                \n",
      "                B[i,j]=10.0\n",
      "                \n",
      "            if B[i,j]==-0.5-0.8660254j:\n",
      "                \n",
      "                B[i,j]=-10.0\n",
      "            \n",
      "        else:\n",
      "            \n",
      "            B[i,j]=20.0"
     ],
     "language": "python",
     "metadata": {},
     "outputs": [],
     "prompt_number": 14
    },
    {
     "cell_type": "code",
     "collapsed": false,
     "input": [
      "B"
     ],
     "language": "python",
     "metadata": {},
     "outputs": [
      {
       "metadata": {},
       "output_type": "pyout",
       "prompt_number": 15,
       "text": [
        "array([[ 20.+0.j,   1.+0.j,   1.+0.j, ...,   1.+0.j,   1.+0.j,   1.+0.j],\n",
        "       [  1.+0.j,  20.+0.j,  20.+0.j, ...,  20.+0.j,  20.+0.j,  20.+0.j],\n",
        "       [  1.+0.j,   1.+0.j,  20.+0.j, ...,  20.+0.j,  20.+0.j,   1.+0.j],\n",
        "       ..., \n",
        "       [  1.+0.j,   1.+0.j,  20.+0.j, ...,  20.+0.j,  20.+0.j,   1.+0.j],\n",
        "       [  1.+0.j,   1.+0.j,  20.+0.j, ...,  20.+0.j,  20.+0.j,   1.+0.j],\n",
        "       [  1.+0.j,  20.+0.j,  20.+0.j, ...,  20.+0.j,  20.+0.j,  20.+0.j]])"
       ]
      }
     ],
     "prompt_number": 15
    },
    {
     "cell_type": "code",
     "collapsed": false,
     "input": [
      "B"
     ],
     "language": "python",
     "metadata": {},
     "outputs": [
      {
       "metadata": {},
       "output_type": "pyout",
       "prompt_number": 10,
       "text": [
        "array([[ nan      +nanj,  1.0+0.j       ,  1.0+0.j       , ...,\n",
        "         1.0+0.j       ,  1.0+0.j       ,  1.0+0.j       ],\n",
        "       [ 1.0+0.j       , -0.5-0.8660254j, -0.5-0.8660254j, ...,\n",
        "        -0.5+0.8660254j, -0.5+0.8660254j, -0.5+0.8660254j],\n",
        "       [ 1.0+0.j       ,  1.0+0.j       , -0.5-0.8660254j, ...,\n",
        "        -0.5+0.8660254j, -0.5+0.8660254j,  1.0+0.j       ],\n",
        "       ..., \n",
        "       [ 1.0+0.j       ,  1.0+0.j       , -0.5+0.8660254j, ...,\n",
        "        -0.5-0.8660254j, -0.5-0.8660254j,  1.0+0.j       ],\n",
        "       [ 1.0+0.j       ,  1.0+0.j       , -0.5+0.8660254j, ...,\n",
        "        -0.5-0.8660254j, -0.5-0.8660254j,  1.0+0.j       ],\n",
        "       [ 1.0+0.j       , -0.5+0.8660254j, -0.5+0.8660254j, ...,\n",
        "        -0.5-0.8660254j, -0.5-0.8660254j, -0.5-0.8660254j]])"
       ]
      }
     ],
     "prompt_number": 10
    },
    {
     "cell_type": "code",
     "collapsed": false,
     "input": [
      "plt.figure()\n",
      "plt.contourf(B)\n",
      "plt.colorbar()\n",
      "plt.show()"
     ],
     "language": "python",
     "metadata": {},
     "outputs": [
      {
       "metadata": {},
       "output_type": "display_data",
       "png": "[encoded data removed]",
       "text": [
        "<matplotlib.figure.Figure at 0xcbef0cc>"
       ]
      }
     ],
     "prompt_number": 16
    },
    {
     "cell_type": "heading",
     "level": 3,
     "metadata": {},
     "source": [
      "Fractal de Newton de $f(z)=z^5-1$"
     ]
    },
    {
     "cell_type": "code",
     "collapsed": false,
     "input": [
      "A5=np.zeros((2000,2000), dtype=complex)\n",
      "\n",
      "for i in range(0,2000):\n",
      "    \n",
      "    for j in range(0,2000):\n",
      "        \n",
      "        A5[i,j]=i/100.0+j/100.0*1j"
     ],
     "language": "python",
     "metadata": {},
     "outputs": [],
     "prompt_number": 3
    },
    {
     "cell_type": "code",
     "collapsed": false,
     "input": [
      "B=iterator(A5, f2)"
     ],
     "language": "python",
     "metadata": {},
     "outputs": [
      {
       "output_type": "stream",
       "stream": "stderr",
       "text": [
        "-c:12: RuntimeWarning: divide by zero encountered in divide\n",
        "-c:12: RuntimeWarning: invalid value encountered in divide\n",
        "-c:12: RuntimeWarning: invalid value encountered in power\n"
       ]
      }
     ],
     "prompt_number": 4
    },
    {
     "cell_type": "code",
     "collapsed": false,
     "input": [
      "for i in range(-1000,1000):\n",
      "    \n",
      "    for j in range(-1000,1000):\n",
      "        \n",
      "        \n",
      "        if B[i,j]==1.0 or B[i,j]==(-0.80901699437494745-0.58778525229247314j) or B[i,j]==(-0.80901699437494745+0.58778525229247314j) or B[i,j]==(0.3090169943749474+0.95105651629515353j) or B[i,j]==(0.3090169943749474-0.95105651629515353j) or B[i,j]==0:\n",
      "            \n",
      "            if B[i,j]==(-0.80901699437494745+0.58778525229247314j):\n",
      "                \n",
      "                B[i,j]=10.0\n",
      "                \n",
      "            if B[i,j]==(-0.80901699437494745-0.58778525229247314j):\n",
      "                \n",
      "                B[i,j]=-10.0\n",
      "                \n",
      "            if B[i,j]==(0.3090169943749474+0.95105651629515353j):\n",
      "                \n",
      "                B[i,j]=5.0\n",
      "                \n",
      "            if B[i,j]==(0.3090169943749474-0.95105651629515353j):\n",
      "                \n",
      "                B[i,j]=-5.0\n",
      "            \n",
      "        else:\n",
      "            \n",
      "            B[i,j]=20.0"
     ],
     "language": "python",
     "metadata": {},
     "outputs": [],
     "prompt_number": 5
    },
    {
     "cell_type": "code",
     "collapsed": false,
     "input": [
      "plt.figure()\n",
      "plt.contourf(B)\n",
      "plt.colorbar()\n",
      "plt.show()"
     ],
     "language": "python",
     "metadata": {},
     "outputs": [
      {
       "output_type": "stream",
       "stream": "stderr",
       "text": [
        "/home/david/anaconda/lib/python2.7/site-packages/numpy/ma/core.py:2639: ComplexWarning: Casting complex values to real discards the imaginary part\n",
        "  _data = np.array(data, dtype=dtype, copy=copy, subok=True, ndmin=ndmin)\n"
       ]
      },
      {
       "metadata": {},
       "output_type": "display_data",
       "png": "[encoded data removed]",
       "text": [
        "<matplotlib.figure.Figure at 0x990fc0c>"
       ]
      }
     ],
     "prompt_number": 6
    },
    {
     "cell_type": "code",
     "collapsed": false,
     "input": [
      "B=iterator(A,f3)"
     ],
     "language": "python",
     "metadata": {},
     "outputs": [],
     "prompt_number": 53
    },
    {
     "cell_type": "code",
     "collapsed": false,
     "input": [
      "B[100,1000]"
     ],
     "language": "python",
     "metadata": {},
     "outputs": [
      {
       "metadata": {},
       "output_type": "pyout",
       "prompt_number": 55,
       "text": [
        "-1j"
       ]
      }
     ],
     "prompt_number": 55
    },
    {
     "cell_type": "code",
     "collapsed": false,
     "input": [
      "for i in range(-1000,1000):\n",
      "    \n",
      "    for j in range(-1000,1000):\n",
      "        \n",
      "        \n",
      "        if B[i,j]==-1j or B[i,j]==1j or B[i,j]==0.0:\n",
      "            \n",
      "            if B[i,j]==1j:\n",
      "                \n",
      "                B[i,j]=1.0\n",
      "                \n",
      "            if B[i,j]==-1j:\n",
      "                \n",
      "                B[i,j]=-1.0\n",
      "            \n",
      "        else:\n",
      "            \n",
      "            B[i,j]=20.0"
     ],
     "language": "python",
     "metadata": {},
     "outputs": [],
     "prompt_number": 56
    },
    {
     "cell_type": "code",
     "collapsed": false,
     "input": [
      "plt.figure()\n",
      "plt.contourf(B)\n",
      "plt.colorbar()\n",
      "plt.show()"
     ],
     "language": "python",
     "metadata": {},
     "outputs": [
      {
       "metadata": {},
       "output_type": "display_data",
       "png": "[encoded data removed]",
       "text": [
        "<matplotlib.figure.Figure at 0xa6e54ec>"
       ]
      }
     ],
     "prompt_number": 58
    },
    {
     "cell_type": "heading",
     "level": 2,
     "metadata": {},
     "source": [
      "Newton 1D"
     ]
    },
    {
     "cell_type": "code",
     "collapsed": false,
     "input": [
      "def NewtonOperator(f,fprime,x):\n",
      "    '''\n",
      "    NewtonOperator(f,fprime,x)\n",
      "    '''\n",
      "    m=x.middle()\n",
      "    \n",
      "    return m-f(m)/fprime(x)\n",
      "\n",
      "def intervaliterator(f,fp,x,n):\n",
      "    \n",
      "    '''\n",
      "    iterator(f,fp,x,n)\n",
      "    \n",
      "    '''\n",
      "    \n",
      "    for k in range(0,n):\n",
      "    \n",
      "        N=NewtonOperator(f,fp,x)\n",
      "        \n",
      "        x=x&N\n",
      "        \n",
      "        if x is None:\n",
      "            \n",
      "            print 'No convergio a la raiz'\n",
      "            \n",
      "            return None\n",
      "        \n",
      "    return x"
     ],
     "language": "python",
     "metadata": {},
     "outputs": [],
     "prompt_number": 27
    },
    {
     "cell_type": "code",
     "collapsed": false,
     "input": [
      "def f(x):\n",
      "    \n",
      "    return x**4-1.0\n",
      "\n",
      "def fp(x):\n",
      "    \n",
      "    return 4*x**3\n",
      "\n",
      "def f2(x):\n",
      "    \n",
      "    return x**2+1.0\n",
      "\n",
      "def f2p(x):\n",
      "    \n",
      "    return 2.0*x"
     ],
     "language": "python",
     "metadata": {},
     "outputs": [],
     "prompt_number": 34
    },
    {
     "cell_type": "code",
     "collapsed": false,
     "input": [
      "x0=CIntervalo(Intervalo(0.0,0.4),Intervalo(1.5,1.6))"
     ],
     "language": "python",
     "metadata": {},
     "outputs": [],
     "prompt_number": 61
    },
    {
     "cell_type": "code",
     "collapsed": false,
     "input": [
      "intervaliterator(f,fp,x0,3)"
     ],
     "language": "python",
     "metadata": {},
     "outputs": [
      {
       "output_type": "stream",
       "stream": "stdout",
       "text": [
        "Advertencia: El intervalo contiene el cero\n",
        "Advertencia: El intervalo contiene el cero\n",
        "Advertencia: El intervalo contiene el cero\n",
        "Advertencia: El intervalo contiene el cero\n",
        "Advertencia: El intervalo contiene el cero\n",
        "Advertencia: El intervalo contiene el cero\n",
        "Advertencia: El intervalo contiene el cero\n",
        "Advertencia: El intervalo contiene el cero\n",
        "Advertencia: El intervalo contiene el cero\n",
        "Advertencia: El intervalo contiene el cero\n",
        "Advertencia: El intervalo contiene el cero\n",
        "Advertencia: El intervalo contiene el cero\n",
        "Advertencia: El intervalo contiene el cero\n",
        "Advertencia: El intervalo contiene el cero\n",
        "Advertencia: El intervalo contiene el cero\n",
        "Advertencia: El intervalo contiene el cero\n",
        "Advertencia: El intervalo contiene el cero\n",
        "Advertencia: El intervalo contiene el cero\n",
        "Advertencia: El intervalo contiene el cero\n",
        "Advertencia: El intervalo contiene el cero\n",
        "Advertencia: El intervalo contiene el cero\n",
        "No convergio a la raiz\n"
       ]
      }
     ],
     "prompt_number": 62
    },
    {
     "cell_type": "code",
     "collapsed": false,
     "input": [
      "x0=CIntervalo(Intervalo(-2.0,-1.0),Intervalo(0.1,0.1))"
     ],
     "language": "python",
     "metadata": {},
     "outputs": [],
     "prompt_number": 31
    },
    {
     "cell_type": "code",
     "collapsed": false,
     "input": [
      "intervaliterator(f, fp, x0,4)"
     ],
     "language": "python",
     "metadata": {},
     "outputs": [
      {
       "output_type": "stream",
       "stream": "stdout",
       "text": [
        "Advertencia: El intervalo contiene el cero\n",
        "Advertencia: El intervalo contiene el cero\n",
        "Advertencia: El intervalo contiene el cero\n",
        "Advertencia: El intervalo contiene el cero\n",
        "Advertencia: El intervalo contiene el cero\n",
        "Advertencia: El intervalo contiene el cero\n",
        "Advertencia: El intervalo contiene el cero\n",
        "Advertencia: El intervalo contiene el cero\n",
        "Advertencia: El intervalo contiene el cero\n",
        "Advertencia: El intervalo contiene el cero\n",
        "Advertencia: El intervalo contiene el cero\n",
        "Advertencia: El intervalo contiene el cero\n",
        "Advertencia: El intervalo contiene el cero\n",
        "Advertencia: El intervalo contiene el cero\n",
        "Advertencia: El intervalo contiene el cero\n",
        "Advertencia: El intervalo contiene el cero\n",
        "Advertencia: El intervalo contiene el cero\n",
        "Advertencia: El intervalo contiene el cero\n",
        "Advertencia: El intervalo contiene el cero\n",
        "Advertencia: El intervalo contiene el cero\n",
        "Advertencia: El intervalo contiene el cero\n",
        "Advertencia: El intervalo contiene el cero\n",
        "Advertencia: El intervalo contiene el cero\n",
        "Advertencia: El intervalo contiene el cero\n",
        "Advertencia: El intervalo contiene el cero\n",
        "Advertencia: El intervalo contiene el cero\n",
        "Advertencia: El intervalo contiene el cero\n",
        "Advertencia: El intervalo contiene el cero\n",
        "Advertencia: El intervalo contiene el cero\n",
        "Advertencia: El intervalo contiene el cero\n",
        "Advertencia: El intervalo contiene el cero\n",
        "Advertencia: El intervalo contiene el cero\n"
       ]
      },
      {
       "html": [
        "[[-2.0,-1.0], [0.1,0.1]]"
       ],
       "latex": [
        "$[[-2.0,-1.0], [0.1,0.1]]$"
       ],
       "metadata": {},
       "output_type": "pyout",
       "prompt_number": 32,
       "text": [
        "CIntervalo [[-2.0,-1.0],[0.1,0.1]]"
       ]
      }
     ],
     "prompt_number": 32
    },
    {
     "cell_type": "code",
     "collapsed": false,
     "input": [
      "x0=CIntervalo(Intervalo(-3.0,3.0),Intervalo(0.5,1.5))"
     ],
     "language": "python",
     "metadata": {},
     "outputs": [],
     "prompt_number": 65
    },
    {
     "cell_type": "code",
     "collapsed": false,
     "input": [
      "intervaliterator(f2,f2p,x0,5)"
     ],
     "language": "python",
     "metadata": {},
     "outputs": [
      {
       "output_type": "stream",
       "stream": "stdout",
       "text": [
        "Advertencia: El intervalo contiene el cero\n",
        "Advertencia: El intervalo contiene el cero\n",
        "Advertencia: El intervalo contiene el cero\n",
        "Advertencia: El intervalo contiene el cero\n",
        "Advertencia: El intervalo contiene el cero\n",
        "Advertencia: El intervalo contiene el cero\n",
        "Advertencia: El intervalo contiene el cero\n",
        "Advertencia: El intervalo contiene el cero\n",
        "Advertencia: El intervalo contiene el cero\n",
        "Advertencia: El intervalo contiene el cero\n",
        "Advertencia: El intervalo contiene el cero\n",
        "Advertencia: El intervalo contiene el cero\n",
        "Advertencia: El intervalo contiene el cero\n",
        "Advertencia: El intervalo contiene el cero\n",
        "Advertencia: El intervalo contiene el cero\n",
        "Advertencia: El intervalo contiene el cero\n",
        "Advertencia: El intervalo contiene el cero\n",
        "Advertencia: El intervalo contiene el cero\n",
        "Advertencia: El intervalo contiene el cero\n",
        "Advertencia: El intervalo contiene el cero\n",
        "Advertencia: El intervalo contiene el cero\n",
        "Advertencia: El intervalo contiene el cero\n",
        "Advertencia: El intervalo contiene el cero\n",
        "Advertencia: El intervalo contiene el cero\n",
        "Advertencia: El intervalo contiene el cero\n",
        "Advertencia: El intervalo contiene el cero\n",
        "Advertencia: El intervalo contiene el cero\n",
        "Advertencia: El intervalo contiene el cero\n",
        "Advertencia: El intervalo contiene el cero\n",
        "Advertencia: El intervalo contiene el cero\n"
       ]
      },
      {
       "html": [
        "[[-3.0,3.0], [0.5,1.5]]"
       ],
       "latex": [
        "$[[-3.0,3.0], [0.5,1.5]]$"
       ],
       "metadata": {},
       "output_type": "pyout",
       "prompt_number": 68,
       "text": [
        "CIntervalo [[-3.0,3.0],[0.5,1.5]]"
       ]
      }
     ],
     "prompt_number": 68
    },
    {
     "cell_type": "heading",
     "level": 3,
     "metadata": {},
     "source": [
      "Zeros de la funcion $\\zeta(z)$ de Riemann"
     ]
    },
    {
     "cell_type": "heading",
     "level": 3,
     "metadata": {},
     "source": [
      "DIscusion y conclusiones"
     ]
    },
    {
     "cell_type": "code",
     "collapsed": false,
     "input": [],
     "language": "python",
     "metadata": {},
     "outputs": []
    }
   ],
   "metadata": {}
  }
 ]
}