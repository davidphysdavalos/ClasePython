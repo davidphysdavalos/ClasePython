{
 "metadata": {
  "name": ""
 },
 "nbformat": 3,
 "nbformat_minor": 0,
 "worksheets": [
  {
   "cells": [
    {
     "cell_type": "code",
     "collapsed": false,
     "input": [
      "#Paquetes\n",
      "import matplotlib.pyplot as plt\n",
      "import matplotlib.image as mpimg\n",
      "import numpy as np\n",
      "%matplotlib inline"
     ],
     "language": "python",
     "metadata": {},
     "outputs": [],
     "prompt_number": 2
    },
    {
     "cell_type": "heading",
     "level": 1,
     "metadata": {},
     "source": [
      "Uso del metodo de Newton en el plano complejo"
     ]
    },
    {
     "cell_type": "heading",
     "level": 2,
     "metadata": {},
     "source": [
      "Colaboradores (alfabetico): David Davalos, Lorena Garc\u00eda, Nephtal\u00ed Garrido"
     ]
    },
    {
     "cell_type": "heading",
     "level": 3,
     "metadata": {},
     "source": [
      "Creacion de clases de intervalos complejos"
     ]
    },
    {
     "cell_type": "heading",
     "level": 4,
     "metadata": {},
     "source": [
      "En coordenadas cartesianas"
     ]
    },
    {
     "cell_type": "heading",
     "level": 4,
     "metadata": {},
     "source": [
      "En coordenadas polares"
     ]
    },
    {
     "cell_type": "markdown",
     "metadata": {},
     "source": [
      "* Pros del uso de coordenadas polares"
     ]
    },
    {
     "cell_type": "heading",
     "level": 3,
     "metadata": {},
     "source": [
      "Limitaciones en el uso de intervalos: Fractales de Newton"
     ]
    },
    {
     "cell_type": "code",
     "collapsed": false,
     "input": [
      "#Se define la funcion para la iteracion del metodo de Newton para la funcion x**2-1\n",
      "def f(x):\n",
      "    \n",
      "    return x-(x**4-1.0)/(4*x**3)\n",
      "\n",
      "def iterator(x, f):\n",
      "    \n",
      "    for k in range(40):\n",
      "        x=f(x)\n",
      "        \n",
      "    return x\n",
      "\n",
      "A=np.zeros((2000,2000), dtype=complex)\n",
      "\n",
      "for i in range(-1000,1000):\n",
      "    \n",
      "    for j in range(-1000,1000):\n",
      "        \n",
      "        A[i,j]=i/500.0+j/500.0*1j"
     ],
     "language": "python",
     "metadata": {},
     "outputs": [],
     "prompt_number": 9
    },
    {
     "cell_type": "code",
     "collapsed": false,
     "input": [
      "B=iterator(A,f)"
     ],
     "language": "python",
     "metadata": {},
     "outputs": [
      {
       "output_type": "stream",
       "stream": "stderr",
       "text": [
        "-c:4: RuntimeWarning: divide by zero encountered in divide\n",
        "-c:4: RuntimeWarning: invalid value encountered in divide\n"
       ]
      }
     ],
     "prompt_number": 10
    },
    {
     "cell_type": "markdown",
     "metadata": {},
     "source": [
      "Los puntos rojos indican divergencias"
     ]
    },
    {
     "cell_type": "code",
     "collapsed": false,
     "input": [
      "for i in range(-1000,1000):\n",
      "    \n",
      "    for j in range(-1000,1000):\n",
      "        \n",
      "        \n",
      "        if B[i,j]==1.0 or B[i,j]==-1.0 or B[i,j]==1.0*1j or B[i,j]==-1.0*1j or B[i,j]==0:\n",
      "            \n",
      "            if B[i,j]==1.0*1j:\n",
      "                \n",
      "                B[i,j]=10.0\n",
      "                \n",
      "            if B[i,j]==-1.0*1j:\n",
      "                \n",
      "                B[i,j]=-10.0\n",
      "            \n",
      "        else:\n",
      "            \n",
      "            B[i,j]=20.0"
     ],
     "language": "python",
     "metadata": {},
     "outputs": [],
     "prompt_number": 11
    },
    {
     "cell_type": "code",
     "collapsed": false,
     "input": [
      "plt.figure()\n",
      "plt.contourf(B)\n",
      "plt.colorbar()\n",
      "plt.show()"
     ],
     "language": "python",
     "metadata": {},
     "outputs": [
      {
       "metadata": {},
       "output_type": "display_data",
       "png": "[encoded data removed]",
       "text": [
        "<matplotlib.figure.Figure at 0x3e32a10>"
       ]
      }
     ],
     "prompt_number": 12
    },
    {
     "cell_type": "heading",
     "level": 3,
     "metadata": {},
     "source": [
      "Zeros de la funcion $\\zeta(z)$ de Riemann"
     ]
    },
    {
     "cell_type": "heading",
     "level": 3,
     "metadata": {},
     "source": [
      "DIscusion y conclusiones"
     ]
    },
    {
     "cell_type": "code",
     "collapsed": false,
     "input": [],
     "language": "python",
     "metadata": {},
     "outputs": []
    }
   ],
   "metadata": {}
  }
 ]
}