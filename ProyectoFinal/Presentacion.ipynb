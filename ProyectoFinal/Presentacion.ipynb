{
 "metadata": {
  "name": ""
 },
 "nbformat": 3,
 "nbformat_minor": 0,
 "worksheets": [
  {
   "cells": [
    {
     "cell_type": "heading",
     "level": 1,
     "metadata": {},
     "source": [
      "Uso del metodo de Newton en el plano complejo"
     ]
    },
    {
     "cell_type": "heading",
     "level": 2,
     "metadata": {},
     "source": [
      "Colaboradores (alfabetico): David D\u00e1valos, Lorena Garc\u00eda, Nephtal\u00ed Garrido"
     ]
    },
    {
     "cell_type": "code",
     "collapsed": false,
     "input": [
      "#Paquetes\n",
      "import matplotlib.pyplot as plt\n",
      "import sympy as sym\n",
      "import numpy as np\n",
      "from cintervalo import *\n",
      "from cpintervalo import *\n",
      "%matplotlib inline"
     ],
     "language": "python",
     "metadata": {},
     "outputs": [],
     "prompt_number": 1
    },
    {
     "cell_type": "heading",
     "level": 2,
     "metadata": {},
     "source": [
      "Objetivos originales:"
     ]
    },
    {
     "cell_type": "markdown",
     "metadata": {},
     "source": [
      "* Calcular los ceros No-triviales de la funcion $\\zeta(z)$ de Riemann con el metodo de Newton con intervalos\n",
      "    * Definir la funcion $\\zeta(z)$ compatible con intervalos\n",
      "    * Programar una nueva clase alrededor de la clase intervalo que permita intervalos complejos\n",
      "    * Implementar el metodo de Newton para los complejos"
     ]
    },
    {
     "cell_type": "heading",
     "level": 3,
     "metadata": {},
     "source": [
      "Creacion de clases de intervalos complejos"
     ]
    },
    {
     "cell_type": "heading",
     "level": 4,
     "metadata": {},
     "source": [
      "En coordenadas cartesianas"
     ]
    },
    {
     "cell_type": "markdown",
     "metadata": {},
     "source": [
      "$[z]=[[x],[y]]$, donde $[x]$ denota al intervalo de la parte real y $[y]$ el de la imaginaria.\n",
      "\n",
      "* Ventajas:\n",
      "    * Pocos problemas con las operaciones elementales (+,* -)\n",
      "    * funcion exponencial\n",
      "\n",
      "\n",
      "* Limitaciones:\n",
      "\n",
      "     * Logaritmo es propenso a errores numericos por la presencia del Arcotangente:     $\\text{Log} (z)= \\text{ln} \\vert r \\vert +i \\text{Arg}(z)$\n",
      "     \n",
      "         * Lo que implica que la operacion potencia sea propensa a errores numericos.\n",
      "         \n",
      "     * Muchas operaciones con intervalos involucradas en la division"
     ]
    },
    {
     "cell_type": "heading",
     "level": 5,
     "metadata": {},
     "source": [
      "Ejemplos del funcionamiento:"
     ]
    },
    {
     "cell_type": "markdown",
     "metadata": {},
     "source": [
      "* Potencia de intervalos degenerados"
     ]
    },
    {
     "cell_type": "code",
     "collapsed": false,
     "input": [
      "#Aceptable\n",
      "CIntervalo(Intervalo(0.0000001),1.0)**2.0"
     ],
     "language": "python",
     "metadata": {},
     "outputs": [
      {
       "output_type": "stream",
       "stream": "stdout",
       "text": [
        "Advertencia: El intervalo contiene el cero\n",
        "Advertencia: El intervalo contiene el cero\n"
       ]
      },
      {
       "html": [
        "[[-1.0,-1.0], [1.99999999734e-07,1.99999999734e-07]]<sub>c</sub> "
       ],
       "latex": [
        "$[[-1.0,-1.0], [1.99999999734e-07,1.99999999734e-07]]_c$"
       ],
       "metadata": {},
       "output_type": "pyout",
       "prompt_number": 2,
       "text": [
        "CIntervalo [[-1.0,-1.0],[1.99999999734e-07,1.99999999734e-07]]"
       ]
      }
     ],
     "prompt_number": 2
    },
    {
     "cell_type": "code",
     "collapsed": false,
     "input": [
      "#Ridiculo\n",
      "CIntervalo(Intervalo(0.00000001),1.0)**2.0"
     ],
     "language": "python",
     "metadata": {},
     "outputs": [
      {
       "output_type": "stream",
       "stream": "stdout",
       "text": [
        "Advertencia: El intervalo contiene el cero\n",
        "Advertencia: El intervalo contiene el cero\n",
        "Advertencia: El intervalo contiene el cero\n"
       ]
      },
      {
       "output_type": "stream",
       "stream": "stderr",
       "text": [
        "intervalo.py:221: RuntimeWarning: divide by zero encountered in double_scalars\n",
        "  recip = Intervalo(-inf,1.0/otro.lo)\n"
       ]
      },
      {
       "html": [
        "[[-23.14069217,23.14069217], [-23.14069217,23.14069217]]<sub>c</sub> "
       ],
       "latex": [
        "$[[-23.14069217,23.14069217], [-23.14069217,23.14069217]]_c$"
       ],
       "metadata": {},
       "output_type": "pyout",
       "prompt_number": 3,
       "text": [
        "CIntervalo [[-23.14069217,23.14069217],[-23.14069217,23.14069217]]"
       ]
      }
     ],
     "prompt_number": 3
    },
    {
     "cell_type": "markdown",
     "metadata": {},
     "source": [
      "* Reciproco"
     ]
    },
    {
     "cell_type": "code",
     "collapsed": false,
     "input": [
      "CIntervalo(0,1).reciprocal()"
     ],
     "language": "python",
     "metadata": {},
     "outputs": [
      {
       "output_type": "stream",
       "stream": "stdout",
       "text": [
        "Advertencia: El intervalo contiene el cero\n"
       ]
      },
      {
       "html": [
        "[[0.0,0.0], [-1.0,-1.0]]<sub>c</sub> "
       ],
       "latex": [
        "$[[0.0,0.0], [-1.0,-1.0]]_c$"
       ],
       "metadata": {},
       "output_type": "pyout",
       "prompt_number": 4,
       "text": [
        "CIntervalo [[0.0,0.0],[-1.0,-1.0]]"
       ]
      }
     ],
     "prompt_number": 4
    },
    {
     "cell_type": "markdown",
     "metadata": {},
     "source": [
      "* Multiplicacion de Intervalos:"
     ]
    },
    {
     "cell_type": "code",
     "collapsed": false,
     "input": [
      "A=CIntervalo(Intervalo(-2.5,3.0),Intervalo(2.0,8.0))\n",
      "B=CIntervalo(Intervalo(0.01,5.0),Intervalo(-2.0,7.0))\n",
      "E=CIntervalo(Intervalo(0.2,1.0),Intervalo(10.0,11.0))\n",
      "F=CIntervalo(Intervalo(5.4,0.99),Intervalo(1.0,25.0))\n",
      "C=A*B\n",
      "C"
     ],
     "language": "python",
     "metadata": {},
     "outputs": [
      {
       "html": [
        "[[-68.5,31.0], [-17.48,61.0]]<sub>c</sub> "
       ],
       "latex": [
        "$[[-68.5,31.0], [-17.48,61.0]]_c$"
       ],
       "metadata": {},
       "output_type": "pyout",
       "prompt_number": 2,
       "text": [
        "CIntervalo [[-68.5,31.0],[-17.48,61.0]]"
       ]
      }
     ],
     "prompt_number": 2
    },
    {
     "cell_type": "markdown",
     "metadata": {},
     "source": [
      "* Problemas con la division cuando el intervalo no contiene el cero:"
     ]
    },
    {
     "cell_type": "code",
     "collapsed": false,
     "input": [
      "V=E/F"
     ],
     "language": "python",
     "metadata": {},
     "outputs": [],
     "prompt_number": 154
    },
    {
     "cell_type": "code",
     "collapsed": false,
     "input": [
      "V*F"
     ],
     "language": "python",
     "metadata": {},
     "outputs": [
      {
       "html": [
        "[[-747.421564568,955.335589112], [-41.1641489388,3701.67163275]]<sub>c</sub> "
       ],
       "latex": [
        "$[[-747.421564568,955.335589112], [-41.1641489388,3701.67163275]]_c$"
       ],
       "metadata": {},
       "output_type": "pyout",
       "prompt_number": 155,
       "text": [
        "CIntervalo [[-747.421564568,955.335589112],[-41.1641489388,3701.67163275]]"
       ]
      }
     ],
     "prompt_number": 155
    },
    {
     "cell_type": "markdown",
     "metadata": {},
     "source": [
      "* Problemas con la division cuando los intervalos contienen el cero:"
     ]
    },
    {
     "cell_type": "code",
     "collapsed": false,
     "input": [
      "C/A"
     ],
     "language": "python",
     "metadata": {},
     "outputs": [
      {
       "output_type": "stream",
       "stream": "stdout",
       "text": [
        "Advertencia: El intervalo contiene el cero\n"
       ]
      },
      {
       "html": [
        "[[-86.335,164.8125], [-100.125,182.75]]<sub>c</sub> "
       ],
       "latex": [
        "$[[-86.335,164.8125], [-100.125,182.75]]_c$"
       ],
       "metadata": {},
       "output_type": "pyout",
       "prompt_number": 156,
       "text": [
        "CIntervalo [[-86.335,164.8125],[-100.125,182.75]]"
       ]
      }
     ],
     "prompt_number": 156
    },
    {
     "cell_type": "code",
     "collapsed": false,
     "input": [
      "D=A/B\n",
      "D"
     ],
     "language": "python",
     "metadata": {},
     "outputs": [
      {
       "output_type": "stream",
       "stream": "stdout",
       "text": [
        "Advertencia: El intervalo contiene el cero\n"
       ]
      },
      {
       "html": [
        "[[-285000.0,710000.0], [-209800.0,575000.0]]<sub>c</sub> "
       ],
       "latex": [
        "$[[-285000.0,710000.0], [-209800.0,575000.0]]_c$"
       ],
       "metadata": {},
       "output_type": "pyout",
       "prompt_number": 157,
       "text": [
        "CIntervalo [[-285000.0,710000.0],[-209800.0,575000.0]]"
       ]
      }
     ],
     "prompt_number": 157
    },
    {
     "cell_type": "code",
     "collapsed": false,
     "input": [
      "D*B"
     ],
     "language": "python",
     "metadata": {},
     "outputs": [
      {
       "html": [
        "[[-5450000.0,5018600.0], [-3044000.0,7845000.0]]<sub>c</sub> "
       ],
       "latex": [
        "$[[-5450000.0,5018600.0], [-3044000.0,7845000.0]]_c$"
       ],
       "metadata": {},
       "output_type": "pyout",
       "prompt_number": 158,
       "text": [
        "CIntervalo [[-5450000.0,5018600.0],[-3044000.0,7845000.0]]"
       ]
      }
     ],
     "prompt_number": 158
    },
    {
     "cell_type": "markdown",
     "metadata": {},
     "source": [
      "* Con intervalos degenerados funciona bien:"
     ]
    },
    {
     "cell_type": "code",
     "collapsed": false,
     "input": [
      "CIntervalo(1.0,2.0)/CIntervalo(0.0,8.0)"
     ],
     "language": "python",
     "metadata": {},
     "outputs": [
      {
       "output_type": "stream",
       "stream": "stdout",
       "text": [
        "Advertencia: El intervalo contiene el cero\n"
       ]
      },
      {
       "html": [
        "[[0.25,0.25], [-0.125,-0.125]]<sub>c</sub> "
       ],
       "latex": [
        "$[[0.25,0.25], [-0.125,-0.125]]_c$"
       ],
       "metadata": {},
       "output_type": "pyout",
       "prompt_number": 159,
       "text": [
        "CIntervalo [[0.25,0.25],[-0.125,-0.125]]"
       ]
      }
     ],
     "prompt_number": 159
    },
    {
     "cell_type": "markdown",
     "metadata": {},
     "source": [
      "* Exponencial y Logaritmo"
     ]
    },
    {
     "cell_type": "code",
     "collapsed": false,
     "input": [
      "X=log(A)\n",
      "X"
     ],
     "language": "python",
     "metadata": {},
     "outputs": [
      {
       "output_type": "stream",
       "stream": "stdout",
       "text": [
        "Advertencia: El intervalo contiene el cero\n",
        "Advertencia: El intervalo contiene el cero\n"
       ]
      },
      {
       "html": [
        "[[0.69314718056,2.14522972057], [-3.14159265359,3.14159265359]]<sub>c</sub> "
       ],
       "latex": [
        "$[[0.69314718056,2.14522972057], [-3.14159265359,3.14159265359]]_c$"
       ],
       "metadata": {},
       "output_type": "pyout",
       "prompt_number": 4,
       "text": [
        "CIntervalo [[0.69314718056,2.14522972057],[-3.14159265359,3.14159265359]]"
       ]
      }
     ],
     "prompt_number": 4
    },
    {
     "cell_type": "code",
     "collapsed": false,
     "input": [
      "exp(X)"
     ],
     "language": "python",
     "metadata": {},
     "outputs": [
      {
       "html": [
        "[[-8.54400374532,8.54400374532], [-8.54400374532,8.54400374532]]<sub>c</sub> "
       ],
       "latex": [
        "$[[-8.54400374532,8.54400374532], [-8.54400374532,8.54400374532]]_c$"
       ],
       "metadata": {},
       "output_type": "pyout",
       "prompt_number": 19,
       "text": [
        "CIntervalo [[-8.54400374532,8.54400374532],[-8.54400374532,8.54400374532]]"
       ]
      }
     ],
     "prompt_number": 19
    },
    {
     "cell_type": "heading",
     "level": 4,
     "metadata": {},
     "source": [
      "En coordenadas polares"
     ]
    },
    {
     "cell_type": "markdown",
     "metadata": {},
     "source": [
      "Definici\u00f3n:\n",
      "\n",
      "Sea $[\\rho]\\in \\mathbb{R}^+$ y $[\\theta]\\subseteq \\mathbb{R}$, el conjunto definido como:\n",
      "\n",
      "$$Z=\\lbrace z \\in \\mathbb{C} \\vert z=\\rho e^{i \\theta}, \\rho \\in [\\rho], \\theta \\in [\\theta] \\rbrace$$\n",
      "\n",
      "es llamado intervalo complejo en coordenadas polares, y lo denotaremos como:\n",
      "\n",
      "$[z]=[[\\rho],[\\theta]]$\n",
      "\n",
      "* Ventajas:\n",
      "\n",
      "    * En esta representacion la multiplicacion y la division pueden ser computadas con un error numerico minimo, porsupuesto la parte del modulo de la division acarrea todas las implicaciones de division de Intervalos.\n",
      "    * Error minimo en operacion potencia.\n",
      "    \n",
      "* Desventajas:\n",
      "\n",
      "    * Error numerico en el computo de la suma (y resta):\n",
      "    \n",
      "Suma de Minkowski: \n",
      "\n",
      "$Z_1 \\bigoplus Z_2= \\lbrace z_1+z_2 \\vert z_1\\in Z_1, z_2 \\in Z_2 \\rbrace$\n",
      "\n",
      "Sin embargo definimos $Z_1+Z_2$ como el minimo sector (intervalo en coordenadas complejas) que contiene a $Z_1 \\bigoplus Z_2$\n",
      "\n",
      "$\\Longrightarrow [[\\rho_1],[\\theta_1]] + [[\\rho_2],[\\theta_2]]= [[\\rho],[\\phi]]$\n",
      "\n",
      "Usando la definicion:\n",
      "\n",
      "$$z=\\rho e^{i \\phi}=\\rho_1 e^{i \\theta_1}+\\rho_2 e^{i \\theta_2}$$\n",
      "\n",
      "Podemos calcular las fronteras del nuevo intervalo,\n",
      "\n",
      "* Para $[\\rho]$:\n",
      "\n",
      "$\\vert \\rho_1 e^{i \\theta_1}+\\rho_2 e^{i \\theta_2} \\vert = \\sqrt{ \\rho_1^2+\\rho_2^2+2\\rho_1 \\rho_2 \\cos \\left( \\theta_1-\\theta_2 \\right) }$\n",
      "\n",
      "Encontrando el maximo y minimo de la funcion $\\rho_1^2+\\rho_2^2+2\\rho_1 \\rho_2 \\cos \\left( \\theta \\right) $\n",
      "\n",
      "en $\\Omega=[\\rho_1]\\times [\\rho_2]\\times [[\\theta_1]-[\\theta_2]]$\n",
      "\n",
      "* Y para $[\\phi]$, encontrando los extremos de la funcion:\n",
      "\n",
      "$\\phi= g(\\rho_1,\\rho_2, \\theta_1, \\theta_2)=\\arctan \\left[ \\frac{\\rho_1 \\sin(\\theta_1)+\\rho_2 \\sin(\\theta_2)}{\\rho_1 \\cos(\\theta_1)+\\rho_2 \\cos(\\theta_2)}\\right]$\n",
      "\n",
      "en el mismo dominio."
     ]
    },
    {
     "cell_type": "heading",
     "level": 5,
     "metadata": {},
     "source": [
      "Ejemplos de funcionamiento"
     ]
    },
    {
     "cell_type": "markdown",
     "metadata": {},
     "source": [
      "* Suma y resta"
     ]
    },
    {
     "cell_type": "code",
     "collapsed": false,
     "input": [
      "A=CPIntervalo(Intervalo(-2.5,3.0),Intervalo(2.0,8.0))\n",
      "B=CPIntervalo(Intervalo(0.01,5.0),Intervalo(-2.0,7.0))\n",
      "E=CPIntervalo(Intervalo(0.2,1.0),Intervalo(10.0,11.0))\n",
      "F=CPIntervalo(Intervalo(5.4,0.99),Intervalo(1.0,25.0))\n",
      "C=A+B\n",
      "C"
     ],
     "language": "python",
     "metadata": {},
     "outputs": [
      {
       "output_type": "stream",
       "stream": "stdout",
       "text": [
        "El radio no puede ser cero, el limite inferior se tomo como r=0\n",
        "Advertencia: El intervalo contiene el cero\n",
        "Advertencia: El intervalo contiene el cero\n"
       ]
      },
      {
       "html": [
        "[[0.0,11.313708499], [-1.57079632679,1.57079632679]]<sub>p</sub>"
       ],
       "latex": [
        "$[[0.0,11.313708499], [-1.57079632679,1.57079632679]]_p$"
       ],
       "metadata": {},
       "output_type": "pyout",
       "prompt_number": 45,
       "text": [
        "CPIntervalo [[0.0,11.313708499],[-1.57079632679,1.57079632679]]"
       ]
      }
     ],
     "prompt_number": 45
    },
    {
     "cell_type": "markdown",
     "metadata": {},
     "source": [
      "C=modulo(A+B, 2*np.pi)\n",
      "C"
     ]
    },
    {
     "cell_type": "code",
     "collapsed": false,
     "input": [
      "modulo(C-B, 2*np.pi)"
     ],
     "language": "python",
     "metadata": {},
     "outputs": [
      {
       "output_type": "stream",
       "stream": "stdout",
       "text": [
        "Advertencia: El intervalo contiene el cero\n",
        "Advertencia: El intervalo contiene el cero\n"
       ]
      },
      {
       "html": [
        "[[0.0,23.0710678119], [0,6.28318530718]]<sub>p</sub>"
       ],
       "latex": [
        "$[[0.0,23.0710678119], [0,6.28318530718]]_p$"
       ],
       "metadata": {},
       "output_type": "pyout",
       "prompt_number": 51,
       "text": [
        "CPIntervalo [[0.0,23.0710678119],[0,6.28318530718]]"
       ]
      }
     ],
     "prompt_number": 51
    },
    {
     "cell_type": "markdown",
     "metadata": {},
     "source": [
      "* Multiplicacion y divison"
     ]
    },
    {
     "cell_type": "code",
     "collapsed": false,
     "input": [
      "A=CPIntervalo(Intervalo(-2.5,3.0),Intervalo(2.0,8.0))\n",
      "B=CPIntervalo(Intervalo(0.01,5.0),Intervalo(-2.0,7.0))\n",
      "E=CPIntervalo(Intervalo(0.2,1.0),Intervalo(10.0,11.0))\n",
      "F=CPIntervalo(Intervalo(5.4,0.99),Intervalo(1.0,25.0))\n",
      "C=A*B\n",
      "C"
     ],
     "language": "python",
     "metadata": {},
     "outputs": [
      {
       "output_type": "stream",
       "stream": "stdout",
       "text": [
        "El radio no puede ser cero, el limite inferior se tomo como r=0\n"
       ]
      },
      {
       "html": [
        "[[0.0,15.0], [0.0,15.0]]<sub>p</sub>"
       ],
       "latex": [
        "$[[0.0,15.0], [0.0,15.0]]_p$"
       ],
       "metadata": {},
       "output_type": "pyout",
       "prompt_number": 54,
       "text": [
        "CPIntervalo [[0.0,15.0],[0.0,15.0]]"
       ]
      }
     ],
     "prompt_number": 54
    },
    {
     "cell_type": "code",
     "collapsed": false,
     "input": [
      "R=modulo(F*E, 2*np.pi)\n",
      "R"
     ],
     "language": "python",
     "metadata": {},
     "outputs": [
      {
       "html": [
        "[[0.198,5.4], [0.0,6.28318530718]]<sub>p</sub>"
       ],
       "latex": [
        "$[[0.198,5.4], [0.0,6.28318530718]]_p$"
       ],
       "metadata": {},
       "output_type": "pyout",
       "prompt_number": 69,
       "text": [
        "CPIntervalo [[0.198,5.4],[0.0,6.28318530718]]"
       ]
      }
     ],
     "prompt_number": 69
    },
    {
     "cell_type": "code",
     "collapsed": false,
     "input": [
      "modulo(R/F, 2*np.pi)"
     ],
     "language": "python",
     "metadata": {},
     "outputs": [
      {
       "html": [
        "[[0.0366666666667,5.45454545455], [0,6.28318530718]]<sub>p</sub>"
       ],
       "latex": [
        "$[[0.0366666666667,5.45454545455], [0,6.28318530718]]_p$"
       ],
       "metadata": {},
       "output_type": "pyout",
       "prompt_number": 70,
       "text": [
        "CPIntervalo [[0.0366666666667,5.45454545455],[0,6.28318530718]]"
       ]
      }
     ],
     "prompt_number": 70
    },
    {
     "cell_type": "code",
     "collapsed": false,
     "input": [
      "modulo(E,2*np.pi)"
     ],
     "language": "python",
     "metadata": {},
     "outputs": [
      {
       "html": [
        "[[0.2,1.0], [3.71681469282,4.71681469282]]<sub>p</sub>"
       ],
       "latex": [
        "$[[0.2,1.0], [3.71681469282,4.71681469282]]_p$"
       ],
       "metadata": {},
       "output_type": "pyout",
       "prompt_number": 71,
       "text": [
        "CPIntervalo [[0.2,1.0],[3.71681469282,4.71681469282]]"
       ]
      }
     ],
     "prompt_number": 71
    },
    {
     "cell_type": "markdown",
     "metadata": {},
     "source": [
      "* Exponencial y logaritmo"
     ]
    },
    {
     "cell_type": "code",
     "collapsed": false,
     "input": [],
     "language": "python",
     "metadata": {},
     "outputs": []
    },
    {
     "cell_type": "heading",
     "level": 3,
     "metadata": {},
     "source": [
      "Conversion entre clases de Intervalos complejos"
     ]
    },
    {
     "cell_type": "markdown",
     "metadata": {},
     "source": [
      "Debido al calculo del Argumento entre clases, la conversion suele tener un error numerico grande:"
     ]
    },
    {
     "cell_type": "code",
     "collapsed": false,
     "input": [
      "A=CPIntervalo(Intervalo(np.random.uniform(0,10),np.random.uniform(0,10)),\\\n",
      "              Intervalo(np.random.uniform(0,10),np.random.uniform(0,10)))\n",
      "A"
     ],
     "language": "python",
     "metadata": {},
     "outputs": [
      {
       "html": [
        "[[6.58335845482,7.16004129996], [2.2466444277,6.88433535995]]<sub>p</sub>"
       ],
       "latex": [
        "$[[6.58335845482,7.16004129996], [2.2466444277,6.88433535995]]_p$"
       ],
       "metadata": {},
       "output_type": "pyout",
       "prompt_number": 20,
       "text": [
        "CPIntervalo [[6.58335845482,7.16004129996],[2.2466444277,6.88433535995]]"
       ]
      }
     ],
     "prompt_number": 20
    },
    {
     "cell_type": "code",
     "collapsed": false,
     "input": [
      "cart2polar(polar2cart(A))"
     ],
     "language": "python",
     "metadata": {},
     "outputs": [
      {
       "output_type": "stream",
       "stream": "stdout",
       "text": [
        "Advertencia: El intervalo contiene el cero\n",
        "Advertencia: El intervalo contiene el cero\n",
        "Advertencia: El intervalo contiene el cero\n",
        "Advertencia: El intervalo contiene el cero\n"
       ]
      },
      {
       "html": [
        "[[0.0,10.1258275136], [-3.14159265359,3.14159265359]]<sub>p</sub>"
       ],
       "latex": [
        "$[[0.0,10.1258275136], [-3.14159265359,3.14159265359]]_p$"
       ],
       "metadata": {},
       "output_type": "pyout",
       "prompt_number": 21,
       "text": [
        "CPIntervalo [[0.0,10.1258275136],[-3.14159265359,3.14159265359]]"
       ]
      }
     ],
     "prompt_number": 21
    },
    {
     "cell_type": "code",
     "collapsed": false,
     "input": [
      "li=range(0,100)\n",
      "la=range(0,100)\n",
      "\n",
      "\n",
      "for k in range(0,100):\n",
      "\n",
      "    A=CPIntervalo(np.random.uniform(0,10),np.random.uniform(0,10))\n",
      "    B=cart2polar(polar2cart(A))\n",
      "    \n",
      "    li[k]=(A.mod-B.mod).abs()\n",
      "    la[k]=(A.arg-B.arg).abs()"
     ],
     "language": "python",
     "metadata": {},
     "outputs": [],
     "prompt_number": 22
    },
    {
     "cell_type": "code",
     "collapsed": false,
     "input": [
      "plt.figure()\n",
      "plt.plot(li)\n",
      "plt.plot(la)\n",
      "plt.title('Error en intervalos degenerados',fontsize='larger')\n",
      "plt.xlabel('Evento',fontsize='large')\n",
      "plt.ylabel('Absoluto de la diferencia')\n",
      "plt.show()"
     ],
     "language": "python",
     "metadata": {},
     "outputs": [
      {
       "metadata": {},
       "output_type": "display_data",
       "png": "[encoded data removed]",
       "text": [
        "<matplotlib.figure.Figure at 0x4f8dcd0>"
       ]
      }
     ],
     "prompt_number": 23
    },
    {
     "cell_type": "code",
     "collapsed": false,
     "input": [
      "li=range(0,100)\n",
      "la=range(0,100)\n",
      "\n",
      "\n",
      "for k in range(0,100):\n",
      "\n",
      "    A=CPIntervalo(Intervalo(np.random.uniform(0,10),np.random.uniform(0,10)),\\\n",
      "                  Intervalo(np.random.uniform(0,10),np.random.uniform(0,10)))\n",
      "    B=cart2polar(polar2cart(A))\n",
      "    \n",
      "    li[k]=(A.mod-B.mod).abs()\n",
      "    la[k]=(A.arg-B.arg).abs()"
     ],
     "language": "python",
     "metadata": {},
     "outputs": [
      {
       "output_type": "stream",
       "stream": "stdout",
       "text": [
        "Advertencia: El intervalo contiene el cero\n",
        "Advertencia: El intervalo contiene el cero\n",
        "Advertencia: El intervalo contiene el cero\n",
        "Advertencia: El intervalo contiene el cero\n",
        "Advertencia: El intervalo contiene el cero\n",
        "Advertencia: El intervalo contiene el cero\n",
        "Advertencia: El intervalo contiene el cero\n",
        "Advertencia: El intervalo contiene el cero\n",
        "Advertencia: El intervalo contiene el cero\n",
        "Advertencia: El intervalo contiene el cero\n",
        "Advertencia: El intervalo contiene el cero\n",
        "Advertencia: El intervalo contiene el cero\n",
        "Advertencia: El intervalo contiene el cero\n",
        "Advertencia: El intervalo contiene el cero\n",
        "Advertencia: El intervalo contiene el cero\n",
        "Advertencia: El intervalo contiene el cero\n",
        "Advertencia: El intervalo contiene el cero\n",
        "Advertencia: El intervalo contiene el cero\n",
        "Advertencia: El intervalo contiene el cero\n",
        "Advertencia: El intervalo contiene el cero\n",
        "Advertencia: El intervalo contiene el cero\n",
        "Advertencia: El intervalo contiene el cero\n",
        "Advertencia: El intervalo contiene el cero\n",
        "Advertencia: El intervalo contiene el cero\n",
        "Advertencia: El intervalo contiene el cero\n",
        "Advertencia: El intervalo contiene el cero\n",
        "Advertencia: El intervalo contiene el cero\n",
        "Advertencia: El intervalo contiene el cero\n",
        "Advertencia: El intervalo contiene el cero\n",
        "Advertencia: El intervalo contiene el cero\n",
        "Advertencia: El intervalo contiene el cero\n",
        "Advertencia: El intervalo contiene el cero\n",
        "Advertencia: El intervalo contiene el cero\n",
        "Advertencia: El intervalo contiene el cero\n",
        "Advertencia: El intervalo contiene el cero\n",
        "Advertencia: El intervalo contiene el cero\n",
        "Advertencia: El intervalo contiene el cero\n",
        "Advertencia: El intervalo contiene el cero\n",
        "Advertencia: El intervalo contiene el cero\n",
        "Advertencia: El intervalo contiene el cero\n",
        "Advertencia: El intervalo contiene el cero\n",
        "Advertencia: El intervalo contiene el cero\n",
        "Advertencia: El intervalo contiene el cero\n",
        "Advertencia: El intervalo contiene el cero\n",
        "Advertencia: El intervalo contiene el cero\n",
        "Advertencia: El intervalo contiene el cero\n",
        "Advertencia: El intervalo contiene el cero\n",
        "Advertencia: El intervalo contiene el cero\n",
        "Advertencia: El intervalo contiene el cero\n",
        "Advertencia: El intervalo contiene el cero\n",
        "Advertencia: El intervalo contiene el cero\n",
        "Advertencia: El intervalo contiene el cero\n",
        "Advertencia: El intervalo contiene el cero\n",
        "Advertencia: El intervalo contiene el cero\n",
        "Advertencia: El intervalo contiene el cero\n",
        "Advertencia: El intervalo contiene el cero\n",
        "Advertencia: El intervalo contiene el cero\n",
        "Advertencia: El intervalo contiene el cero\n",
        "Advertencia: El intervalo contiene el cero\n",
        "Advertencia: El intervalo contiene el cero\n",
        "Advertencia: El intervalo contiene el cero\n",
        "Advertencia: El intervalo contiene el cero\n",
        "Advertencia: El intervalo contiene el cero\n",
        "Advertencia: El intervalo contiene el cero\n",
        "Advertencia: El intervalo contiene el cero\n",
        "Advertencia: El intervalo contiene el cero\n",
        "Advertencia: El intervalo contiene el cero\n",
        "Advertencia: El intervalo contiene el cero\n",
        "Advertencia: El intervalo contiene el cero\n",
        "Advertencia: El intervalo contiene el cero\n",
        "Advertencia: El intervalo contiene el cero\n",
        "Advertencia: El intervalo contiene el cero\n",
        "Advertencia: El intervalo contiene el cero\n",
        "Advertencia: El intervalo contiene el cero\n",
        "Advertencia: El intervalo contiene el cero\n",
        "Advertencia: El intervalo contiene el cero\n",
        "Advertencia: El intervalo contiene el cero\n",
        "Advertencia: El intervalo contiene el cero\n",
        "Advertencia: El intervalo contiene el cero\n",
        "Advertencia: El intervalo contiene el cero\n",
        "Advertencia: El intervalo contiene el cero\n",
        "Advertencia: El intervalo contiene el cero\n",
        "Advertencia: El intervalo contiene el cero\n",
        "Advertencia: El intervalo contiene el cero\n",
        "Advertencia: El intervalo contiene el cero\n",
        "Advertencia: El intervalo contiene el cero\n",
        "Advertencia: El intervalo contiene el cero\n",
        "Advertencia: El intervalo contiene el cero\n",
        "Advertencia: El intervalo contiene el cero\n",
        "Advertencia: El intervalo contiene el cero\n",
        "Advertencia: El intervalo contiene el cero\n",
        "Advertencia: El intervalo contiene el cero\n",
        "Advertencia: El intervalo contiene el cero\n",
        "Advertencia: El intervalo contiene el cero\n",
        "Advertencia: El intervalo contiene el cero\n",
        "Advertencia: El intervalo contiene el cero\n",
        "Advertencia: El intervalo contiene el cero\n",
        "Advertencia: El intervalo contiene el cero\n",
        "Advertencia: El intervalo contiene el cero\n",
        "Advertencia: El intervalo contiene el cero\n",
        "Advertencia: El intervalo contiene el cero\n",
        "Advertencia: El intervalo contiene el cero\n",
        "Advertencia: El intervalo contiene el cero\n",
        "Advertencia: El intervalo contiene el cero\n",
        "Advertencia: El intervalo contiene el cero\n",
        "Advertencia: El intervalo contiene el cero\n",
        "Advertencia: El intervalo contiene el cero\n",
        "Advertencia: El intervalo contiene el cero\n",
        "Advertencia: El intervalo contiene el cero\n",
        "Advertencia: El intervalo contiene el cero\n",
        "Advertencia: El intervalo contiene el cero\n",
        "Advertencia: El intervalo contiene el cero\n",
        "Advertencia: El intervalo contiene el cero\n",
        "Advertencia: El intervalo contiene el cero\n",
        "Advertencia: El intervalo contiene el cero\n",
        "Advertencia: El intervalo contiene el cero\n",
        "Advertencia: El intervalo contiene el cero\n",
        "Advertencia: El intervalo contiene el cero\n",
        "Advertencia: El intervalo contiene el cero\n",
        "Advertencia: El intervalo contiene el cero\n",
        "Advertencia: El intervalo contiene el cero\n",
        "Advertencia: El intervalo contiene el cero\n",
        "Advertencia: El intervalo contiene el cero\n",
        "Advertencia: El intervalo contiene el cero\n",
        "Advertencia: El intervalo contiene el cero\n",
        "Advertencia: El intervalo contiene el cero\n",
        "Advertencia: El intervalo contiene el cero\n",
        "Advertencia: El intervalo contiene el cero\n",
        "Advertencia: El intervalo contiene el cero\n",
        "Advertencia: El intervalo contiene el cero\n",
        "Advertencia: El intervalo contiene el cero\n",
        "Advertencia: El intervalo contiene el cero\n",
        "Advertencia: El intervalo contiene el cero\n",
        "Advertencia: El intervalo contiene el cero\n",
        "Advertencia: El intervalo contiene el cero\n",
        "Advertencia: El intervalo contiene el cero\n",
        "Advertencia: El intervalo contiene el cero\n",
        "Advertencia: El intervalo contiene el cero\n",
        "Advertencia: El intervalo contiene el cero\n",
        "Advertencia: El intervalo contiene el cero\n",
        "Advertencia: El intervalo contiene el cero\n",
        "Advertencia: El intervalo contiene el cero\n",
        "Advertencia: El intervalo contiene el cero\n",
        "Advertencia: El intervalo contiene el cero\n",
        "Advertencia: El intervalo contiene el cero\n",
        "Advertencia: El intervalo contiene el cero\n",
        "Advertencia: El intervalo contiene el cero\n",
        "Advertencia: El intervalo contiene el cero\n",
        "Advertencia: El intervalo contiene el cero\n",
        "Advertencia: El intervalo contiene el cero\n",
        "Advertencia: El intervalo contiene el cero\n",
        "Advertencia: El intervalo contiene el cero\n",
        "Advertencia: El intervalo contiene el cero\n",
        "Advertencia: El intervalo contiene el cero\n",
        "Advertencia: El intervalo contiene el cero\n",
        "Advertencia: El intervalo contiene el cero\n",
        "Advertencia: El intervalo contiene el cero\n",
        "Advertencia: El intervalo contiene el cero\n",
        "Advertencia: El intervalo contiene el cero\n",
        "Advertencia: El intervalo contiene el cero\n",
        "Advertencia: El intervalo contiene el cero\n",
        "Advertencia: El intervalo contiene el cero\n",
        "Advertencia: El intervalo contiene el cero\n",
        "Advertencia: El intervalo contiene el cero\n",
        "Advertencia: El intervalo contiene el cero\n",
        "Advertencia: El intervalo contiene el cero\n",
        "Advertencia: El intervalo contiene el cero\n",
        "Advertencia: El intervalo contiene el cero\n",
        "Advertencia: El intervalo contiene el cero\n",
        "Advertencia: El intervalo contiene el cero\n",
        "Advertencia: El intervalo contiene el cero\n",
        "Advertencia: El intervalo contiene el cero\n",
        "Advertencia: El intervalo contiene el cero\n",
        "Advertencia: El intervalo contiene el cero\n",
        "Advertencia: El intervalo contiene el cero\n",
        "Advertencia: El intervalo contiene el cero\n",
        "Advertencia: El intervalo contiene el cero\n",
        "Advertencia: El intervalo contiene el cero\n",
        "Advertencia: El intervalo contiene el cero\n",
        "Advertencia: El intervalo contiene el cero\n",
        "Advertencia: El intervalo contiene el cero\n",
        "Advertencia: El intervalo contiene el cero\n",
        "Advertencia: El intervalo contiene el cero\n",
        "Advertencia: El intervalo contiene el cero\n",
        "Advertencia: El intervalo contiene el cero\n",
        "Advertencia: El intervalo contiene el cero\n",
        "Advertencia: El intervalo contiene el cero\n",
        "Advertencia: El intervalo contiene el cero\n",
        "Advertencia: El intervalo contiene el cero\n",
        "Advertencia: El intervalo contiene el cero\n",
        "Advertencia: El intervalo contiene el cero\n",
        "Advertencia: El intervalo contiene el cero\n",
        "Advertencia: El intervalo contiene el cero\n",
        "Advertencia: El intervalo contiene el cero\n",
        "Advertencia: El intervalo contiene el cero\n",
        "Advertencia: El intervalo contiene el cero\n",
        "Advertencia: El intervalo contiene el cero\n",
        "Advertencia: El intervalo contiene el cero\n",
        "Advertencia: El intervalo contiene el cero\n",
        "Advertencia: El intervalo contiene el cero\n",
        "Advertencia: El intervalo contiene el cero\n",
        "Advertencia: El intervalo contiene el cero\n",
        "Advertencia: El intervalo contiene el cero\n",
        "Advertencia: El intervalo contiene el cero\n",
        "Advertencia: El intervalo contiene el cero\n",
        "Advertencia: El intervalo contiene el cero\n",
        "Advertencia: El intervalo contiene el cero\n",
        "Advertencia: El intervalo contiene el cero\n",
        "Advertencia: El intervalo contiene el cero\n",
        "Advertencia: El intervalo contiene el cero\n",
        "Advertencia: El intervalo contiene el cero\n",
        "Advertencia: El intervalo contiene el cero\n",
        "Advertencia: El intervalo contiene el cero\n",
        "Advertencia: El intervalo contiene el cero\n",
        "Advertencia: El intervalo contiene el cero\n",
        "Advertencia: El intervalo contiene el cero\n",
        "Advertencia: El intervalo contiene el cero\n",
        "Advertencia: El intervalo contiene el cero\n",
        "Advertencia: El intervalo contiene el cero\n",
        "Advertencia: El intervalo contiene el cero\n",
        "Advertencia: El intervalo contiene el cero\n",
        "Advertencia: El intervalo contiene el cero\n",
        "Advertencia: El intervalo contiene el cero\n",
        "Advertencia: El intervalo contiene el cero\n",
        "Advertencia: El intervalo contiene el cero\n",
        "Advertencia: El intervalo contiene el cero\n",
        "Advertencia: El intervalo contiene el cero\n",
        "Advertencia: El intervalo contiene el cero\n",
        "Advertencia: El intervalo contiene el cero\n",
        "Advertencia: El intervalo contiene el cero\n",
        "Advertencia: El intervalo contiene el cero\n",
        "Advertencia: El intervalo contiene el cero\n",
        "Advertencia: El intervalo contiene el cero\n",
        "Advertencia: El intervalo contiene el cero\n",
        "Advertencia: El intervalo contiene el cero\n",
        "Advertencia: El intervalo contiene el cero\n",
        "Advertencia: El intervalo contiene el cero\n",
        "Advertencia: El intervalo contiene el cero\n",
        "Advertencia: El intervalo contiene el cero\n",
        "Advertencia: El intervalo contiene el cero\n",
        "Advertencia: El intervalo contiene el cero\n",
        "Advertencia: El intervalo contiene el cero\n",
        "Advertencia: El intervalo contiene el cero\n",
        "Advertencia: El intervalo contiene el cero\n",
        "Advertencia: El intervalo contiene el cero\n",
        "Advertencia: El intervalo contiene el cero\n",
        "Advertencia: El intervalo contiene el cero\n",
        "Advertencia: El intervalo contiene el cero\n",
        "Advertencia: El intervalo contiene el cero\n",
        "Advertencia: El intervalo contiene el cero\n",
        "Advertencia: El intervalo contiene el cero\n",
        "Advertencia: El intervalo contiene el cero\n",
        "Advertencia: El intervalo contiene el cero\n",
        "Advertencia: El intervalo contiene el cero\n",
        "Advertencia: El intervalo contiene el cero\n",
        "Advertencia: El intervalo contiene el cero\n",
        "Advertencia: El intervalo contiene el cero\n",
        "Advertencia: El intervalo contiene el cero\n",
        "Advertencia: El intervalo contiene el cero\n",
        "Advertencia: El intervalo contiene el cero\n",
        "Advertencia: El intervalo contiene el cero\n",
        "Advertencia: El intervalo contiene el cero\n",
        "Advertencia: El intervalo contiene el cero\n",
        "Advertencia: El intervalo contiene el cero\n",
        "Advertencia: El intervalo contiene el cero\n",
        "Advertencia: El intervalo contiene el cero\n",
        "Advertencia: El intervalo contiene el cero\n",
        "Advertencia: El intervalo contiene el cero\n",
        "Advertencia: El intervalo contiene el cero\n",
        "Advertencia: El intervalo contiene el cero\n",
        "Advertencia: El intervalo contiene el cero\n",
        "Advertencia: El intervalo contiene el cero\n",
        "Advertencia: El intervalo contiene el cero\n",
        "Advertencia: El intervalo contiene el cero\n",
        "Advertencia: El intervalo contiene el cero\n",
        "Advertencia: El intervalo contiene el cero\n",
        "Advertencia: El intervalo contiene el cero\n",
        "Advertencia: El intervalo contiene el cero\n",
        "Advertencia: El intervalo contiene el cero\n",
        "Advertencia: El intervalo contiene el cero\n",
        "Advertencia: El intervalo contiene el cero\n",
        "Advertencia: El intervalo contiene el cero\n",
        "Advertencia: El intervalo contiene el cero\n",
        "Advertencia: El intervalo contiene el cero\n",
        "Advertencia: El intervalo contiene el cero\n",
        "Advertencia: El intervalo contiene el cero\n",
        "Advertencia: El intervalo contiene el cero\n",
        "Advertencia: El intervalo contiene el cero\n",
        "Advertencia: El intervalo contiene el cero\n",
        "Advertencia: El intervalo contiene el cero\n"
       ]
      }
     ],
     "prompt_number": 24
    },
    {
     "cell_type": "code",
     "collapsed": false,
     "input": [
      "plt.figure()\n",
      "plt.plot(li)\n",
      "plt.plot(la)\n",
      "plt.xlabel('Evento',fontsize='large')\n",
      "plt.ylabel('Absoluto de la diferencia')\n",
      "plt.show()"
     ],
     "language": "python",
     "metadata": {},
     "outputs": [
      {
       "metadata": {},
       "output_type": "display_data",
       "png": "[encoded data removed]",
       "text": [
        "<matplotlib.figure.Figure at 0x4f9b750>"
       ]
      }
     ],
     "prompt_number": 25
    },
    {
     "cell_type": "code",
     "collapsed": false,
     "input": [
      "li=range(0,100)\n",
      "la=range(0,100)\n",
      "\n",
      "\n",
      "for k in range(0,100):\n",
      "\n",
      "    A=CIntervalo(Intervalo(np.random.uniform(0,10),np.random.uniform(0,10)),\\\n",
      "                  Intervalo(np.random.uniform(0,10),np.random.uniform(0,10)))\n",
      "    B=polar2cart(cart2polar(A))\n",
      "    \n",
      "    li[k]=(A.re-B.re).abs()\n",
      "    la[k]=(A.im-B.im).abs()"
     ],
     "language": "python",
     "metadata": {},
     "outputs": [],
     "prompt_number": 26
    },
    {
     "cell_type": "code",
     "collapsed": false,
     "input": [
      "plt.figure()\n",
      "plt.plot(li)\n",
      "plt.plot(la)\n",
      "plt.xlabel('Evento',fontsize='large')\n",
      "plt.ylabel('Absoluto de la diferencia')\n",
      "plt.show()"
     ],
     "language": "python",
     "metadata": {},
     "outputs": [
      {
       "metadata": {},
       "output_type": "display_data",
       "png": "[encoded data removed]",
       "text": [
        "<matplotlib.figure.Figure at 0x4fdd410>"
       ]
      }
     ],
     "prompt_number": 27
    },
    {
     "cell_type": "heading",
     "level": 3,
     "metadata": {},
     "source": [
      "Aplicaciones"
     ]
    },
    {
     "cell_type": "code",
     "collapsed": false,
     "input": [
      "def epsilon(tau, alpha):\n",
      "    \n",
      "    return 3+6/(1+(2*np.pi*10**(6.0)*tau)**alpha)"
     ],
     "language": "python",
     "metadata": {},
     "outputs": [],
     "prompt_number": 10
    },
    {
     "cell_type": "code",
     "collapsed": false,
     "input": [
      "time=exp(CIntervalo(Intervalo(-7.0,5.0)))\n",
      "alpha=CIntervalo(Intervalo(0.1,1.0))\n",
      "result=epsilon(time,alpha)\n",
      "result"
     ],
     "language": "python",
     "metadata": {},
     "outputs": [
      {
       "output_type": "stream",
       "stream": "stdout",
       "text": [
        "Advertencia: El intervalo contiene el cero\n",
        "Advertencia: El intervalo contiene el cero\n"
       ]
      },
      {
       "html": [
        "[[3.0,490961388.7], [-0.011677097777,-1.00374883903e-33]]"
       ],
       "latex": [
        "$[[3.0,490961388.7], [-0.011677097777,-1.00374883903e-33]]$"
       ],
       "metadata": {},
       "output_type": "pyout",
       "prompt_number": 11,
       "text": [
        "CIntervalo [[3.0,490961388.7],[-0.011677097777,-1.00374883903e-33]]"
       ]
      }
     ],
     "prompt_number": 11
    },
    {
     "cell_type": "code",
     "collapsed": false,
     "input": [
      "cart2polar(result)"
     ],
     "language": "python",
     "metadata": {},
     "outputs": [
      {
       "html": [
        "[[3.0,490961388.7], [6.27929294617,6.28318530718]]"
       ],
       "latex": [
        "$[[3.0,490961388.7], [6.27929294617,6.28318530718]]$"
       ],
       "metadata": {},
       "output_type": "pyout",
       "prompt_number": 12,
       "text": [
        "CPIntervalo [[3.0,490961388.7],[6.27929294617,6.28318530718]]"
       ]
      }
     ],
     "prompt_number": 12
    },
    {
     "cell_type": "code",
     "collapsed": false,
     "input": [
      "time=exp(cart2polar(CIntervalo(Intervalo(-7.0,5.0))))\n",
      "alpha=cart2polar(CIntervalo(Intervalo(0.1,1.0)))\n",
      "result=epsilon(time,alpha)\n",
      "result"
     ],
     "language": "python",
     "metadata": {},
     "outputs": [
      {
       "output_type": "stream",
       "stream": "stdout",
       "text": [
        "Advertencia: El intervalo contiene el cero\n",
        "Advertencia: El intervalo contiene el cero\n",
        "Advertencia: El intervalo contiene el cero\n",
        "Advertencia: El intervalo contiene el cero\n",
        "Advertencia: El intervalo contiene el cero\n",
        "Advertencia: El intervalo contiene el cero\n",
        "Advertencia: El intervalo contiene el cero\n",
        "Advertencia: El intervalo contiene el cero\n",
        "Advertencia: El intervalo contiene el cero\n",
        "Advertencia: El intervalo contiene el cero\n",
        "Advertencia: El intervalo contiene el cero\n"
       ]
      },
      {
       "html": [
        "[[0.0,&infin;], [0,6.28318530718]]"
       ],
       "latex": [
        "$[[0.0,inf], [0,6.28318530718]]$"
       ],
       "metadata": {},
       "output_type": "pyout",
       "prompt_number": 13,
       "text": [
        "CPIntervalo [[0.0,inf],[0,6.28318530718]]"
       ]
      }
     ],
     "prompt_number": 13
    },
    {
     "cell_type": "heading",
     "level": 3,
     "metadata": {},
     "source": [
      "Limitaciones en el uso de intervalos: Fractales de Newton"
     ]
    },
    {
     "cell_type": "markdown",
     "metadata": {},
     "source": []
    },
    {
     "cell_type": "code",
     "collapsed": false,
     "input": [
      "#Se define la funcion para la iteracion del metodo de Newton para la funcion x**2-1\n",
      "def f(x):\n",
      "    \n",
      "    return x-(x**4-1.0)/(4*x**3)\n",
      "\n",
      "def f1(x):\n",
      "    \n",
      "    return x-(x**3-1.0)/(3*x**2)\n",
      "\n",
      "def f2(x):\n",
      "    \n",
      "    return x-(x**5-1.0)/(5*x**4)\n",
      "\n",
      "def f3(x):\n",
      "    \n",
      "    return x-(x**2+1.0)/(2*x)\n",
      "\n",
      "def iterator(x, f):\n",
      "    \n",
      "    for k in range(100):\n",
      "        x=f(x)\n",
      "        \n",
      "    return x"
     ],
     "language": "python",
     "metadata": {},
     "outputs": [],
     "prompt_number": 28
    },
    {
     "cell_type": "code",
     "collapsed": false,
     "input": [
      "A=np.zeros((2000,2000), dtype=complex)\n",
      "\n",
      "for i in range(-1000,1000):\n",
      "    \n",
      "    for j in range(-1000,1000):\n",
      "        \n",
      "        A[i,j]=i/500.0+j/500.0*1j"
     ],
     "language": "python",
     "metadata": {},
     "outputs": [],
     "prompt_number": 29
    },
    {
     "cell_type": "heading",
     "level": 3,
     "metadata": {},
     "source": [
      "Fractal de Newton de $f(z)=z^4-1$"
     ]
    },
    {
     "cell_type": "code",
     "collapsed": false,
     "input": [
      "B=iterator(A,f)"
     ],
     "language": "python",
     "metadata": {},
     "outputs": [
      {
       "output_type": "stream",
       "stream": "stderr",
       "text": [
        "-c:4: RuntimeWarning: divide by zero encountered in divide\n",
        "-c:4: RuntimeWarning: invalid value encountered in divide\n"
       ]
      }
     ],
     "prompt_number": 6
    },
    {
     "cell_type": "markdown",
     "metadata": {},
     "source": [
      "* Los puntos rojos indican divergencias"
     ]
    },
    {
     "cell_type": "code",
     "collapsed": false,
     "input": [
      "for i in range(-1000,1000):\n",
      "    \n",
      "    for j in range(-1000,1000):\n",
      "        \n",
      "        \n",
      "        if B[i,j]==1.0 or B[i,j]==-1.0 or B[i,j]==1.0*1j or B[i,j]==-1.0*1j or B[i,j]==0:\n",
      "            \n",
      "            if B[i,j]==1.0*1j:\n",
      "                \n",
      "                B[i,j]=10.0\n",
      "                \n",
      "            if B[i,j]==-1.0*1j:\n",
      "                \n",
      "                B[i,j]=-10.0\n",
      "            \n",
      "        else:\n",
      "            \n",
      "            B[i,j]=20.0"
     ],
     "language": "python",
     "metadata": {},
     "outputs": [],
     "prompt_number": 7
    },
    {
     "cell_type": "code",
     "collapsed": false,
     "input": [
      "plt.figure()\n",
      "plt.contourf(B)\n",
      "plt.colorbar()\n",
      "plt.show()"
     ],
     "language": "python",
     "metadata": {},
     "outputs": [
      {
       "output_type": "stream",
       "stream": "stderr",
       "text": [
        "/home/david/anaconda/lib/python2.7/site-packages/numpy/ma/core.py:2639: ComplexWarning: Casting complex values to real discards the imaginary part\n",
        "  _data = np.array(data, dtype=dtype, copy=copy, subok=True, ndmin=ndmin)\n"
       ]
      },
      {
       "metadata": {},
       "output_type": "display_data",
       "png": "[encoded data removed]",
       "text": [
        "<matplotlib.figure.Figure at 0xaca788c>"
       ]
      }
     ],
     "prompt_number": 8
    },
    {
     "cell_type": "heading",
     "level": 3,
     "metadata": {},
     "source": [
      "Fractal de Newton de $f(z)=z^3-1$"
     ]
    },
    {
     "cell_type": "code",
     "collapsed": false,
     "input": [
      "B=iterator(A, f1)"
     ],
     "language": "python",
     "metadata": {},
     "outputs": [],
     "prompt_number": 41
    },
    {
     "cell_type": "code",
     "collapsed": false,
     "input": [
      "for i in range(-1000,1000):\n",
      "    \n",
      "    for j in range(-1000,1000):\n",
      "        \n",
      "        \n",
      "        if B[i,j]==(1.0+0.0j) or B[i,j]==-0.5+0.8660254j or B[i,j]==-0.5-0.8660254j or B[i,j]==0:\n",
      "            \n",
      "            if abs(B[i,j]-(-0.5+0.8660254j))<0.00000000001:\n",
      "                \n",
      "                B[i,j]=10.0\n",
      "                \n",
      "            if abs(B[i,j]-(-0.5-0.8660254j))<0.00000000001:\n",
      "                \n",
      "                B[i,j]=-10.0\n",
      "            \n",
      "        else:\n",
      "            \n",
      "            B[i,j]=20.0"
     ],
     "language": "python",
     "metadata": {},
     "outputs": [],
     "prompt_number": 42
    },
    {
     "cell_type": "code",
     "collapsed": false,
     "input": [
      "B"
     ],
     "language": "python",
     "metadata": {},
     "outputs": [
      {
       "metadata": {},
       "output_type": "pyout",
       "prompt_number": 43,
       "text": [
        "array([[ 20.+0.j,   1.+0.j,   1.+0.j, ...,   1.+0.j,   1.+0.j,   1.+0.j],\n",
        "       [  1.+0.j,  20.+0.j,  20.+0.j, ...,  20.+0.j,  20.+0.j,  20.+0.j],\n",
        "       [  1.+0.j,   1.+0.j,  20.+0.j, ...,  20.+0.j,  20.+0.j,   1.+0.j],\n",
        "       ..., \n",
        "       [  1.+0.j,   1.+0.j,  20.+0.j, ...,  20.+0.j,  20.+0.j,   1.+0.j],\n",
        "       [  1.+0.j,   1.+0.j,  20.+0.j, ...,  20.+0.j,  20.+0.j,   1.+0.j],\n",
        "       [  1.+0.j,  20.+0.j,  20.+0.j, ...,  20.+0.j,  20.+0.j,  20.+0.j]])"
       ]
      }
     ],
     "prompt_number": 43
    },
    {
     "cell_type": "code",
     "collapsed": false,
     "input": [
      "plt.figure()\n",
      "plt.contourf(B.imag)\n",
      "plt.colorbar()\n",
      "plt.show()"
     ],
     "language": "python",
     "metadata": {},
     "outputs": [
      {
       "metadata": {},
       "output_type": "display_data",
       "png": "[encoded data removed]",
       "text": [
        "<matplotlib.figure.Figure at 0x4fb5950>"
       ]
      }
     ],
     "prompt_number": 44
    },
    {
     "cell_type": "heading",
     "level": 3,
     "metadata": {},
     "source": [
      "Fractal de Newton de $f(z)=z^5-1$"
     ]
    },
    {
     "cell_type": "code",
     "collapsed": false,
     "input": [
      "A5=np.zeros((2000,2000), dtype=complex)\n",
      "\n",
      "for i in range(0,2000):\n",
      "    \n",
      "    for j in range(0,2000):\n",
      "        \n",
      "        A5[i,j]=i/100.0+j/100.0*1j"
     ],
     "language": "python",
     "metadata": {},
     "outputs": [],
     "prompt_number": 27
    },
    {
     "cell_type": "code",
     "collapsed": false,
     "input": [
      "B=iterator(A5, f2)"
     ],
     "language": "python",
     "metadata": {},
     "outputs": [
      {
       "output_type": "stream",
       "stream": "stderr",
       "text": [
        "-c:12: RuntimeWarning: divide by zero encountered in divide\n",
        "-c:12: RuntimeWarning: invalid value encountered in divide\n",
        "-c:12: RuntimeWarning: invalid value encountered in power\n"
       ]
      }
     ],
     "prompt_number": 5
    },
    {
     "cell_type": "code",
     "collapsed": false,
     "input": [
      "for i in range(-1000,1000):\n",
      "    \n",
      "    for j in range(-1000,1000):\n",
      "        \n",
      "        \n",
      "        if B[i,j]==1.0 or B[i,j]==(-0.80901699437494745-0.58778525229247314j) \\\n",
      "        or B[i,j]==(-0.80901699437494745+0.58778525229247314j) or B[i,j]==(0.3090169943749474+0.95105651629515353j) or B[i,j]==(0.3090169943749474-0.95105651629515353j) or B[i,j]==0:\n",
      "            \n",
      "            if B[i,j]==(-0.80901699437494745+0.58778525229247314j):\n",
      "                \n",
      "                B[i,j]=10.0\n",
      "                \n",
      "            if B[i,j]==(-0.80901699437494745-0.58778525229247314j):\n",
      "                \n",
      "                B[i,j]=-10.0\n",
      "                \n",
      "            if B[i,j]==0.30901699 +9.51056516e-01j:\n",
      "                \n",
      "                B[i,j]=5.0\n",
      "                \n",
      "            if B[i,j]==0.30901699 -9.51056516e-01j:\n",
      "                \n",
      "                B[i,j]=-5.0\n",
      "            \n",
      "        else:\n",
      "            \n",
      "            B[i,j]=20.0"
     ],
     "language": "python",
     "metadata": {},
     "outputs": []
    },
    {
     "cell_type": "code",
     "collapsed": false,
     "input": [
      "for i in range(-1000,1000):\n",
      "    \n",
      "    for j in range(-1000,1000):\n",
      "        \n",
      "        if B[i,j].real<2.0 and B[i,j].real>-2.0:\n",
      "            \n",
      "            B[i,j]=10*B[i,j].real\n",
      "            \n",
      "        else:\n",
      "            \n",
      "            B[i,j]=20.0"
     ],
     "language": "python",
     "metadata": {},
     "outputs": [],
     "prompt_number": 7
    },
    {
     "cell_type": "code",
     "collapsed": false,
     "input": [
      "plt.figure()\n",
      "plt.contourf(B)\n",
      "plt.colorbar()\n",
      "plt.show()"
     ],
     "language": "python",
     "metadata": {},
     "outputs": [
      {
       "output_type": "stream",
       "stream": "stderr",
       "text": [
        "/home/david/anaconda/lib/python2.7/site-packages/numpy/ma/core.py:2639: ComplexWarning: Casting complex values to real discards the imaginary part\n",
        "  _data = np.array(data, dtype=dtype, copy=copy, subok=True, ndmin=ndmin)\n"
       ]
      },
      {
       "metadata": {},
       "output_type": "display_data",
       "png": "[encoded data removed]",
       "text": [
        "<matplotlib.figure.Figure at 0x20396d0>"
       ]
      }
     ],
     "prompt_number": 8
    },
    {
     "cell_type": "code",
     "collapsed": false,
     "input": [
      "B=iterator(A,f3)"
     ],
     "language": "python",
     "metadata": {},
     "outputs": [],
     "prompt_number": 53
    },
    {
     "cell_type": "code",
     "collapsed": false,
     "input": [
      "B[100,1000]"
     ],
     "language": "python",
     "metadata": {},
     "outputs": [
      {
       "metadata": {},
       "output_type": "pyout",
       "prompt_number": 55,
       "text": [
        "-1j"
       ]
      }
     ],
     "prompt_number": 55
    },
    {
     "cell_type": "code",
     "collapsed": false,
     "input": [
      "for i in range(-1000,1000):\n",
      "    \n",
      "    for j in range(-1000,1000):\n",
      "        \n",
      "        \n",
      "        if B[i,j]==-1j or B[i,j]==1j or B[i,j]==0.0:\n",
      "            \n",
      "            if B[i,j]==1j:\n",
      "                \n",
      "                B[i,j]=1.0\n",
      "                \n",
      "            if B[i,j]==-1j:\n",
      "                \n",
      "                B[i,j]=-1.0\n",
      "            \n",
      "        else:\n",
      "            \n",
      "            B[i,j]=20.0"
     ],
     "language": "python",
     "metadata": {},
     "outputs": [],
     "prompt_number": 56
    },
    {
     "cell_type": "code",
     "collapsed": false,
     "input": [
      "plt.figure()\n",
      "plt.contourf(B)\n",
      "plt.colorbar()\n",
      "plt.show()"
     ],
     "language": "python",
     "metadata": {},
     "outputs": [
      {
       "metadata": {},
       "output_type": "display_data",
       "png": "[encoded data removed]",
       "text": [
        "<matplotlib.figure.Figure at 0xa6e54ec>"
       ]
      }
     ],
     "prompt_number": 58
    },
    {
     "cell_type": "code",
     "collapsed": false,
     "input": [
      "a=0.1\n",
      "\n",
      "x=range(0,100)\n",
      "\n",
      "for i in range(0,100):\n",
      "        \n",
      "    a=f3(a)\n",
      "        \n",
      "    x[i]=a\n",
      "    \n",
      "a=0.1000001\n",
      "\n",
      "y=range(0,100)\n",
      "\n",
      "for i in range(0,100):\n",
      "        \n",
      "    a=f3(a)\n",
      "        \n",
      "    y[i]=a\n",
      "    \n",
      "a=0.100001\n",
      "\n",
      "z=range(0,100)\n",
      "\n",
      "for i in range(0,100):\n",
      "        \n",
      "    a=f3(a)\n",
      "        \n",
      "    z[i]=a"
     ],
     "language": "python",
     "metadata": {},
     "outputs": [],
     "prompt_number": 15
    },
    {
     "cell_type": "code",
     "collapsed": false,
     "input": [
      "plt.figure()\n",
      "plt.plot(x)\n",
      "plt.plot(y)\n",
      "plt.plot(z)\n",
      "plt.title('Ceros de $x^2+1$', fontsize='large')\n",
      "plt.xlabel('pasos', fontsize='large')\n",
      "plt.show()"
     ],
     "language": "python",
     "metadata": {},
     "outputs": [
      {
       "metadata": {},
       "output_type": "display_data",
       "png": "[encoded data removed]",
       "text": [
        "<matplotlib.figure.Figure at 0x54316d0>"
       ]
      }
     ],
     "prompt_number": 21
    },
    {
     "cell_type": "heading",
     "level": 2,
     "metadata": {},
     "source": [
      "Newton 1D"
     ]
    },
    {
     "cell_type": "code",
     "collapsed": false,
     "input": [
      "def f(x):\n",
      "    \n",
      "    return x**4-1.0\n",
      "\n",
      "def fp(x):\n",
      "    \n",
      "    return 4*x**3\n",
      "\n",
      "def f2(x):\n",
      "    \n",
      "    return x**2+1.0\n",
      "\n",
      "def f2p(x):\n",
      "    \n",
      "    return 2.0*x"
     ],
     "language": "python",
     "metadata": {},
     "outputs": [],
     "prompt_number": 3
    },
    {
     "cell_type": "code",
     "collapsed": false,
     "input": [
      "x0=CIntervalo(Intervalo(0.0,0.4),Intervalo(1.5,1.6))\n",
      "x0"
     ],
     "language": "python",
     "metadata": {},
     "outputs": [
      {
       "html": [
        "[[0.0,0.4], [1.5,1.6]]<sub>c</sub> "
       ],
       "latex": [
        "$[[0.0,0.4], [1.5,1.6]]_c$"
       ],
       "metadata": {},
       "output_type": "pyout",
       "prompt_number": 4,
       "text": [
        "CIntervalo [[0.0,0.4],[1.5,1.6]]"
       ]
      }
     ],
     "prompt_number": 4
    },
    {
     "cell_type": "code",
     "collapsed": false,
     "input": [
      "intervaliterator(f,fp,x0,3)"
     ],
     "language": "python",
     "metadata": {},
     "outputs": [
      {
       "output_type": "stream",
       "stream": "stdout",
       "text": [
        "Advertencia: El intervalo contiene el cero\n",
        "Advertencia: El intervalo contiene el cero\n",
        "Advertencia: El intervalo contiene el cero\n",
        "Advertencia: El intervalo contiene el cero\n",
        "Advertencia: El intervalo contiene el cero\n",
        "Advertencia: El intervalo contiene el cero\n",
        "Advertencia: El intervalo contiene el cero\n",
        "Advertencia: El intervalo contiene el cero\n",
        "Advertencia: El intervalo contiene el cero\n",
        "Advertencia: El intervalo contiene el cero\n",
        "Advertencia: El intervalo contiene el cero\n",
        "Advertencia: El intervalo contiene el cero\n",
        "Advertencia: El intervalo contiene el cero\n",
        "Advertencia: El intervalo contiene el cero\n",
        "Advertencia: El intervalo contiene el cero\n",
        "Advertencia: El intervalo contiene el cero\n",
        "Advertencia: El intervalo contiene el cero\n",
        "Advertencia: El intervalo contiene el cero\n",
        "Advertencia: El intervalo contiene el cero\n",
        "Advertencia: El intervalo contiene el cero\n",
        "Advertencia: El intervalo contiene el cero\n",
        "No convergio a la raiz\n"
       ]
      }
     ],
     "prompt_number": 5
    },
    {
     "cell_type": "code",
     "collapsed": false,
     "input": [
      "x0=CIntervalo(Intervalo(-2.0,-1.0),Intervalo(0.1,0.1))\n",
      "x0"
     ],
     "language": "python",
     "metadata": {},
     "outputs": [
      {
       "html": [
        "[[-2.0,-1.0], [0.1,0.1]]<sub>c</sub> "
       ],
       "latex": [
        "$[[-2.0,-1.0], [0.1,0.1]]_c$"
       ],
       "metadata": {},
       "output_type": "pyout",
       "prompt_number": 6,
       "text": [
        "CIntervalo [[-2.0,-1.0],[0.1,0.1]]"
       ]
      }
     ],
     "prompt_number": 6
    },
    {
     "cell_type": "code",
     "collapsed": false,
     "input": [
      "NewtonOperator(f2,f2p,x0)"
     ],
     "language": "python",
     "metadata": {},
     "outputs": [
      {
       "output_type": "stream",
       "stream": "stdout",
       "text": [
        "Advertencia: El intervalo contiene el cero\n",
        "Advertencia: El intervalo contiene el cero\n"
       ]
      },
      {
       "html": [
        "[[-1.09226932668,1.72277227723], [-0.0366336633663,0.111881188119]]<sub>c</sub> "
       ],
       "latex": [
        "$[[-1.09226932668,1.72277227723], [-0.0366336633663,0.111881188119]]_c$"
       ],
       "metadata": {},
       "output_type": "pyout",
       "prompt_number": 7,
       "text": [
        "CIntervalo [[-1.09226932668,1.72277227723],[-0.0366336633663,0.111881188119]]"
       ]
      }
     ],
     "prompt_number": 7
    },
    {
     "cell_type": "code",
     "collapsed": false,
     "input": [
      "intervaliterator(f2, f2p, x0,5)"
     ],
     "language": "python",
     "metadata": {},
     "outputs": [
      {
       "output_type": "stream",
       "stream": "stdout",
       "text": [
        "Advertencia: El intervalo contiene el cero\n",
        "Advertencia: El intervalo contiene el cero\n",
        "Advertencia: El intervalo contiene el cero\n",
        "Advertencia: El intervalo contiene el cero\n",
        "No convergio a la raiz\n"
       ]
      }
     ],
     "prompt_number": 8
    },
    {
     "cell_type": "code",
     "collapsed": false,
     "input": [
      "x0=CIntervalo(Intervalo(-20.0,20.0),Intervalo(-20.0,20.0))\n",
      "x0"
     ],
     "language": "python",
     "metadata": {},
     "outputs": [
      {
       "html": [
        "[[-20.0,20.0], [-20.0,20.0]]<sub>c</sub> "
       ],
       "latex": [
        "$[[-20.0,20.0], [-20.0,20.0]]_c$"
       ],
       "metadata": {},
       "output_type": "pyout",
       "prompt_number": 10,
       "text": [
        "CIntervalo [[-20.0,20.0],[-20.0,20.0]]"
       ]
      }
     ],
     "prompt_number": 10
    },
    {
     "cell_type": "code",
     "collapsed": false,
     "input": [
      "x0.middle()"
     ],
     "language": "python",
     "metadata": {},
     "outputs": [
      {
       "html": [
        "[[0.0,0.0], [0.0,0.0]]<sub>c</sub> "
       ],
       "latex": [
        "$[[0.0,0.0], [0.0,0.0]]_c$"
       ],
       "metadata": {},
       "output_type": "pyout",
       "prompt_number": 11,
       "text": [
        "CIntervalo [[0.0,0.0],[0.0,0.0]]"
       ]
      }
     ],
     "prompt_number": 11
    },
    {
     "cell_type": "code",
     "collapsed": false,
     "input": [
      "f2p(x0)"
     ],
     "language": "python",
     "metadata": {},
     "outputs": [
      {
       "ename": "NameError",
       "evalue": "name 'f2p' is not defined",
       "output_type": "pyerr",
       "traceback": [
        "\u001b[1;31m---------------------------------------------------------------------------\u001b[0m\n\u001b[1;31mNameError\u001b[0m                                 Traceback (most recent call last)",
        "\u001b[1;32m<ipython-input-46-c05df879cf3a>\u001b[0m in \u001b[0;36m<module>\u001b[1;34m()\u001b[0m\n\u001b[1;32m----> 1\u001b[1;33m \u001b[0mf2p\u001b[0m\u001b[1;33m(\u001b[0m\u001b[0mx0\u001b[0m\u001b[1;33m)\u001b[0m\u001b[1;33m\u001b[0m\u001b[0m\n\u001b[0m",
        "\u001b[1;31mNameError\u001b[0m: name 'f2p' is not defined"
       ]
      }
     ],
     "prompt_number": 46
    },
    {
     "cell_type": "heading",
     "level": 3,
     "metadata": {},
     "source": [
      "Zeros de la funcion $\\zeta(z)$ de Riemann"
     ]
    },
    {
     "cell_type": "heading",
     "level": 3,
     "metadata": {},
     "source": [
      "DIscusion y conclusiones"
     ]
    },
    {
     "cell_type": "code",
     "collapsed": false,
     "input": [],
     "language": "python",
     "metadata": {},
     "outputs": []
    }
   ],
   "metadata": {}
  }
 ]
}