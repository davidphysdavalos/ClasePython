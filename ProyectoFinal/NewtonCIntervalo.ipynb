{
 "metadata": {
  "name": ""
 },
 "nbformat": 3,
 "nbformat_minor": 0,
 "worksheets": [
  {
   "cells": [
    {
     "cell_type": "code",
     "collapsed": false,
     "input": [
      "import scipy as sci\n",
      "import numpy as np\n",
      "import matplotlib.pyplot as plt\n",
      "import sympy as sym\n",
      "from scipy.special import zeta\n",
      "import sympy.mpmath as mp\n",
      "from intervalo import *\n",
      "from difauto import *\n",
      "from cpintervalo import *\n",
      "from cintervalo import *\n",
      "#from zeta import Z as ZZ\n",
      "I=1j\n",
      "%matplotlib inline"
     ],
     "language": "python",
     "metadata": {},
     "outputs": [],
     "prompt_number": 1
    },
    {
     "cell_type": "code",
     "collapsed": false,
     "input": [
      "def NewtonOperator(f,fprime,x):\n",
      "    '''\n",
      "    NewtonOperator(f,fprime,x)\n",
      "    '''\n",
      "    m=x.middle()\n",
      "    \n",
      "    return m-f(m)/fprime(x)"
     ],
     "language": "python",
     "metadata": {},
     "outputs": [],
     "prompt_number": 2
    },
    {
     "cell_type": "code",
     "collapsed": false,
     "input": [
      "def f(x):\n",
      "    return x*x+4.0\n",
      "\n",
      "def fp(x):\n",
      "    \n",
      "    return 2.0*x"
     ],
     "language": "python",
     "metadata": {},
     "outputs": [],
     "prompt_number": 3
    },
    {
     "cell_type": "code",
     "collapsed": false,
     "input": [
      "def f2(x):\n",
      "    \n",
      "    return 16.0+17.0*x*x+x*x*x*x\n",
      "\n",
      "def f2p(x):\n",
      "    \n",
      "    return 34.0*x+4.0*x*x*x"
     ],
     "language": "python",
     "metadata": {},
     "outputs": [],
     "prompt_number": 4
    },
    {
     "cell_type": "code",
     "collapsed": false,
     "input": [
      "def g(x):\n",
      "    \n",
      "    return x**4-1.0\n",
      "\n",
      "def gp(x):\n",
      "    \n",
      "    return 4.0*x**3"
     ],
     "language": "python",
     "metadata": {},
     "outputs": [],
     "prompt_number": 39
    },
    {
     "cell_type": "code",
     "collapsed": false,
     "input": [
      "def iterator(f,fp,x,n):\n",
      "    \n",
      "    '''\n",
      "    iterator(f,fp,x,n)\n",
      "    \n",
      "    '''\n",
      "    \n",
      "    for k in range(0,n):\n",
      "    \n",
      "        N=NewtonOperator(f,fp,x)\n",
      "        \n",
      "        x=x&N\n",
      "        \n",
      "        if x is None:\n",
      "            \n",
      "            print 'No convergio a la raiz'\n",
      "            \n",
      "            return None\n",
      "        \n",
      "    return x"
     ],
     "language": "python",
     "metadata": {},
     "outputs": [],
     "prompt_number": 6
    },
    {
     "cell_type": "code",
     "collapsed": false,
     "input": [
      "def ff(x):\n",
      "    \n",
      "    return 34.0-38.0*x+23.0*x**2-4.0*x**3+x**4\n",
      "    \n",
      "def ffp(x):\n",
      "    \n",
      "    return -38.0+46.0*x-12.0*x**2+4.0*x**3"
     ],
     "language": "python",
     "metadata": {},
     "outputs": [],
     "prompt_number": 19
    },
    {
     "cell_type": "code",
     "collapsed": false,
     "input": [
      "a=CIntervalo(Intervalo(-2.0,2.0),Intervalo(-2.0,2.0))\n",
      "iterator(g, gp, a, 100)"
     ],
     "language": "python",
     "metadata": {},
     "outputs": [
      {
       "ename": "ZeroDivisionError",
       "evalue": "float division by zero",
       "output_type": "pyerr",
       "traceback": [
        "\u001b[1;31m---------------------------------------------------------------------------\u001b[0m\n\u001b[1;31mZeroDivisionError\u001b[0m                         Traceback (most recent call last)",
        "\u001b[1;32m<ipython-input-41-ffa33abc0aa2>\u001b[0m in \u001b[0;36m<module>\u001b[1;34m()\u001b[0m\n\u001b[0;32m      1\u001b[0m \u001b[0ma\u001b[0m\u001b[1;33m=\u001b[0m\u001b[0mCIntervalo\u001b[0m\u001b[1;33m(\u001b[0m\u001b[0mIntervalo\u001b[0m\u001b[1;33m(\u001b[0m\u001b[1;33m-\u001b[0m\u001b[1;36m2.0\u001b[0m\u001b[1;33m,\u001b[0m\u001b[1;36m2.0\u001b[0m\u001b[1;33m)\u001b[0m\u001b[1;33m,\u001b[0m\u001b[0mIntervalo\u001b[0m\u001b[1;33m(\u001b[0m\u001b[1;33m-\u001b[0m\u001b[1;36m2.0\u001b[0m\u001b[1;33m,\u001b[0m\u001b[1;36m2.0\u001b[0m\u001b[1;33m)\u001b[0m\u001b[1;33m)\u001b[0m\u001b[1;33m\u001b[0m\u001b[0m\n\u001b[1;32m----> 2\u001b[1;33m \u001b[0miterator\u001b[0m\u001b[1;33m(\u001b[0m\u001b[0mg\u001b[0m\u001b[1;33m,\u001b[0m \u001b[0mgp\u001b[0m\u001b[1;33m,\u001b[0m \u001b[0ma\u001b[0m\u001b[1;33m,\u001b[0m \u001b[1;36m100\u001b[0m\u001b[1;33m)\u001b[0m\u001b[1;33m\u001b[0m\u001b[0m\n\u001b[0m",
        "\u001b[1;32m<ipython-input-6-5c259c9efb1a>\u001b[0m in \u001b[0;36miterator\u001b[1;34m(f, fp, x, n)\u001b[0m\n\u001b[0;32m      8\u001b[0m     \u001b[1;32mfor\u001b[0m \u001b[0mk\u001b[0m \u001b[1;32min\u001b[0m \u001b[0mrange\u001b[0m\u001b[1;33m(\u001b[0m\u001b[1;36m0\u001b[0m\u001b[1;33m,\u001b[0m\u001b[0mn\u001b[0m\u001b[1;33m)\u001b[0m\u001b[1;33m:\u001b[0m\u001b[1;33m\u001b[0m\u001b[0m\n\u001b[0;32m      9\u001b[0m \u001b[1;33m\u001b[0m\u001b[0m\n\u001b[1;32m---> 10\u001b[1;33m         \u001b[0mN\u001b[0m\u001b[1;33m=\u001b[0m\u001b[0mNewtonOperator\u001b[0m\u001b[1;33m(\u001b[0m\u001b[0mf\u001b[0m\u001b[1;33m,\u001b[0m\u001b[0mfp\u001b[0m\u001b[1;33m,\u001b[0m\u001b[0mx\u001b[0m\u001b[1;33m)\u001b[0m\u001b[1;33m\u001b[0m\u001b[0m\n\u001b[0m\u001b[0;32m     11\u001b[0m \u001b[1;33m\u001b[0m\u001b[0m\n\u001b[0;32m     12\u001b[0m         \u001b[0mx\u001b[0m\u001b[1;33m=\u001b[0m\u001b[0mx\u001b[0m\u001b[1;33m&\u001b[0m\u001b[0mN\u001b[0m\u001b[1;33m\u001b[0m\u001b[0m\n",
        "\u001b[1;32m<ipython-input-2-453996e983a7>\u001b[0m in \u001b[0;36mNewtonOperator\u001b[1;34m(f, fprime, x)\u001b[0m\n\u001b[0;32m      5\u001b[0m     \u001b[0mm\u001b[0m\u001b[1;33m=\u001b[0m\u001b[0mx\u001b[0m\u001b[1;33m.\u001b[0m\u001b[0mmiddle\u001b[0m\u001b[1;33m(\u001b[0m\u001b[1;33m)\u001b[0m\u001b[1;33m\u001b[0m\u001b[0m\n\u001b[0;32m      6\u001b[0m \u001b[1;33m\u001b[0m\u001b[0m\n\u001b[1;32m----> 7\u001b[1;33m     \u001b[1;32mreturn\u001b[0m \u001b[0mm\u001b[0m\u001b[1;33m-\u001b[0m\u001b[0mf\u001b[0m\u001b[1;33m(\u001b[0m\u001b[0mm\u001b[0m\u001b[1;33m)\u001b[0m\u001b[1;33m/\u001b[0m\u001b[0mfprime\u001b[0m\u001b[1;33m(\u001b[0m\u001b[0mx\u001b[0m\u001b[1;33m)\u001b[0m\u001b[1;33m\u001b[0m\u001b[0m\n\u001b[0m",
        "\u001b[1;32m<ipython-input-39-51be1389383c>\u001b[0m in \u001b[0;36mg\u001b[1;34m(x)\u001b[0m\n\u001b[0;32m      1\u001b[0m \u001b[1;32mdef\u001b[0m \u001b[0mg\u001b[0m\u001b[1;33m(\u001b[0m\u001b[0mx\u001b[0m\u001b[1;33m)\u001b[0m\u001b[1;33m:\u001b[0m\u001b[1;33m\u001b[0m\u001b[0m\n\u001b[0;32m      2\u001b[0m \u001b[1;33m\u001b[0m\u001b[0m\n\u001b[1;32m----> 3\u001b[1;33m     \u001b[1;32mreturn\u001b[0m \u001b[0mx\u001b[0m\u001b[1;33m**\u001b[0m\u001b[1;36m4\u001b[0m\u001b[1;33m-\u001b[0m\u001b[1;36m1.0\u001b[0m\u001b[1;33m\u001b[0m\u001b[0m\n\u001b[0m\u001b[0;32m      4\u001b[0m \u001b[1;33m\u001b[0m\u001b[0m\n\u001b[0;32m      5\u001b[0m \u001b[1;32mdef\u001b[0m \u001b[0mgp\u001b[0m\u001b[1;33m(\u001b[0m\u001b[0mx\u001b[0m\u001b[1;33m)\u001b[0m\u001b[1;33m:\u001b[0m\u001b[1;33m\u001b[0m\u001b[0m\n",
        "\u001b[1;32m/home/david/Escritorio/Maestria/FisicaComputacional/Fisica Computacional avanzada/ProyectoFinal/cintervalo.pyc\u001b[0m in \u001b[0;36m__pow__\u001b[1;34m(self, otro)\u001b[0m\n\u001b[0;32m    113\u001b[0m     \u001b[1;32mdef\u001b[0m \u001b[0m__pow__\u001b[0m\u001b[1;33m(\u001b[0m\u001b[0mself\u001b[0m\u001b[1;33m,\u001b[0m\u001b[0motro\u001b[0m\u001b[1;33m)\u001b[0m\u001b[1;33m:\u001b[0m\u001b[1;33m\u001b[0m\u001b[0m\n\u001b[0;32m    114\u001b[0m \u001b[1;33m\u001b[0m\u001b[0m\n\u001b[1;32m--> 115\u001b[1;33m         \u001b[0mauxlog\u001b[0m\u001b[1;33m=\u001b[0m\u001b[0mlog\u001b[0m\u001b[1;33m(\u001b[0m\u001b[0mself\u001b[0m\u001b[1;33m)\u001b[0m\u001b[1;33m\u001b[0m\u001b[0m\n\u001b[0m\u001b[0;32m    116\u001b[0m \u001b[1;33m\u001b[0m\u001b[0m\n\u001b[0;32m    117\u001b[0m         \u001b[0maux\u001b[0m\u001b[1;33m=\u001b[0m \u001b[0motro\u001b[0m\u001b[1;33m*\u001b[0m\u001b[0mauxlog\u001b[0m\u001b[1;33m\u001b[0m\u001b[0m\n",
        "\u001b[1;32m/home/david/Escritorio/Maestria/FisicaComputacional/Fisica Computacional avanzada/ProyectoFinal/intervalo.pyc\u001b[0m in \u001b[0;36mlog\u001b[1;34m(x)\u001b[0m\n\u001b[0;32m    557\u001b[0m         \u001b[1;32mreturn\u001b[0m \u001b[0mx\u001b[0m\u001b[1;33m.\u001b[0m\u001b[0mlog\u001b[0m\u001b[1;33m(\u001b[0m\u001b[1;33m)\u001b[0m\u001b[1;33m\u001b[0m\u001b[0m\n\u001b[0;32m    558\u001b[0m     \u001b[1;32mexcept\u001b[0m\u001b[1;33m:\u001b[0m\u001b[1;33m\u001b[0m\u001b[0m\n\u001b[1;32m--> 559\u001b[1;33m         \u001b[1;32mreturn\u001b[0m \u001b[0mmath\u001b[0m\u001b[1;33m.\u001b[0m\u001b[0mlog\u001b[0m\u001b[1;33m(\u001b[0m\u001b[0mx\u001b[0m\u001b[1;33m)\u001b[0m\u001b[1;33m\u001b[0m\u001b[0m\n\u001b[0m\u001b[0;32m    560\u001b[0m \u001b[1;33m\u001b[0m\u001b[0m\n\u001b[0;32m    561\u001b[0m \u001b[1;32mdef\u001b[0m \u001b[0msqrt\u001b[0m\u001b[1;33m(\u001b[0m\u001b[0mx\u001b[0m\u001b[1;33m)\u001b[0m\u001b[1;33m:\u001b[0m\u001b[1;33m\u001b[0m\u001b[0m\n",
        "\u001b[1;32m/home/david/Escritorio/Maestria/FisicaComputacional/Fisica Computacional avanzada/ProyectoFinal/cintervalo.pyc\u001b[0m in \u001b[0;36mlog\u001b[1;34m(self)\u001b[0m\n\u001b[0;32m    109\u001b[0m     \u001b[1;32mdef\u001b[0m \u001b[0mlog\u001b[0m\u001b[1;33m(\u001b[0m\u001b[0mself\u001b[0m\u001b[1;33m)\u001b[0m\u001b[1;33m:\u001b[0m\u001b[1;33m\u001b[0m\u001b[0m\n\u001b[0;32m    110\u001b[0m \u001b[1;33m\u001b[0m\u001b[0m\n\u001b[1;32m--> 111\u001b[1;33m         \u001b[1;32mreturn\u001b[0m \u001b[0mCIntervalo\u001b[0m\u001b[1;33m(\u001b[0m\u001b[0mlog\u001b[0m\u001b[1;33m(\u001b[0m\u001b[0mself\u001b[0m\u001b[1;33m.\u001b[0m\u001b[0mabs\u001b[0m\u001b[1;33m(\u001b[0m\u001b[1;33m)\u001b[0m\u001b[1;33m)\u001b[0m\u001b[1;33m,\u001b[0m \u001b[0mself\u001b[0m\u001b[1;33m.\u001b[0m\u001b[0marg\u001b[0m\u001b[1;33m(\u001b[0m\u001b[1;33m)\u001b[0m\u001b[1;33m)\u001b[0m\u001b[1;33m\u001b[0m\u001b[0m\n\u001b[0m\u001b[0;32m    112\u001b[0m \u001b[1;33m\u001b[0m\u001b[0m\n\u001b[0;32m    113\u001b[0m     \u001b[1;32mdef\u001b[0m \u001b[0m__pow__\u001b[0m\u001b[1;33m(\u001b[0m\u001b[0mself\u001b[0m\u001b[1;33m,\u001b[0m\u001b[0motro\u001b[0m\u001b[1;33m)\u001b[0m\u001b[1;33m:\u001b[0m\u001b[1;33m\u001b[0m\u001b[0m\n",
        "\u001b[1;32m/home/david/Escritorio/Maestria/FisicaComputacional/Fisica Computacional avanzada/ProyectoFinal/cintervalo.pyc\u001b[0m in \u001b[0;36marg\u001b[1;34m(self)\u001b[0m\n\u001b[0;32m    171\u001b[0m \u001b[1;33m\u001b[0m\u001b[0m\n\u001b[0;32m    172\u001b[0m \u001b[1;33m\u001b[0m\u001b[0m\n\u001b[1;32m--> 173\u001b[1;33m         \u001b[1;32mreturn\u001b[0m \u001b[0marctan\u001b[0m\u001b[1;33m(\u001b[0m\u001b[0mself\u001b[0m\u001b[1;33m.\u001b[0m\u001b[0mim\u001b[0m\u001b[1;33m/\u001b[0m\u001b[0mself\u001b[0m\u001b[1;33m.\u001b[0m\u001b[0mre\u001b[0m\u001b[1;33m)\u001b[0m\u001b[1;33m\u001b[0m\u001b[0m\n\u001b[0m\u001b[0;32m    174\u001b[0m \u001b[1;33m\u001b[0m\u001b[0m\n\u001b[0;32m    175\u001b[0m \u001b[1;33m\u001b[0m\u001b[0m\n",
        "\u001b[1;32m/home/david/Escritorio/Maestria/FisicaComputacional/Fisica Computacional avanzada/ProyectoFinal/intervalo.pyc\u001b[0m in \u001b[0;36m__div__\u001b[1;34m(self, otro)\u001b[0m\n\u001b[0;32m    198\u001b[0m \u001b[1;33m\u001b[0m\u001b[0m\n\u001b[0;32m    199\u001b[0m         \u001b[1;32mif\u001b[0m \u001b[1;36m0\u001b[0m \u001b[1;32min\u001b[0m \u001b[0motro\u001b[0m\u001b[1;33m:\u001b[0m\u001b[1;33m\u001b[0m\u001b[0m\n\u001b[1;32m--> 200\u001b[1;33m             \u001b[1;32mreturn\u001b[0m \u001b[0mIntervalo\u001b[0m\u001b[1;33m.\u001b[0m\u001b[0mdivnephtali\u001b[0m\u001b[1;33m(\u001b[0m\u001b[0mself\u001b[0m\u001b[1;33m,\u001b[0m \u001b[0motro\u001b[0m\u001b[1;33m)\u001b[0m\u001b[1;33m\u001b[0m\u001b[0m\n\u001b[0m\u001b[0;32m    201\u001b[0m \u001b[1;33m\u001b[0m\u001b[0m\n\u001b[0;32m    202\u001b[0m         \u001b[1;32melse\u001b[0m\u001b[1;33m:\u001b[0m\u001b[1;33m\u001b[0m\u001b[0m\n",
        "\u001b[1;32m/home/david/Escritorio/Maestria/FisicaComputacional/Fisica Computacional avanzada/ProyectoFinal/intervalo.pyc\u001b[0m in \u001b[0;36mdivnephtali\u001b[1;34m(self, otro)\u001b[0m\n\u001b[0;32m    215\u001b[0m         \u001b[1;32melse\u001b[0m\u001b[1;33m:\u001b[0m\u001b[1;33m\u001b[0m\u001b[0m\n\u001b[0;32m    216\u001b[0m             \u001b[1;32mif\u001b[0m \u001b[0motro\u001b[0m\u001b[1;33m.\u001b[0m\u001b[0mhi\u001b[0m \u001b[1;33m==\u001b[0m \u001b[1;36m0\u001b[0m\u001b[1;33m:\u001b[0m\u001b[1;33m\u001b[0m\u001b[0m\n\u001b[1;32m--> 217\u001b[1;33m                 \u001b[0mrecip\u001b[0m \u001b[1;33m=\u001b[0m \u001b[0mIntervalo\u001b[0m\u001b[1;33m(\u001b[0m\u001b[1;33m-\u001b[0m\u001b[0minf\u001b[0m\u001b[1;33m,\u001b[0m\u001b[1;36m1.0\u001b[0m\u001b[1;33m/\u001b[0m\u001b[0motro\u001b[0m\u001b[1;33m.\u001b[0m\u001b[0mlo\u001b[0m\u001b[1;33m)\u001b[0m\u001b[1;33m\u001b[0m\u001b[0m\n\u001b[0m\u001b[0;32m    218\u001b[0m                 \u001b[1;32mreturn\u001b[0m \u001b[0mself\u001b[0m\u001b[1;33m*\u001b[0m\u001b[0mrecip\u001b[0m\u001b[1;33m\u001b[0m\u001b[0m\n\u001b[0;32m    219\u001b[0m             \u001b[1;32melif\u001b[0m \u001b[0motro\u001b[0m\u001b[1;33m.\u001b[0m\u001b[0mlo\u001b[0m \u001b[1;33m==\u001b[0m \u001b[1;36m0\u001b[0m\u001b[1;33m:\u001b[0m\u001b[1;33m\u001b[0m\u001b[0m\n",
        "\u001b[1;31mZeroDivisionError\u001b[0m: float division by zero"
       ]
      },
      {
       "output_type": "stream",
       "stream": "stdout",
       "text": [
        "Advertencia: El intervalo contiene el cero\n",
        "Advertencia: El intervalo contiene el cero\n",
        "Advertencia: El intervalo contiene el cero\n",
        "Advertencia: El intervalo contiene el cero\n"
       ]
      },
      {
       "output_type": "stream",
       "stream": "stderr",
       "text": [
        "intervalo.py:528: RuntimeWarning: divide by zero encountered in log\n",
        "  return Intervalo(math.log(restringido.lo), math.log(restringido.hi))\n"
       ]
      }
     ],
     "prompt_number": 41
    },
    {
     "cell_type": "code",
     "collapsed": false,
     "input": [
      "a=NewtonOperator(ff, ffp, a)\n",
      "a"
     ],
     "language": "python",
     "metadata": {},
     "outputs": [
      {
       "html": [
        "[[-2.67616509099,-0.125973455828], [0.582915186397,1.94494978913]]"
       ],
       "latex": [
        "$[[-2.67616509099,-0.125973455828], [0.582915186397,1.94494978913]]$"
       ],
       "metadata": {},
       "output_type": "pyout",
       "prompt_number": 38,
       "text": [
        "CIntervalo [[-2.67616509099,-0.125973455828],[0.582915186397,1.94494978913]]"
       ]
      }
     ],
     "prompt_number": 38
    },
    {
     "cell_type": "code",
     "collapsed": false,
     "input": [
      "a=CIntervalo(Intervalo(-1,2),Intervalo(1.0,2))\n",
      "b=CIntervalo(Intervalo(-0.5,0.6),Intervalo(0.0,0.5))"
     ],
     "language": "python",
     "metadata": {},
     "outputs": [],
     "prompt_number": 12
    },
    {
     "cell_type": "code",
     "collapsed": false,
     "input": [
      "c=NewtonOperator(f, fp, a)\n",
      "a=c&a"
     ],
     "language": "python",
     "metadata": {},
     "outputs": [
      {
       "output_type": "stream",
       "stream": "stdout",
       "text": [
        "Advertencia: El intervalo contiene el cero\n"
       ]
      }
     ],
     "prompt_number": 14
    },
    {
     "cell_type": "code",
     "collapsed": false,
     "input": [
      "NewtonOperator(f, fp, a)"
     ],
     "language": "python",
     "metadata": {},
     "outputs": [
      {
       "output_type": "stream",
       "stream": "stdout",
       "text": [
        "Advertencia: El intervalo contiene el cero\n"
       ]
      },
      {
       "html": [
        "[[-0.599609375,1.1328125], [1.6390625,3.40625]]"
       ],
       "latex": [
        "$[[-0.599609375,1.1328125], [1.6390625,3.40625]]$"
       ],
       "metadata": {},
       "output_type": "pyout",
       "prompt_number": 29,
       "text": [
        "CIntervalo [[-0.599609375,1.1328125],[1.6390625,3.40625]]"
       ]
      }
     ],
     "prompt_number": 29
    },
    {
     "cell_type": "code",
     "collapsed": false,
     "input": [
      "a=CIntervalo(Intervalo(0),Intervalo(1.00001))\n",
      "iterator(f, fp, a, 1)"
     ],
     "language": "python",
     "metadata": {},
     "outputs": [
      {
       "output_type": "stream",
       "stream": "stdout",
       "text": [
        "Advertencia: El intervalo contiene el cero\n",
        "No convergio a la raiz\n"
       ]
      }
     ],
     "prompt_number": 30
    },
    {
     "cell_type": "code",
     "collapsed": false,
     "input": [
      "a=CIntervalo(Intervalo(0.0,20.0),Intervalo(0.0,20.0))\n",
      "\n",
      "iterator(f, fp, a, 100)"
     ],
     "language": "python",
     "metadata": {},
     "outputs": [
      {
       "output_type": "stream",
       "stream": "stdout",
       "text": [
        "Advertencia: El intervalo contiene el cero\n",
        "Advertencia: El intervalo contiene el cero\n",
        "Advertencia: El intervalo contiene el cero\n",
        "Advertencia: El intervalo contiene el cero\n",
        "Advertencia: El intervalo contiene el cero\n",
        "Advertencia: El intervalo contiene el cero\n",
        "Advertencia: El intervalo contiene el cero\n",
        "Advertencia: El intervalo contiene el cero\n",
        "Advertencia: El intervalo contiene el cero\n",
        "Advertencia: El intervalo contiene el cero\n",
        "Advertencia: El intervalo contiene el cero\n",
        "Advertencia: El intervalo contiene el cero\n",
        "Advertencia: El intervalo contiene el cero\n",
        "Advertencia: El intervalo contiene el cero\n",
        "Advertencia: El intervalo contiene el cero\n",
        "Advertencia: El intervalo contiene el cero\n",
        "Advertencia: El intervalo contiene el cero\n",
        "Advertencia: El intervalo contiene el cero\n",
        "Advertencia: El intervalo contiene el cero\n",
        "Advertencia: El intervalo contiene el cero\n",
        "Advertencia: El intervalo contiene el cero\n",
        "Advertencia: El intervalo contiene el cero\n",
        "Advertencia: El intervalo contiene el cero\n",
        "Advertencia: El intervalo contiene el cero\n",
        "Advertencia: El intervalo contiene el cero\n",
        "Advertencia: El intervalo contiene el cero\n",
        "Advertencia: El intervalo contiene el cero\n",
        "Advertencia: El intervalo contiene el cero\n",
        "Advertencia: El intervalo contiene el cero\n",
        "Advertencia: El intervalo contiene el cero\n",
        "Advertencia: El intervalo contiene el cero\n",
        "Advertencia: El intervalo contiene el cero\n",
        "Advertencia: El intervalo contiene el cero\n",
        "Advertencia: El intervalo contiene el cero\n",
        "Advertencia: El intervalo contiene el cero\n",
        "Advertencia: El intervalo contiene el cero\n",
        "Advertencia: El intervalo contiene el cero\n",
        "Advertencia: El intervalo contiene el cero\n",
        "Advertencia: El intervalo contiene el cero\n",
        "Advertencia: El intervalo contiene el cero\n",
        "Advertencia: El intervalo contiene el cero\n",
        "Advertencia: El intervalo contiene el cero\n",
        "Advertencia: El intervalo contiene el cero\n",
        "Advertencia: El intervalo contiene el cero\n",
        "Advertencia: El intervalo contiene el cero\n",
        "Advertencia: El intervalo contiene el cero\n",
        "Advertencia: El intervalo contiene el cero\n",
        "Advertencia: El intervalo contiene el cero\n",
        "Advertencia: El intervalo contiene el cero\n",
        "Advertencia: El intervalo contiene el cero\n",
        "Advertencia: El intervalo contiene el cero\n",
        "Advertencia: El intervalo contiene el cero\n",
        "Advertencia: El intervalo contiene el cero\n",
        "Advertencia: El intervalo contiene el cero\n",
        "Advertencia: El intervalo contiene el cero\n",
        "Advertencia: El intervalo contiene el cero\n",
        "Advertencia: El intervalo contiene el cero\n",
        "Advertencia: El intervalo contiene el cero\n",
        "Advertencia: El intervalo contiene el cero\n",
        "Advertencia: El intervalo contiene el cero\n",
        "Advertencia: El intervalo contiene el cero\n",
        "Advertencia: El intervalo contiene el cero\n",
        "Advertencia: El intervalo contiene el cero\n",
        "Advertencia: El intervalo contiene el cero\n",
        "Advertencia: El intervalo contiene el cero\n",
        "Advertencia: El intervalo contiene el cero\n",
        "Advertencia: El intervalo contiene el cero\n",
        "Advertencia: El intervalo contiene el cero\n",
        "Advertencia: El intervalo contiene el cero\n",
        "Advertencia: El intervalo contiene el cero\n",
        "Advertencia: El intervalo contiene el cero\n",
        "Advertencia: El intervalo contiene el cero\n",
        "Advertencia: El intervalo contiene el cero\n",
        "Advertencia: El intervalo contiene el cero\n",
        "Advertencia: El intervalo contiene el cero\n",
        "Advertencia: El intervalo contiene el cero\n",
        "Advertencia: El intervalo contiene el cero\n",
        "Advertencia: El intervalo contiene el cero\n",
        "Advertencia: El intervalo contiene el cero\n",
        "Advertencia: El intervalo contiene el cero\n",
        "Advertencia: El intervalo contiene el cero\n",
        "Advertencia: El intervalo contiene el cero\n",
        "Advertencia: El intervalo contiene el cero\n",
        "Advertencia: El intervalo contiene el cero\n",
        "Advertencia: El intervalo contiene el cero\n",
        "Advertencia: El intervalo contiene el cero\n",
        "Advertencia: El intervalo contiene el cero\n",
        "Advertencia: El intervalo contiene el cero\n",
        "Advertencia: El intervalo contiene el cero\n",
        "Advertencia: El intervalo contiene el cero\n",
        "Advertencia: El intervalo contiene el cero\n",
        "Advertencia: El intervalo contiene el cero\n",
        "Advertencia: El intervalo contiene el cero\n",
        "Advertencia: El intervalo contiene el cero\n",
        "Advertencia: El intervalo contiene el cero\n",
        "Advertencia: El intervalo contiene el cero\n",
        "Advertencia: El intervalo contiene el cero\n",
        "Advertencia: El intervalo contiene el cero\n",
        "Advertencia: El intervalo contiene el cero\n",
        "Advertencia: El intervalo contiene el cero\n",
        "Advertencia: El intervalo contiene el cero\n",
        "Advertencia: El intervalo contiene el cero\n",
        "Advertencia: El intervalo contiene el cero\n",
        "Advertencia: El intervalo contiene el cero\n",
        "Advertencia: El intervalo contiene el cero\n",
        "Advertencia: El intervalo contiene el cero\n",
        "Advertencia: El intervalo contiene el cero\n",
        "Advertencia: El intervalo contiene el cero\n",
        "Advertencia: El intervalo contiene el cero\n",
        "Advertencia: El intervalo contiene el cero\n",
        "Advertencia: El intervalo contiene el cero\n",
        "Advertencia: El intervalo contiene el cero\n",
        "Advertencia: El intervalo contiene el cero\n",
        "Advertencia: El intervalo contiene el cero\n",
        "Advertencia: El intervalo contiene el cero\n",
        "Advertencia: El intervalo contiene el cero\n",
        "Advertencia: El intervalo contiene el cero\n",
        "Advertencia: El intervalo contiene el cero\n",
        "Advertencia: El intervalo contiene el cero\n",
        "Advertencia: El intervalo contiene el cero\n",
        "Advertencia: El intervalo contiene el cero\n",
        "Advertencia: El intervalo contiene el cero\n",
        "Advertencia: El intervalo contiene el cero\n",
        "Advertencia: El intervalo contiene el cero\n",
        "Advertencia: El intervalo contiene el cero\n",
        "Advertencia: El intervalo contiene el cero\n",
        "Advertencia: El intervalo contiene el cero\n",
        "Advertencia: El intervalo contiene el cero\n",
        "Advertencia: El intervalo contiene el cero\n",
        "Advertencia: El intervalo contiene el cero\n",
        "Advertencia: El intervalo contiene el cero\n",
        "Advertencia: El intervalo contiene el cero\n",
        "Advertencia: El intervalo contiene el cero\n",
        "Advertencia: El intervalo contiene el cero\n",
        "Advertencia: El intervalo contiene el cero\n",
        "Advertencia: El intervalo contiene el cero\n",
        "Advertencia: El intervalo contiene el cero\n",
        "Advertencia: El intervalo contiene el cero\n",
        "Advertencia: El intervalo contiene el cero\n",
        "Advertencia: El intervalo contiene el cero\n",
        "Advertencia: El intervalo contiene el cero\n",
        "Advertencia: El intervalo contiene el cero\n",
        "Advertencia: El intervalo contiene el cero\n",
        "Advertencia: El intervalo contiene el cero\n",
        "Advertencia: El intervalo contiene el cero\n",
        "Advertencia: El intervalo contiene el cero\n",
        "Advertencia: El intervalo contiene el cero\n",
        "Advertencia: El intervalo contiene el cero"
       ]
      },
      {
       "output_type": "stream",
       "stream": "stdout",
       "text": [
        "\n",
        "Advertencia: El intervalo contiene el cero\n",
        "Advertencia: El intervalo contiene el cero\n",
        "Advertencia: El intervalo contiene el cero\n",
        "Advertencia: El intervalo contiene el cero\n",
        "Advertencia: El intervalo contiene el cero\n",
        "Advertencia: El intervalo contiene el cero\n",
        "Advertencia: El intervalo contiene el cero\n",
        "Advertencia: El intervalo contiene el cero\n",
        "Advertencia: El intervalo contiene el cero\n",
        "Advertencia: El intervalo contiene el cero\n",
        "Advertencia: El intervalo contiene el cero\n",
        "Advertencia: El intervalo contiene el cero\n",
        "Advertencia: El intervalo contiene el cero\n",
        "Advertencia: El intervalo contiene el cero\n",
        "Advertencia: El intervalo contiene el cero\n",
        "Advertencia: El intervalo contiene el cero\n",
        "Advertencia: El intervalo contiene el cero\n",
        "Advertencia: El intervalo contiene el cero\n",
        "Advertencia: El intervalo contiene el cero\n",
        "Advertencia: El intervalo contiene el cero\n",
        "Advertencia: El intervalo contiene el cero\n",
        "Advertencia: El intervalo contiene el cero\n",
        "Advertencia: El intervalo contiene el cero\n",
        "Advertencia: El intervalo contiene el cero\n",
        "Advertencia: El intervalo contiene el cero\n",
        "Advertencia: El intervalo contiene el cero\n",
        "Advertencia: El intervalo contiene el cero\n",
        "Advertencia: El intervalo contiene el cero\n",
        "Advertencia: El intervalo contiene el cero\n",
        "Advertencia: El intervalo contiene el cero\n",
        "Advertencia: El intervalo contiene el cero\n",
        "Advertencia: El intervalo contiene el cero\n",
        "Advertencia: El intervalo contiene el cero\n",
        "Advertencia: El intervalo contiene el cero\n",
        "Advertencia: El intervalo contiene el cero\n",
        "Advertencia: El intervalo contiene el cero\n",
        "Advertencia: El intervalo contiene el cero\n",
        "Advertencia: El intervalo contiene el cero\n",
        "Advertencia: El intervalo contiene el cero\n",
        "Advertencia: El intervalo contiene el cero\n",
        "Advertencia: El intervalo contiene el cero\n",
        "Advertencia: El intervalo contiene el cero\n",
        "Advertencia: El intervalo contiene el cero\n",
        "Advertencia: El intervalo contiene el cero\n",
        "Advertencia: El intervalo contiene el cero\n",
        "Advertencia: El intervalo contiene el cero\n",
        "Advertencia: El intervalo contiene el cero\n",
        "Advertencia: El intervalo contiene el cero\n",
        "Advertencia: El intervalo contiene el cero\n",
        "Advertencia: El intervalo contiene el cero\n",
        "Advertencia: El intervalo contiene el cero\n",
        "Advertencia: El intervalo contiene el cero\n",
        "Advertencia: El intervalo contiene el cero\n",
        "Advertencia: El intervalo contiene el cero\n",
        "Advertencia: El intervalo contiene el cero\n",
        "Advertencia: El intervalo contiene el cero\n",
        "Advertencia: El intervalo contiene el cero\n",
        "Advertencia: El intervalo contiene el cero\n",
        "Advertencia: El intervalo contiene el cero\n",
        "Advertencia: El intervalo contiene el cero\n",
        "Advertencia: El intervalo contiene el cero\n",
        "Advertencia: El intervalo contiene el cero\n",
        "Advertencia: El intervalo contiene el cero\n",
        "Advertencia: El intervalo contiene el cero\n",
        "Advertencia: El intervalo contiene el cero\n",
        "Advertencia: El intervalo contiene el cero\n",
        "Advertencia: El intervalo contiene el cero\n",
        "Advertencia: El intervalo contiene el cero\n",
        "Advertencia: El intervalo contiene el cero\n",
        "Advertencia: El intervalo contiene el cero\n",
        "Advertencia: El intervalo contiene el cero\n",
        "Advertencia: El intervalo contiene el cero\n",
        "Advertencia: El intervalo contiene el cero\n",
        "Advertencia: El intervalo contiene el cero\n",
        "Advertencia: El intervalo contiene el cero\n",
        "Advertencia: El intervalo contiene el cero\n",
        "Advertencia: El intervalo contiene el cero\n",
        "Advertencia: El intervalo contiene el cero\n",
        "Advertencia: El intervalo contiene el cero\n",
        "Advertencia: El intervalo contiene el cero\n",
        "Advertencia: El intervalo contiene el cero\n",
        "Advertencia: El intervalo contiene el cero\n",
        "Advertencia: El intervalo contiene el cero\n",
        "Advertencia: El intervalo contiene el cero\n",
        "Advertencia: El intervalo contiene el cero\n",
        "Advertencia: El intervalo contiene el cero\n",
        "Advertencia: El intervalo contiene el cero\n",
        "Advertencia: El intervalo contiene el cero\n",
        "Advertencia: El intervalo contiene el cero\n",
        "Advertencia: El intervalo contiene el cero\n",
        "Advertencia: El intervalo contiene el cero\n",
        "Advertencia: El intervalo contiene el cero\n",
        "Advertencia: El intervalo contiene el cero\n",
        "Advertencia: El intervalo contiene el cero\n",
        "Advertencia: El intervalo contiene el cero\n",
        "Advertencia: El intervalo contiene el cero\n",
        "Advertencia: El intervalo contiene el cero\n",
        "Advertencia: El intervalo contiene el cero\n",
        "Advertencia: El intervalo contiene el cero\n",
        "Advertencia: El intervalo contiene el cero\n",
        "Advertencia: El intervalo contiene el cero\n",
        "Advertencia: El intervalo contiene el cero\n",
        "Advertencia: El intervalo contiene el cero\n",
        "Advertencia: El intervalo contiene el cero\n",
        "Advertencia: El intervalo contiene el cero\n",
        "Advertencia: El intervalo contiene el cero\n",
        "Advertencia: El intervalo contiene el cero\n",
        "Advertencia: El intervalo contiene el cero\n",
        "Advertencia: El intervalo contiene el cero\n",
        "Advertencia: El intervalo contiene el cero\n",
        "Advertencia: El intervalo contiene el cero\n",
        "Advertencia: El intervalo contiene el cero\n",
        "Advertencia: El intervalo contiene el cero\n",
        "Advertencia: El intervalo contiene el cero\n",
        "Advertencia: El intervalo contiene el cero\n",
        "Advertencia: El intervalo contiene el cero\n",
        "Advertencia: El intervalo contiene el cero\n",
        "Advertencia: El intervalo contiene el cero\n",
        "Advertencia: El intervalo contiene el cero\n",
        "Advertencia: El intervalo contiene el cero\n",
        "Advertencia: El intervalo contiene el cero\n",
        "Advertencia: El intervalo contiene el cero\n",
        "Advertencia: El intervalo contiene el cero\n",
        "Advertencia: El intervalo contiene el cero\n",
        "Advertencia: El intervalo contiene el cero\n",
        "Advertencia: El intervalo contiene el cero\n",
        "Advertencia: El intervalo contiene el cero\n",
        "Advertencia: El intervalo contiene el cero\n",
        "Advertencia: El intervalo contiene el cero\n",
        "Advertencia: El intervalo contiene el cero\n",
        "Advertencia: El intervalo contiene el cero\n",
        "Advertencia: El intervalo contiene el cero\n",
        "Advertencia: El intervalo contiene el cero\n",
        "Advertencia: El intervalo contiene el cero\n",
        "Advertencia: El intervalo contiene el cero\n",
        "Advertencia: El intervalo contiene el cero\n",
        "Advertencia: El intervalo contiene el cero\n",
        "Advertencia: El intervalo contiene el cero\n",
        "Advertencia: El intervalo contiene el cero\n",
        "Advertencia: El intervalo contiene el cero\n",
        "Advertencia: El intervalo contiene el cero\n",
        "Advertencia: El intervalo contiene el cero\n",
        "Advertencia: El intervalo contiene el cero\n",
        "Advertencia: El intervalo contiene el cero\n",
        "Advertencia: El intervalo contiene el cero\n",
        "Advertencia: El intervalo contiene el cero\n",
        "Advertencia: El intervalo contiene el cero\n",
        "Advertencia: El intervalo contiene el cero\n",
        "Advertencia: El intervalo contiene el cero\n",
        "Advertencia: El intervalo contiene el cero"
       ]
      },
      {
       "output_type": "stream",
       "stream": "stdout",
       "text": [
        "\n",
        "Advertencia: El intervalo contiene el cero\n",
        "Advertencia: El intervalo contiene el cero\n"
       ]
      },
      {
       "html": [
        "[[0.0,1.26217744835e-28], [0.0,2.5]]"
       ],
       "latex": [
        "$[[0.0,1.26217744835e-28], [0.0,2.5]]$"
       ],
       "metadata": {},
       "output_type": "pyout",
       "prompt_number": 31,
       "text": [
        "CIntervalo [[0.0,1.26217744835e-28],[0.0,2.5]]"
       ]
      }
     ],
     "prompt_number": 31
    },
    {
     "cell_type": "code",
     "collapsed": false,
     "input": [
      "x0=CIntervalo(Intervalo(1.0,2.0),0)"
     ],
     "language": "python",
     "metadata": {},
     "outputs": [],
     "prompt_number": 32
    },
    {
     "cell_type": "code",
     "collapsed": false,
     "input": [
      "x0=x0&NewtonOperator(f2, f2p, x0)\n",
      "x0"
     ],
     "language": "python",
     "metadata": {},
     "outputs": [
      {
       "output_type": "stream",
       "stream": "stdout",
       "text": [
        "Advertencia: El intervalo contiene el cero\n"
       ]
      },
      {
       "html": [
        "[[1.0,1.2746125], [0,0]]"
       ],
       "latex": [
        "$[[1.0,1.2746125], [0,0]]$"
       ],
       "metadata": {},
       "output_type": "pyout",
       "prompt_number": 33,
       "text": [
        "CIntervalo [[1.0,1.2746125],[0,0]]"
       ]
      }
     ],
     "prompt_number": 33
    },
    {
     "cell_type": "code",
     "collapsed": false,
     "input": [
      "x=np.linspace(-5,5,1000)\n",
      "y=abs(f2(x*1j))"
     ],
     "language": "python",
     "metadata": {},
     "outputs": [],
     "prompt_number": 34
    },
    {
     "cell_type": "code",
     "collapsed": false,
     "input": [
      "plt.show()\n",
      "plt.plot(x,y)\n",
      "plt.show()"
     ],
     "language": "python",
     "metadata": {},
     "outputs": [
      {
       "metadata": {},
       "output_type": "display_data",
       "png": "[encoded data removed]",
       "text": [
        "<matplotlib.figure.Figure at 0x5226d10>"
       ]
      }
     ],
     "prompt_number": 35
    },
    {
     "cell_type": "heading",
     "level": 3,
     "metadata": {},
     "source": []
    },
    {
     "cell_type": "code",
     "collapsed": false,
     "input": [
      "x0=CIntervalo(Intervalo(1.0,2.0),0)\n",
      "iterator(g, gp, x0, 10)"
     ],
     "language": "python",
     "metadata": {},
     "outputs": [
      {
       "output_type": "stream",
       "stream": "stdout",
       "text": [
        "Advertencia: El intervalo contiene el cero\n",
        "Advertencia: El intervalo contiene el cero\n",
        "Advertencia: El intervalo contiene el cero\n",
        "Advertencia: El intervalo contiene el cero\n",
        "Advertencia: El intervalo contiene el cero\n",
        "Advertencia: El intervalo contiene el cero\n",
        "No convergio a la raiz\n"
       ]
      }
     ],
     "prompt_number": 36
    },
    {
     "cell_type": "code",
     "collapsed": false,
     "input": [
      "x0=x0&NewtonOperator(g, gp, x0)\n",
      "x0"
     ],
     "language": "python",
     "metadata": {},
     "outputs": [
      {
       "output_type": "stream",
       "stream": "stdout",
       "text": [
        "Advertencia: El intervalo contiene el cero\n"
       ]
      },
      {
       "html": [
        "[[1.25,1.46875], [0,0]]"
       ],
       "latex": [
        "$[[1.25,1.46875], [0,0]]$"
       ],
       "metadata": {},
       "output_type": "pyout",
       "prompt_number": 37,
       "text": [
        "CIntervalo [[1.25,1.46875],[0,0]]"
       ]
      }
     ],
     "prompt_number": 37
    },
    {
     "cell_type": "code",
     "collapsed": false,
     "input": [
      "22.0/16"
     ],
     "language": "python",
     "metadata": {},
     "outputs": [
      {
       "metadata": {},
       "output_type": "pyout",
       "prompt_number": 38,
       "text": [
        "1.375"
       ]
      }
     ],
     "prompt_number": 38
    },
    {
     "cell_type": "code",
     "collapsed": false,
     "input": [
      "23.0/16"
     ],
     "language": "python",
     "metadata": {},
     "outputs": [
      {
       "metadata": {},
       "output_type": "pyout",
       "prompt_number": 39,
       "text": [
        "1.4375"
       ]
      }
     ],
     "prompt_number": 39
    },
    {
     "cell_type": "code",
     "collapsed": false,
     "input": [],
     "language": "python",
     "metadata": {},
     "outputs": []
    }
   ],
   "metadata": {}
  }
 ]
}