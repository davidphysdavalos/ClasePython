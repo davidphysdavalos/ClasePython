{
 "metadata": {
  "name": ""
 },
 "nbformat": 3,
 "nbformat_minor": 0,
 "worksheets": [
  {
   "cells": [
    {
     "cell_type": "code",
     "collapsed": false,
     "input": [
      "import scipy as sci\n",
      "import numpy as np\n",
      "import matplotlib.pyplot as plt\n",
      "import sympy as sym\n",
      "from scipy.special import zeta\n",
      "import sympy.mpmath as mp\n",
      "from intervalo import *\n",
      "from difauto import *\n",
      "from cpintervalo import *\n",
      "from cintervalo import *\n",
      "#from zeta import Z as ZZ\n",
      "I=1j\n",
      "%matplotlib inline"
     ],
     "language": "python",
     "metadata": {},
     "outputs": [],
     "prompt_number": 1
    },
    {
     "cell_type": "code",
     "collapsed": false,
     "input": [
      "a=CIntervalo(Intervalo(5.0,6.3),Intervalo(0.0,0.1))\n",
      "a.im/a.re"
     ],
     "language": "python",
     "metadata": {},
     "outputs": [
      {
       "html": [
        "[0.0, 0.02]"
       ],
       "latex": [
        "$[0.0, 0.02]$"
       ],
       "metadata": {},
       "output_type": "pyout",
       "prompt_number": 2,
       "text": [
        "Intervalo [0.0,0.02]"
       ]
      }
     ],
     "prompt_number": 2
    },
    {
     "cell_type": "code",
     "collapsed": false,
     "input": [
      "a.arg()"
     ],
     "language": "python",
     "metadata": {},
     "outputs": [
      {
       "html": [
        "[0.0, 0.0199973339732]"
       ],
       "latex": [
        "$[0.0, 0.0199973339732]$"
       ],
       "metadata": {},
       "output_type": "pyout",
       "prompt_number": 3,
       "text": [
        "Intervalo [0.0,0.0199973339732]"
       ]
      }
     ],
     "prompt_number": 3
    },
    {
     "cell_type": "code",
     "collapsed": false,
     "input": [
      "log(a)"
     ],
     "language": "python",
     "metadata": {},
     "outputs": [
      {
       "output_type": "stream",
       "stream": "stdout",
       "text": [
        "Advertencia: El intervalo contiene el cero\n"
       ]
      },
      {
       "html": [
        "[[1.60943791243,1.84067559385], [0.0,0.0199973339732]]"
       ],
       "latex": [
        "$[[1.60943791243,1.84067559385], [0.0,0.0199973339732]]$"
       ],
       "metadata": {},
       "output_type": "pyout",
       "prompt_number": 4,
       "text": [
        "CIntervalo [[1.60943791243,1.84067559385],[0.0,0.0199973339732]]"
       ]
      }
     ],
     "prompt_number": 4
    },
    {
     "cell_type": "code",
     "collapsed": false,
     "input": [
      "a*a*a"
     ],
     "language": "python",
     "metadata": {},
     "outputs": [
      {
       "html": [
        "[[124.824,250.047], [0.0,11.907]]"
       ],
       "latex": [
        "$[[124.824,250.047], [0.0,11.907]]$"
       ],
       "metadata": {},
       "output_type": "pyout",
       "prompt_number": 10,
       "text": [
        "CIntervalo [[124.824,250.047],[0.0,11.907]]"
       ]
      }
     ],
     "prompt_number": 10
    },
    {
     "cell_type": "code",
     "collapsed": false,
     "input": [
      "a**3"
     ],
     "language": "python",
     "metadata": {},
     "outputs": [
      {
       "output_type": "stream",
       "stream": "stdout",
       "text": [
        "Advertencia: El intervalo contiene el cero\n"
       ]
      },
      {
       "html": [
        "[[124.775127438,250.141505952], [7.65404249467e-15,14.9974898314]]"
       ],
       "latex": [
        "$[[124.775127438,250.141505952], [7.65404249467e-15,14.9974898314]]$"
       ],
       "metadata": {},
       "output_type": "pyout",
       "prompt_number": 11,
       "text": [
        "CIntervalo [[124.775127438,250.141505952],[7.65404249467e-15,14.9974898314]]"
       ]
      }
     ],
     "prompt_number": 11
    },
    {
     "cell_type": "code",
     "collapsed": false,
     "input": [
      "arctan(a.im/a.re)"
     ],
     "language": "python",
     "metadata": {},
     "outputs": [
      {
       "html": [
        "[0.0, 0.0199973339732]"
       ],
       "latex": [
        "$[0.0, 0.0199973339732]$"
       ],
       "metadata": {},
       "output_type": "pyout",
       "prompt_number": 4,
       "text": [
        "Intervalo [0.0,0.0199973339732]"
       ]
      }
     ],
     "prompt_number": 4
    },
    {
     "cell_type": "code",
     "collapsed": false,
     "input": [
      "a=Intervalo(1.0,2.0)\n",
      "b=Intervalo(-5.0, 6.0)"
     ],
     "language": "python",
     "metadata": {},
     "outputs": [],
     "prompt_number": 5
    },
    {
     "cell_type": "code",
     "collapsed": false,
     "input": [
      "a.mod(1.0)"
     ],
     "language": "python",
     "metadata": {},
     "outputs": [],
     "prompt_number": 7
    },
    {
     "cell_type": "code",
     "collapsed": false,
     "input": [
      "a**2"
     ],
     "language": "python",
     "metadata": {},
     "outputs": [
      {
       "output_type": "stream",
       "stream": "stdout",
       "text": [
        "Advertencia: El intervalo contiene el cero\n"
       ]
      },
      {
       "html": [
        "[[24.9800079968,39.7], [1.53080849893e-15,1.58736505398]]"
       ],
       "latex": [
        "$[[24.9800079968,39.7], [1.53080849893e-15,1.58736505398]]$"
       ],
       "metadata": {},
       "output_type": "pyout",
       "prompt_number": 16,
       "text": [
        "CIntervalo [[24.9800079968,39.7],[1.53080849893e-15,1.58736505398]]"
       ]
      }
     ],
     "prompt_number": 16
    },
    {
     "cell_type": "code",
     "collapsed": false,
     "input": [
      "a*a"
     ],
     "language": "python",
     "metadata": {},
     "outputs": [
      {
       "html": [
        "[[24.99,39.69], [0.0,1.26]]"
       ],
       "latex": [
        "$[[24.99,39.69], [0.0,1.26]]$"
       ],
       "metadata": {},
       "output_type": "pyout",
       "prompt_number": 17,
       "text": [
        "CIntervalo [[24.99,39.69],[0.0,1.26]]"
       ]
      }
     ],
     "prompt_number": 17
    },
    {
     "cell_type": "code",
     "collapsed": false,
     "input": [
      "a.im/a.re"
     ],
     "language": "python",
     "metadata": {},
     "outputs": [
      {
       "metadata": {},
       "output_type": "pyout",
       "prompt_number": 12,
       "text": [
        "[Intervalo [-inf,inf], Intervalo [-inf,inf]]"
       ]
      }
     ],
     "prompt_number": 12
    },
    {
     "cell_type": "code",
     "collapsed": false,
     "input": [
      "a.arg()"
     ],
     "language": "python",
     "metadata": {},
     "outputs": [
      {
       "html": [
        "[[0,0], [[Intervalo [-1.57079632679,1.57079632679]\n",
        " Intervalo [-1.57079632679,1.57079632679]],[Intervalo [-1.57079632679,1.57079632679]\n",
        " Intervalo [-1.57079632679,1.57079632679]]]]"
       ],
       "latex": [
        "$[[0,0], [[Intervalo [-1.57079632679,1.57079632679]\n",
        " Intervalo [-1.57079632679,1.57079632679]],[Intervalo [-1.57079632679,1.57079632679]\n",
        " Intervalo [-1.57079632679,1.57079632679]]]]$"
       ],
       "metadata": {},
       "output_type": "pyout",
       "prompt_number": 10,
       "text": [
        "CIntervalo [[0,0],[[Intervalo [-1.57079632679,1.57079632679]\n",
        " Intervalo [-1.57079632679,1.57079632679]],[Intervalo [-1.57079632679,1.57079632679]\n",
        " Intervalo [-1.57079632679,1.57079632679]]]]"
       ]
      }
     ],
     "prompt_number": 10
    },
    {
     "cell_type": "code",
     "collapsed": false,
     "input": [
      "b=CIntervalo(-1,2)"
     ],
     "language": "python",
     "metadata": {},
     "outputs": [],
     "prompt_number": 3
    },
    {
     "cell_type": "code",
     "collapsed": false,
     "input": [
      "b/a"
     ],
     "language": "python",
     "metadata": {},
     "outputs": [
      {
       "output_type": "stream",
       "stream": "stdout",
       "text": [
        "Advertencia: El intervalo contiene el cero\n",
        "Advertencia: El intervalo contiene el cero\n"
       ]
      },
      {
       "html": [
        "[[0.0,&infin;], [-&infin;,&infin;]]"
       ],
       "latex": [
        "$[[0.0,inf], [-inf,inf]]$"
       ],
       "metadata": {},
       "output_type": "pyout",
       "prompt_number": 4,
       "text": [
        "CIntervalo [[0.0,inf],[-inf,inf]]"
       ]
      }
     ],
     "prompt_number": 4
    },
    {
     "cell_type": "code",
     "collapsed": false,
     "input": [
      "a*b"
     ],
     "language": "python",
     "metadata": {},
     "outputs": [
      {
       "html": [
        "[[-2,-2], [-1,-1]]"
       ],
       "latex": [
        "$[[-2,-2], [-1,-1]]$"
       ],
       "metadata": {},
       "output_type": "pyout",
       "prompt_number": 6,
       "text": [
        "CIntervalo [[-2,-2],[-1,-1]]"
       ]
      }
     ],
     "prompt_number": 6
    },
    {
     "cell_type": "code",
     "collapsed": false,
     "input": [
      "a+b"
     ],
     "language": "python",
     "metadata": {},
     "outputs": [
      {
       "html": [
        "[[-1,-1], [3,3]]"
       ],
       "latex": [
        "$[[-1,-1], [3,3]]$"
       ],
       "metadata": {},
       "output_type": "pyout",
       "prompt_number": 7,
       "text": [
        "CIntervalo [[-1,-1],[3,3]]"
       ]
      }
     ],
     "prompt_number": 7
    },
    {
     "cell_type": "code",
     "collapsed": false,
     "input": [
      "a/b"
     ],
     "language": "python",
     "metadata": {},
     "outputs": [
      {
       "html": [
        "[[1.3416407865,1.3416407865], [-0.4472135955,-0.4472135955]]"
       ],
       "latex": [
        "$[[1.3416407865,1.3416407865], [-0.4472135955,-0.4472135955]]$"
       ],
       "metadata": {},
       "output_type": "pyout",
       "prompt_number": 8,
       "text": [
        "CIntervalo [[1.3416407865,1.3416407865],[-0.4472135955,-0.4472135955]]"
       ]
      }
     ],
     "prompt_number": 8
    },
    {
     "cell_type": "code",
     "collapsed": false,
     "input": [
      "-a"
     ],
     "language": "python",
     "metadata": {},
     "outputs": [
      {
       "html": [
        "[[0,0], [-1,-1]]"
       ],
       "latex": [
        "$[[0,0], [-1,-1]]$"
       ],
       "metadata": {},
       "output_type": "pyout",
       "prompt_number": 8,
       "text": [
        "CIntervalo [[0,0],[-1,-1]]"
       ]
      }
     ],
     "prompt_number": 8
    },
    {
     "cell_type": "code",
     "collapsed": false,
     "input": [
      "a-b"
     ],
     "language": "python",
     "metadata": {},
     "outputs": [
      {
       "html": [
        "[[-1,-1], [-1,-1]]"
       ],
       "latex": [
        "$[[-1,-1], [-1,-1]]$"
       ],
       "metadata": {},
       "output_type": "pyout",
       "prompt_number": 9,
       "text": [
        "CIntervalo [[-1,-1],[-1,-1]]"
       ]
      }
     ],
     "prompt_number": 9
    },
    {
     "cell_type": "code",
     "collapsed": false,
     "input": [
      "a"
     ],
     "language": "python",
     "metadata": {},
     "outputs": [
      {
       "html": [
        "[[0,0], [1,1]]"
       ],
       "latex": [
        "$[[0,0], [1,1]]$"
       ],
       "metadata": {},
       "output_type": "pyout",
       "prompt_number": 9,
       "text": [
        "CIntervalo [[0,0],[1,1]]"
       ]
      }
     ],
     "prompt_number": 9
    },
    {
     "cell_type": "code",
     "collapsed": false,
     "input": [
      "b"
     ],
     "language": "python",
     "metadata": {},
     "outputs": [
      {
       "html": [
        "[[1,1], [2,2]]"
       ],
       "latex": [
        "$[[1,1], [2,2]]$"
       ],
       "metadata": {},
       "output_type": "pyout",
       "prompt_number": 10,
       "text": [
        "CIntervalo [[1,1],[2,2]]"
       ]
      }
     ],
     "prompt_number": 10
    },
    {
     "cell_type": "code",
     "collapsed": false,
     "input": [
      "a&b"
     ],
     "language": "python",
     "metadata": {},
     "outputs": [],
     "prompt_number": 5
    },
    {
     "cell_type": "code",
     "collapsed": false,
     "input": [
      "a=Intervalo(0,1)\n",
      "b=Intervalo(-1.0,1.0)\n",
      "c=a/b"
     ],
     "language": "python",
     "metadata": {},
     "outputs": [],
     "prompt_number": 2
    },
    {
     "cell_type": "code",
     "collapsed": false,
     "input": [
      "isinstance(c, list)\n",
      "    "
     ],
     "language": "python",
     "metadata": {},
     "outputs": [
      {
       "metadata": {},
       "output_type": "pyout",
       "prompt_number": 3,
       "text": [
        "True"
       ]
      }
     ],
     "prompt_number": 3
    },
    {
     "cell_type": "code",
     "collapsed": false,
     "input": [
      "c"
     ],
     "language": "python",
     "metadata": {},
     "outputs": [
      {
       "metadata": {},
       "output_type": "pyout",
       "prompt_number": 15,
       "text": [
        "array([Intervalo [-inf,-0.0], Intervalo [0.0,inf]], dtype=object)"
       ]
      }
     ],
     "prompt_number": 15
    },
    {
     "cell_type": "code",
     "collapsed": false,
     "input": [
      "0!=0"
     ],
     "language": "python",
     "metadata": {},
     "outputs": [
      {
       "metadata": {},
       "output_type": "pyout",
       "prompt_number": 20,
       "text": [
        "False"
       ]
      }
     ],
     "prompt_number": 20
    },
    {
     "cell_type": "code",
     "collapsed": false,
     "input": [],
     "language": "python",
     "metadata": {},
     "outputs": []
    }
   ],
   "metadata": {}
  }
 ]
}