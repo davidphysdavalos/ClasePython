{
 "metadata": {
  "name": ""
 },
 "nbformat": 3,
 "nbformat_minor": 0,
 "worksheets": [
  {
   "cells": [
    {
     "cell_type": "markdown",
     "metadata": {},
     "source": [
      "El exponente de Lyapunov se define como $$\\lambda(x_0)=\\lim_{N\\to \\infty}\\frac{1}{N}\\sum_{i=1}^{N}\\log \\left| f'(x_i) \\right|$$ el cual nos indica la sensibilidad a condiciones iniciales para un mapeo iterativo. Cuando $\\lambda>0$ \u00e9ste es una asignatura de caos."
     ]
    },
    {
     "cell_type": "code",
     "collapsed": false,
     "input": [
      "import numpy as np"
     ],
     "language": "python",
     "metadata": {},
     "outputs": [],
     "prompt_number": 1
    },
    {
     "cell_type": "code",
     "collapsed": false,
     "input": [
      "x=np.random.uniform(0,1,1);\n",
      "a=0;\n",
      "M=100000;\n",
      "for i in range(M):\n",
      "    x=x-(x**2 + 1)/(2*x);\n",
      "    y=np.log(np.abs((x**2 + 1)/(2*x**2)));\n",
      "    a=a+y;\n",
      "\n",
      "print a/M"
     ],
     "language": "python",
     "metadata": {},
     "outputs": [
      {
       "output_type": "stream",
       "stream": "stdout",
       "text": [
        "[ 0.69310727]\n"
       ]
      }
     ],
     "prompt_number": 11
    },
    {
     "cell_type": "code",
     "collapsed": false,
     "input": [],
     "language": "python",
     "metadata": {},
     "outputs": []
    }
   ],
   "metadata": {}
  }
 ]
}