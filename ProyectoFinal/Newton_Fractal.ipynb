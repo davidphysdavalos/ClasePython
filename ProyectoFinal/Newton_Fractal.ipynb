{
 "metadata": {
  "name": ""
 },
 "nbformat": 3,
 "nbformat_minor": 0,
 "worksheets": [
  {
   "cells": [
    {
     "cell_type": "heading",
     "level": 1,
     "metadata": {},
     "source": [
      "Fractal de Newton"
     ]
    },
    {
     "cell_type": "code",
     "collapsed": false,
     "input": [
      "import matplotlib.pyplot as plt\n",
      "import matplotlib.image as mpimg\n",
      "import numpy as np\n",
      "#%matplotlib inline"
     ],
     "language": "python",
     "metadata": {},
     "outputs": [],
     "prompt_number": 1
    },
    {
     "cell_type": "code",
     "collapsed": false,
     "input": [
      "def f(x):\n",
      "    \n",
      "    return x-(x**4-1.0)/(4*x**3)"
     ],
     "language": "python",
     "metadata": {},
     "outputs": [],
     "prompt_number": 2
    },
    {
     "cell_type": "code",
     "collapsed": false,
     "input": [
      "def iterator(x, f):\n",
      "    \n",
      "    for k in range(40):\n",
      "        x=f(x)\n",
      "        \n",
      "    return x"
     ],
     "language": "python",
     "metadata": {},
     "outputs": [],
     "prompt_number": 3
    },
    {
     "cell_type": "code",
     "collapsed": false,
     "input": [
      "A=np.zeros((2000,2000), dtype=complex)\n",
      "\n",
      "for i in range(-1000,1000):\n",
      "    \n",
      "    for j in range(-1000,1000):\n",
      "        \n",
      "        A[i,j]=i/500.0+j/500.0*1j"
     ],
     "language": "python",
     "metadata": {},
     "outputs": [],
     "prompt_number": 4
    },
    {
     "cell_type": "code",
     "collapsed": false,
     "input": [
      "B=iterator(A,f)"
     ],
     "language": "python",
     "metadata": {},
     "outputs": [],
     "prompt_number": 19
    },
    {
     "cell_type": "code",
     "collapsed": false,
     "input": [
      "for i in range(-1000,1000):\n",
      "    \n",
      "    for j in range(-1000,1000):\n",
      "        \n",
      "        \n",
      "        if B[i,j]==1.0 or B[i,j]==-1.0 or B[i,j]==1.0*1j or B[i,j]==-1.0*1j or B[i,j]==0:\n",
      "            \n",
      "            if B[i,j]==1.0*1j:\n",
      "                \n",
      "                B[i,j]=10.0\n",
      "                \n",
      "            if B[i,j]==-1.0*1j:\n",
      "                \n",
      "                B[i,j]=-10.0\n",
      "            \n",
      "        else:\n",
      "            \n",
      "            B[i,j]=20.0"
     ],
     "language": "python",
     "metadata": {},
     "outputs": [],
     "prompt_number": 20
    },
    {
     "cell_type": "code",
     "collapsed": false,
     "input": [
      "plt.figure()\n",
      "plt.contourf(B)\n",
      "plt.colorbar()\n",
      "plt.show()"
     ],
     "language": "python",
     "metadata": {},
     "outputs": [],
     "prompt_number": 21
    },
    {
     "cell_type": "code",
     "collapsed": false,
     "input": [],
     "language": "python",
     "metadata": {},
     "outputs": []
    }
   ],
   "metadata": {}
  }
 ]
}