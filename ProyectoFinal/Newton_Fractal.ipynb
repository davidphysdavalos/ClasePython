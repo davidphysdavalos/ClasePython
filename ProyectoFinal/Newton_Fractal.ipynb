{
 "metadata": {
  "name": ""
 },
 "nbformat": 3,
 "nbformat_minor": 0,
 "worksheets": [
  {
   "cells": [
    {
     "cell_type": "heading",
     "level": 1,
     "metadata": {},
     "source": [
      "Fractal de Newton"
     ]
    },
    {
     "cell_type": "code",
     "collapsed": false,
     "input": [
      "import matplotlib.pyplot as plt\n",
      "import numpy as np\n",
      "import sympy.mpmath as mp\n",
      "#%matplotlib inline"
     ],
     "language": "python",
     "metadata": {},
     "outputs": [],
     "prompt_number": 2
    },
    {
     "cell_type": "code",
     "collapsed": false,
     "input": [
      "def f(x):\n",
      "    \n",
      "    return x-(x**4-1.0)/(4*x**3)"
     ],
     "language": "python",
     "metadata": {},
     "outputs": [],
     "prompt_number": 4
    },
    {
     "cell_type": "code",
     "collapsed": false,
     "input": [
      "def iterator(x, f):\n",
      "    \n",
      "    for k in range(200):\n",
      "        x=f(x)\n",
      "        \n",
      "    return x"
     ],
     "language": "python",
     "metadata": {},
     "outputs": [],
     "prompt_number": 8
    },
    {
     "cell_type": "code",
     "collapsed": false,
     "input": [
      "A=np.zeros((2000,2000), dtype=complex)\n",
      "\n",
      "for i in range(-1000,1000):\n",
      "    \n",
      "    for j in range(-1000,1000):\n",
      "        \n",
      "        A[i,j]=i/500.0+j/500.0*1j"
     ],
     "language": "python",
     "metadata": {},
     "outputs": [],
     "prompt_number": 6
    },
    {
     "cell_type": "code",
     "collapsed": false,
     "input": [
      "B=iterator(A,f)"
     ],
     "language": "python",
     "metadata": {},
     "outputs": [],
     "prompt_number": 9
    },
    {
     "cell_type": "code",
     "collapsed": false,
     "input": [
      "B"
     ],
     "language": "python",
     "metadata": {},
     "outputs": [
      {
       "metadata": {},
       "output_type": "pyout",
       "prompt_number": 10,
       "text": [
        "array([[          nan         +nanj,    0.00000000  +1.j        ,\n",
        "           0.00000000  +1.j        , ...,    0.00000000  -1.j        ,\n",
        "           0.00000000  -1.j        ,    0.00000000  -1.j        ],\n",
        "       [   1.00000000  +0.j        , -783.09826260-783.0982626j ,\n",
        "          -1.00000000  +0.j        , ...,   -1.00000000  +0.j        ,\n",
        "          -1.00000000  +0.j        , -783.09826260+783.0982626j ],\n",
        "       [   1.00000000  +0.j        ,    0.00000000  -1.j        ,\n",
        "          92.05665013 +92.05665013j, ...,   -1.00000000  +0.j        ,\n",
        "          92.05665013 -92.05665013j,    0.00000000  +1.j        ],\n",
        "       ..., \n",
        "       [  -1.00000000  +0.j        ,    0.00000000  -1.j        ,\n",
        "           0.00000000  -1.j        , ...,   -2.11419122  -2.11419122j,\n",
        "           0.00000000  +1.j        ,    0.00000000  +1.j        ],\n",
        "       [  -1.00000000  +0.j        ,    0.00000000  -1.j        ,\n",
        "         -92.05665013 +92.05665013j, ...,    1.00000000  +0.j        ,\n",
        "         -92.05665013 -92.05665013j,    0.00000000  +1.j        ],\n",
        "       [  -1.00000000  +0.j        ,  783.09826260-783.0982626j ,\n",
        "           1.00000000  +0.j        , ...,    1.00000000  +0.j        ,\n",
        "           1.00000000  +0.j        ,  783.09826260+783.0982626j ]])"
       ]
      }
     ],
     "prompt_number": 10
    },
    {
     "cell_type": "code",
     "collapsed": false,
     "input": [
      "for i in range(-1000,1000):\n",
      "    \n",
      "    for j in range(-1000,1000):\n",
      "        \n",
      "        if B[i,j]==1.0*1j:\n",
      "            \n",
      "            B[i,j]=10.0\n",
      "                \n",
      "        if B[i,j]==-1.0*1j:\n",
      "                \n",
      "            B[i,j]=-10.0\n",
      "            \n",
      "        if abs(B[i,j])>=40.0:\n",
      "            \n",
      "            B[i,j]=20.0"
     ],
     "language": "python",
     "metadata": {},
     "outputs": [],
     "prompt_number": 13
    },
    {
     "cell_type": "code",
     "collapsed": false,
     "input": [
      "plt.figure()\n",
      "plt.contourf(B)\n",
      "plt.colorbar()\n",
      "plt.show()"
     ],
     "language": "python",
     "metadata": {},
     "outputs": [],
     "prompt_number": 15
    },
    {
     "cell_type": "code",
     "collapsed": false,
     "input": [],
     "language": "python",
     "metadata": {},
     "outputs": []
    }
   ],
   "metadata": {}
  }
 ]
}